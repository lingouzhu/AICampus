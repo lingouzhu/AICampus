{
 "cells": [
  {
   "cell_type": "code",
   "execution_count": 1,
   "metadata": {
    "ExecuteTime": {
     "end_time": "2021-05-12T22:51:53.461402Z",
     "start_time": "2021-05-12T22:51:44.705711Z"
    }
   },
   "outputs": [
    {
     "name": "stderr",
     "output_type": "stream",
     "text": [
      "In C:\\Users\\echawic\\AppData\\Local\\Continuum\\anaconda3\\lib\\site-packages\\matplotlib\\mpl-data\\stylelib\\_classic_test.mplstyle: \n",
      "The savefig.frameon rcparam was deprecated in Matplotlib 3.1 and will be removed in 3.3.\n",
      "In C:\\Users\\echawic\\AppData\\Local\\Continuum\\anaconda3\\lib\\site-packages\\matplotlib\\mpl-data\\stylelib\\_classic_test.mplstyle: \n",
      "The verbose.level rcparam was deprecated in Matplotlib 3.1 and will be removed in 3.3.\n",
      "In C:\\Users\\echawic\\AppData\\Local\\Continuum\\anaconda3\\lib\\site-packages\\matplotlib\\mpl-data\\stylelib\\_classic_test.mplstyle: \n",
      "The verbose.fileo rcparam was deprecated in Matplotlib 3.1 and will be removed in 3.3.\n"
     ]
    }
   ],
   "source": [
    "import pandas as pd\n",
    "import os\n",
    "import numpy as np\n",
    "import matplotlib.pyplot as plt\n",
    "import seaborn as sns\n",
    "\n",
    "pd.set_option('display.float_format', '{:20,.2f}'.format)\n",
    "pd.set_option('display.max_rows', 100)"
   ]
  },
  {
   "cell_type": "code",
   "execution_count": 2,
   "metadata": {
    "ExecuteTime": {
     "end_time": "2021-05-12T22:51:53.479954Z",
     "start_time": "2021-05-12T22:51:53.467261Z"
    }
   },
   "outputs": [],
   "source": [
    "def axs(w=5, h=5):\n",
    "    fig, ax = plt.subplots(figsize=(w, h))\n",
    "    return ax"
   ]
  },
  {
   "cell_type": "code",
   "execution_count": 3,
   "metadata": {
    "ExecuteTime": {
     "end_time": "2021-05-12T22:51:53.515084Z",
     "start_time": "2021-05-12T22:51:53.486784Z"
    }
   },
   "outputs": [
    {
     "data": {
      "text/plain": [
       "['dataset_1_radioTemperatures_20210303.csv',\n",
       " 'dataset_2_powerClass_20210303.csv',\n",
       " 'dataset_3_radioId_20210303.csv',\n",
       " 'Introduction to temperature data_version3.pptx']"
      ]
     },
     "execution_count": 3,
     "metadata": {},
     "output_type": "execute_result"
    }
   ],
   "source": [
    "path = 'C:/Users/echawic/OneDrive - Ericsson AB/SYNC/Learnings 2020/ADS camp 2021/usecase data'\n",
    "os.listdir(path)"
   ]
  },
  {
   "cell_type": "markdown",
   "metadata": {},
   "source": [
    "# radioTemperatures"
   ]
  },
  {
   "cell_type": "code",
   "execution_count": 4,
   "metadata": {
    "ExecuteTime": {
     "end_time": "2021-05-12T22:51:59.715606Z",
     "start_time": "2021-05-12T22:51:53.519963Z"
    }
   },
   "outputs": [
    {
     "name": "stdout",
     "output_type": "stream",
     "text": [
      "(3238259, 6)\n"
     ]
    }
   ],
   "source": [
    "radioTemp = pd.read_csv(os.path.join(path, 'dataset_1_radioTemperatures_20210303.csv'), sep=';')\n",
    "print(radioTemp.shape)"
   ]
  },
  {
   "cell_type": "code",
   "execution_count": 5,
   "metadata": {
    "ExecuteTime": {
     "end_time": "2021-05-12T22:51:59.755623Z",
     "start_time": "2021-05-12T22:51:59.719524Z"
    }
   },
   "outputs": [
    {
     "data": {
      "text/html": [
       "<div>\n",
       "<style scoped>\n",
       "    .dataframe tbody tr th:only-of-type {\n",
       "        vertical-align: middle;\n",
       "    }\n",
       "\n",
       "    .dataframe tbody tr th {\n",
       "        vertical-align: top;\n",
       "    }\n",
       "\n",
       "    .dataframe thead th {\n",
       "        text-align: right;\n",
       "    }\n",
       "</style>\n",
       "<table border=\"1\" class=\"dataframe\">\n",
       "  <thead>\n",
       "    <tr style=\"text-align: right;\">\n",
       "      <th></th>\n",
       "      <th>id_field_values</th>\n",
       "      <th>id_ftp</th>\n",
       "      <th>id_audit</th>\n",
       "      <th>value</th>\n",
       "      <th>unit</th>\n",
       "      <th>field</th>\n",
       "    </tr>\n",
       "  </thead>\n",
       "  <tbody>\n",
       "    <tr>\n",
       "      <th>0</th>\n",
       "      <td>41310</td>\n",
       "      <td>108</td>\n",
       "      <td>147</td>\n",
       "      <td>23.50</td>\n",
       "      <td>C</td>\n",
       "      <td>TSensor_D4_</td>\n",
       "    </tr>\n",
       "    <tr>\n",
       "      <th>1</th>\n",
       "      <td>41311</td>\n",
       "      <td>108</td>\n",
       "      <td>147</td>\n",
       "      <td>23.80</td>\n",
       "      <td>C</td>\n",
       "      <td>TSensor_D5_</td>\n",
       "    </tr>\n",
       "    <tr>\n",
       "      <th>2</th>\n",
       "      <td>41312</td>\n",
       "      <td>108</td>\n",
       "      <td>147</td>\n",
       "      <td>26.30</td>\n",
       "      <td>C</td>\n",
       "      <td>TSensor_D6_</td>\n",
       "    </tr>\n",
       "    <tr>\n",
       "      <th>3</th>\n",
       "      <td>41313</td>\n",
       "      <td>108</td>\n",
       "      <td>147</td>\n",
       "      <td>23.50</td>\n",
       "      <td>C</td>\n",
       "      <td>TSensor_D8_</td>\n",
       "    </tr>\n",
       "    <tr>\n",
       "      <th>4</th>\n",
       "      <td>41314</td>\n",
       "      <td>108</td>\n",
       "      <td>147</td>\n",
       "      <td>23.00</td>\n",
       "      <td>C</td>\n",
       "      <td>TSensor_D9_</td>\n",
       "    </tr>\n",
       "    <tr>\n",
       "      <th>5</th>\n",
       "      <td>41315</td>\n",
       "      <td>108</td>\n",
       "      <td>147</td>\n",
       "      <td>23.00</td>\n",
       "      <td>C</td>\n",
       "      <td>TSensor_D10_</td>\n",
       "    </tr>\n",
       "    <tr>\n",
       "      <th>6</th>\n",
       "      <td>41316</td>\n",
       "      <td>108</td>\n",
       "      <td>147</td>\n",
       "      <td>31.20</td>\n",
       "      <td>C</td>\n",
       "      <td>TSensor_D18_</td>\n",
       "    </tr>\n",
       "    <tr>\n",
       "      <th>7</th>\n",
       "      <td>41317</td>\n",
       "      <td>108</td>\n",
       "      <td>147</td>\n",
       "      <td>27.30</td>\n",
       "      <td>C</td>\n",
       "      <td>TSensor_D19_</td>\n",
       "    </tr>\n",
       "    <tr>\n",
       "      <th>8</th>\n",
       "      <td>41318</td>\n",
       "      <td>108</td>\n",
       "      <td>147</td>\n",
       "      <td>22.50</td>\n",
       "      <td>C</td>\n",
       "      <td>TSensor_P23_</td>\n",
       "    </tr>\n",
       "    <tr>\n",
       "      <th>9</th>\n",
       "      <td>41319</td>\n",
       "      <td>108</td>\n",
       "      <td>147</td>\n",
       "      <td>22.50</td>\n",
       "      <td>C</td>\n",
       "      <td>TSensor_P24_</td>\n",
       "    </tr>\n",
       "  </tbody>\n",
       "</table>\n",
       "</div>"
      ],
      "text/plain": [
       "   id_field_values  id_ftp  id_audit                value unit         field\n",
       "0            41310     108       147                23.50    C   TSensor_D4_\n",
       "1            41311     108       147                23.80    C   TSensor_D5_\n",
       "2            41312     108       147                26.30    C   TSensor_D6_\n",
       "3            41313     108       147                23.50    C   TSensor_D8_\n",
       "4            41314     108       147                23.00    C   TSensor_D9_\n",
       "5            41315     108       147                23.00    C  TSensor_D10_\n",
       "6            41316     108       147                31.20    C  TSensor_D18_\n",
       "7            41317     108       147                27.30    C  TSensor_D19_\n",
       "8            41318     108       147                22.50    C  TSensor_P23_\n",
       "9            41319     108       147                22.50    C  TSensor_P24_"
      ]
     },
     "execution_count": 5,
     "metadata": {},
     "output_type": "execute_result"
    }
   ],
   "source": [
    "radioTemp.head(10)"
   ]
  },
  {
   "cell_type": "code",
   "execution_count": 82,
   "metadata": {
    "ExecuteTime": {
     "end_time": "2021-05-07T01:03:41.354723Z",
     "start_time": "2021-05-07T01:03:41.299181Z"
    }
   },
   "outputs": [
    {
     "data": {
      "text/html": [
       "<div>\n",
       "<style scoped>\n",
       "    .dataframe tbody tr th:only-of-type {\n",
       "        vertical-align: middle;\n",
       "    }\n",
       "\n",
       "    .dataframe tbody tr th {\n",
       "        vertical-align: top;\n",
       "    }\n",
       "\n",
       "    .dataframe thead th {\n",
       "        text-align: right;\n",
       "    }\n",
       "</style>\n",
       "<table border=\"1\" class=\"dataframe\">\n",
       "  <thead>\n",
       "    <tr style=\"text-align: right;\">\n",
       "      <th></th>\n",
       "      <th>id_field_values</th>\n",
       "      <th>id_ftp</th>\n",
       "      <th>id_audit</th>\n",
       "      <th>value</th>\n",
       "      <th>unit</th>\n",
       "      <th>field</th>\n",
       "    </tr>\n",
       "  </thead>\n",
       "  <tbody>\n",
       "    <tr>\n",
       "      <th>5746</th>\n",
       "      <td>3601253</td>\n",
       "      <td>11161</td>\n",
       "      <td>14911</td>\n",
       "      <td>nan</td>\n",
       "      <td>Error: Command unsupported</td>\n",
       "      <td>TSensor_N22_</td>\n",
       "    </tr>\n",
       "    <tr>\n",
       "      <th>66625</th>\n",
       "      <td>152082209</td>\n",
       "      <td>540297</td>\n",
       "      <td>970545</td>\n",
       "      <td>nan</td>\n",
       "      <td>Error: Command unsupported</td>\n",
       "      <td>TSensor_N22_</td>\n",
       "    </tr>\n",
       "    <tr>\n",
       "      <th>78742</th>\n",
       "      <td>153232258</td>\n",
       "      <td>544141</td>\n",
       "      <td>974332</td>\n",
       "      <td>nan</td>\n",
       "      <td>Error: Command unsupported</td>\n",
       "      <td>TSensor_N22_</td>\n",
       "    </tr>\n",
       "    <tr>\n",
       "      <th>104451</th>\n",
       "      <td>156448026</td>\n",
       "      <td>557889</td>\n",
       "      <td>987104</td>\n",
       "      <td>nan</td>\n",
       "      <td>Error: Command unsupported</td>\n",
       "      <td>TSensor_N22_</td>\n",
       "    </tr>\n",
       "    <tr>\n",
       "      <th>123160</th>\n",
       "      <td>91030479</td>\n",
       "      <td>291842</td>\n",
       "      <td>669476</td>\n",
       "      <td>nan</td>\n",
       "      <td>Error: Command unsupported</td>\n",
       "      <td>TSensor_N22_</td>\n",
       "    </tr>\n",
       "    <tr>\n",
       "      <th>...</th>\n",
       "      <td>...</td>\n",
       "      <td>...</td>\n",
       "      <td>...</td>\n",
       "      <td>...</td>\n",
       "      <td>...</td>\n",
       "      <td>...</td>\n",
       "    </tr>\n",
       "    <tr>\n",
       "      <th>3232746</th>\n",
       "      <td>335586327</td>\n",
       "      <td>2516931</td>\n",
       "      <td>1966446</td>\n",
       "      <td>nan</td>\n",
       "      <td>Error: Command unsupported</td>\n",
       "      <td>TSensor_N22_</td>\n",
       "    </tr>\n",
       "    <tr>\n",
       "      <th>3232969</th>\n",
       "      <td>335587058</td>\n",
       "      <td>2516931</td>\n",
       "      <td>1966447</td>\n",
       "      <td>nan</td>\n",
       "      <td>Error: Command unsupported</td>\n",
       "      <td>TSensor_N22_</td>\n",
       "    </tr>\n",
       "    <tr>\n",
       "      <th>3237824</th>\n",
       "      <td>335578808</td>\n",
       "      <td>2516953</td>\n",
       "      <td>1966394</td>\n",
       "      <td>nan</td>\n",
       "      <td>Error: Command unsupported</td>\n",
       "      <td>TSensor_N22_</td>\n",
       "    </tr>\n",
       "    <tr>\n",
       "      <th>3237825</th>\n",
       "      <td>335579465</td>\n",
       "      <td>2516948</td>\n",
       "      <td>1966406</td>\n",
       "      <td>nan</td>\n",
       "      <td>Error: Command unsupported</td>\n",
       "      <td>TSensor_N22_</td>\n",
       "    </tr>\n",
       "    <tr>\n",
       "      <th>3237826</th>\n",
       "      <td>335579470</td>\n",
       "      <td>2516953</td>\n",
       "      <td>1966395</td>\n",
       "      <td>nan</td>\n",
       "      <td>Error: Command unsupported</td>\n",
       "      <td>TSensor_N22_</td>\n",
       "    </tr>\n",
       "  </tbody>\n",
       "</table>\n",
       "<p>641 rows × 6 columns</p>\n",
       "</div>"
      ],
      "text/plain": [
       "         id_field_values   id_ftp  id_audit                value  \\\n",
       "5746             3601253    11161     14911                  nan   \n",
       "66625          152082209   540297    970545                  nan   \n",
       "78742          153232258   544141    974332                  nan   \n",
       "104451         156448026   557889    987104                  nan   \n",
       "123160          91030479   291842    669476                  nan   \n",
       "...                  ...      ...       ...                  ...   \n",
       "3232746        335586327  2516931   1966446                  nan   \n",
       "3232969        335587058  2516931   1966447                  nan   \n",
       "3237824        335578808  2516953   1966394                  nan   \n",
       "3237825        335579465  2516948   1966406                  nan   \n",
       "3237826        335579470  2516953   1966395                  nan   \n",
       "\n",
       "                               unit         field  \n",
       "5746     Error: Command unsupported  TSensor_N22_  \n",
       "66625    Error: Command unsupported  TSensor_N22_  \n",
       "78742    Error: Command unsupported  TSensor_N22_  \n",
       "104451   Error: Command unsupported  TSensor_N22_  \n",
       "123160   Error: Command unsupported  TSensor_N22_  \n",
       "...                             ...           ...  \n",
       "3232746  Error: Command unsupported  TSensor_N22_  \n",
       "3232969  Error: Command unsupported  TSensor_N22_  \n",
       "3237824  Error: Command unsupported  TSensor_N22_  \n",
       "3237825  Error: Command unsupported  TSensor_N22_  \n",
       "3237826  Error: Command unsupported  TSensor_N22_  \n",
       "\n",
       "[641 rows x 6 columns]"
      ]
     },
     "execution_count": 82,
     "metadata": {},
     "output_type": "execute_result"
    }
   ],
   "source": [
    "radioTemp[radioTemp.value.isna()]"
   ]
  },
  {
   "cell_type": "markdown",
   "metadata": {},
   "source": [
    "<font color='red'>visualize</font>"
   ]
  },
  {
   "cell_type": "code",
   "execution_count": 14,
   "metadata": {
    "ExecuteTime": {
     "end_time": "2021-05-06T22:46:01.072682Z",
     "start_time": "2021-05-06T22:45:59.148580Z"
    },
    "scrolled": true
   },
   "outputs": [
    {
     "data": {
      "image/png": "[encoded data removed]",
      "text/plain": [
       "<Figure size 1440x216 with 1 Axes>"
      ]
     },
     "metadata": {
      "needs_background": "light"
     },
     "output_type": "display_data"
    }
   ],
   "source": [
    "fig, ax = plt.subplots(figsize=(20,3))\n",
    "counts = radioTemp.field.value_counts()\n",
    "sns.barplot(counts.index, counts.values, palette='Blues')\n",
    "ax.set_yscale('log')\n",
    "ax.set_title('Temperature value counts per sensors')\n",
    "ax.set_xticklabels(ax.get_xticklabels(), rotation=90, fontsize=8, ha='right')\n",
    "plt.show()"
   ]
  },
  {
   "cell_type": "code",
   "execution_count": 15,
   "metadata": {
    "ExecuteTime": {
     "end_time": "2021-05-06T22:46:05.566826Z",
     "start_time": "2021-05-06T22:46:03.583667Z"
    },
    "code_folding": [],
    "scrolled": false
   },
   "outputs": [
    {
     "data": {
      "image/png": "[encoded data removed]",
      "text/plain": [
       "<Figure size 1440x360 with 1 Axes>"
      ]
     },
     "metadata": {
      "needs_background": "light"
     },
     "output_type": "display_data"
    }
   ],
   "source": [
    "# box\n",
    "fig = plt.figure(figsize=(20,5))\n",
    "fig.add_subplot()\n",
    "sns.boxplot(\n",
    "    data=radioTemp,\n",
    "    x='field',\n",
    "    y='value',\n",
    "    order=counts.index,\n",
    "    color='limegreen',\n",
    "    showfliers=True,\n",
    ")\n",
    "ax = fig.axes[0]\n",
    "# ax.set_yscale('log')\n",
    "ax.grid(True)\n",
    "ax.set_title('Temperature distribution of sensors (C)')\n",
    "ax.set_ylim(-200, 300)\n",
    "ax.set_xticklabels(ax.get_xticklabels(), rotation=90, fontsize=8, ha='right')\n",
    "plt.show()"
   ]
  },
  {
   "cell_type": "markdown",
   "metadata": {},
   "source": [
    "<font color='red'>id_audit in all data tables have same value range. i.e. can be used to merge them.</font>"
   ]
  },
  {
   "cell_type": "code",
   "execution_count": 16,
   "metadata": {
    "ExecuteTime": {
     "end_time": "2021-05-06T22:46:06.347800Z",
     "start_time": "2021-05-06T22:46:06.160040Z"
    }
   },
   "outputs": [
    {
     "data": {
      "text/plain": [
       "count           3,238,259.00\n",
       "mean            1,289,589.72\n",
       "std               308,512.33\n",
       "min                    21.00\n",
       "25%             1,058,451.00\n",
       "50%             1,302,291.00\n",
       "75%             1,511,792.00\n",
       "max             1,972,937.00\n",
       "Name: id_audit, dtype: float64"
      ]
     },
     "execution_count": 16,
     "metadata": {},
     "output_type": "execute_result"
    }
   ],
   "source": [
    "radioTemp.id_audit.describe()"
   ]
  },
  {
   "cell_type": "markdown",
   "metadata": {},
   "source": [
    "<font color='red'>keeping only columns with large amounts of values</font>"
   ]
  },
  {
   "cell_type": "code",
   "execution_count": 6,
   "metadata": {
    "ExecuteTime": {
     "end_time": "2021-05-12T22:53:18.372925Z",
     "start_time": "2021-05-12T22:53:17.172447Z"
    }
   },
   "outputs": [],
   "source": [
    "tmp = radioTemp.field.value_counts()\n",
    "tmp = tmp[tmp> 100].index\n",
    "tmp = radioTemp[radioTemp.field.isin(tmp)]"
   ]
  },
  {
   "cell_type": "code",
   "execution_count": 7,
   "metadata": {
    "ExecuteTime": {
     "end_time": "2021-05-12T22:53:25.024362Z",
     "start_time": "2021-05-12T22:53:20.199997Z"
    }
   },
   "outputs": [
    {
     "data": {
      "text/html": [
       "<div>\n",
       "<style scoped>\n",
       "    .dataframe tbody tr th:only-of-type {\n",
       "        vertical-align: middle;\n",
       "    }\n",
       "\n",
       "    .dataframe tbody tr th {\n",
       "        vertical-align: top;\n",
       "    }\n",
       "\n",
       "    .dataframe thead th {\n",
       "        text-align: right;\n",
       "    }\n",
       "</style>\n",
       "<table border=\"1\" class=\"dataframe\">\n",
       "  <thead>\n",
       "    <tr style=\"text-align: right;\">\n",
       "      <th>field</th>\n",
       "      <th>TSensor_D10_</th>\n",
       "      <th>TSensor_D18_</th>\n",
       "      <th>TSensor_D19_</th>\n",
       "      <th>TSensor_D4_</th>\n",
       "      <th>TSensor_D5_</th>\n",
       "      <th>TSensor_D6_</th>\n",
       "      <th>TSensor_D8_</th>\n",
       "      <th>TSensor_D9_</th>\n",
       "      <th>TSensor_P23_</th>\n",
       "      <th>TSensor_P24_</th>\n",
       "      <th>...</th>\n",
       "      <th>TSensor_T61_</th>\n",
       "      <th>TSensor_T62_</th>\n",
       "      <th>TSensor_T65_</th>\n",
       "      <th>TSensor_T66_</th>\n",
       "      <th>TSensor_T67_</th>\n",
       "      <th>TSensor_T68_</th>\n",
       "      <th>TSensor_T69_</th>\n",
       "      <th>TSensor_T70_</th>\n",
       "      <th>TSensor_T71_</th>\n",
       "      <th>TSensor_T72_</th>\n",
       "    </tr>\n",
       "    <tr>\n",
       "      <th>id_audit</th>\n",
       "      <th></th>\n",
       "      <th></th>\n",
       "      <th></th>\n",
       "      <th></th>\n",
       "      <th></th>\n",
       "      <th></th>\n",
       "      <th></th>\n",
       "      <th></th>\n",
       "      <th></th>\n",
       "      <th></th>\n",
       "      <th></th>\n",
       "      <th></th>\n",
       "      <th></th>\n",
       "      <th></th>\n",
       "      <th></th>\n",
       "      <th></th>\n",
       "      <th></th>\n",
       "      <th></th>\n",
       "      <th></th>\n",
       "      <th></th>\n",
       "      <th></th>\n",
       "    </tr>\n",
       "  </thead>\n",
       "  <tbody>\n",
       "    <tr>\n",
       "      <th>21</th>\n",
       "      <td>30.50</td>\n",
       "      <td>33.60</td>\n",
       "      <td>34.60</td>\n",
       "      <td>25.00</td>\n",
       "      <td>24.00</td>\n",
       "      <td>28.50</td>\n",
       "      <td>28.30</td>\n",
       "      <td>25.80</td>\n",
       "      <td>25.50</td>\n",
       "      <td>25.00</td>\n",
       "      <td>...</td>\n",
       "      <td>31.00</td>\n",
       "      <td>31.00</td>\n",
       "      <td>25.50</td>\n",
       "      <td>25.00</td>\n",
       "      <td>24.50</td>\n",
       "      <td>23.50</td>\n",
       "      <td>32.00</td>\n",
       "      <td>33.50</td>\n",
       "      <td>33.50</td>\n",
       "      <td>31.00</td>\n",
       "    </tr>\n",
       "    <tr>\n",
       "      <th>23</th>\n",
       "      <td>52.30</td>\n",
       "      <td>55.00</td>\n",
       "      <td>55.50</td>\n",
       "      <td>45.00</td>\n",
       "      <td>45.50</td>\n",
       "      <td>48.00</td>\n",
       "      <td>45.50</td>\n",
       "      <td>45.80</td>\n",
       "      <td>57.00</td>\n",
       "      <td>60.50</td>\n",
       "      <td>...</td>\n",
       "      <td>57.00</td>\n",
       "      <td>57.00</td>\n",
       "      <td>56.50</td>\n",
       "      <td>60.50</td>\n",
       "      <td>62.00</td>\n",
       "      <td>59.50</td>\n",
       "      <td>54.50</td>\n",
       "      <td>59.00</td>\n",
       "      <td>58.00</td>\n",
       "      <td>57.00</td>\n",
       "    </tr>\n",
       "    <tr>\n",
       "      <th>25</th>\n",
       "      <td>56.00</td>\n",
       "      <td>65.70</td>\n",
       "      <td>59.40</td>\n",
       "      <td>52.80</td>\n",
       "      <td>53.80</td>\n",
       "      <td>59.00</td>\n",
       "      <td>50.50</td>\n",
       "      <td>50.50</td>\n",
       "      <td>70.50</td>\n",
       "      <td>73.60</td>\n",
       "      <td>...</td>\n",
       "      <td>62.50</td>\n",
       "      <td>62.50</td>\n",
       "      <td>70.50</td>\n",
       "      <td>73.60</td>\n",
       "      <td>72.10</td>\n",
       "      <td>67.30</td>\n",
       "      <td>60.50</td>\n",
       "      <td>63.00</td>\n",
       "      <td>63.00</td>\n",
       "      <td>62.50</td>\n",
       "    </tr>\n",
       "    <tr>\n",
       "      <th>147</th>\n",
       "      <td>23.00</td>\n",
       "      <td>31.20</td>\n",
       "      <td>27.30</td>\n",
       "      <td>23.50</td>\n",
       "      <td>23.80</td>\n",
       "      <td>26.30</td>\n",
       "      <td>23.50</td>\n",
       "      <td>23.00</td>\n",
       "      <td>22.50</td>\n",
       "      <td>22.50</td>\n",
       "      <td>...</td>\n",
       "      <td>20.50</td>\n",
       "      <td>20.50</td>\n",
       "      <td>23.00</td>\n",
       "      <td>22.50</td>\n",
       "      <td>23.00</td>\n",
       "      <td>21.50</td>\n",
       "      <td>21.00</td>\n",
       "      <td>21.50</td>\n",
       "      <td>21.00</td>\n",
       "      <td>21.50</td>\n",
       "    </tr>\n",
       "    <tr>\n",
       "      <th>746</th>\n",
       "      <td>36.00</td>\n",
       "      <td>46.30</td>\n",
       "      <td>39.90</td>\n",
       "      <td>37.00</td>\n",
       "      <td>36.30</td>\n",
       "      <td>35.80</td>\n",
       "      <td>31.80</td>\n",
       "      <td>31.30</td>\n",
       "      <td>39.50</td>\n",
       "      <td>46.50</td>\n",
       "      <td>...</td>\n",
       "      <td>38.00</td>\n",
       "      <td>38.00</td>\n",
       "      <td>39.50</td>\n",
       "      <td>46.50</td>\n",
       "      <td>46.50</td>\n",
       "      <td>43.50</td>\n",
       "      <td>36.50</td>\n",
       "      <td>39.00</td>\n",
       "      <td>39.00</td>\n",
       "      <td>38.00</td>\n",
       "    </tr>\n",
       "  </tbody>\n",
       "</table>\n",
       "<p>5 rows × 48 columns</p>\n",
       "</div>"
      ],
      "text/plain": [
       "field            TSensor_D10_         TSensor_D18_         TSensor_D19_  \\\n",
       "id_audit                                                                  \n",
       "21                      30.50                33.60                34.60   \n",
       "23                      52.30                55.00                55.50   \n",
       "25                      56.00                65.70                59.40   \n",
       "147                     23.00                31.20                27.30   \n",
       "746                     36.00                46.30                39.90   \n",
       "\n",
       "field             TSensor_D4_          TSensor_D5_          TSensor_D6_  \\\n",
       "id_audit                                                                  \n",
       "21                      25.00                24.00                28.50   \n",
       "23                      45.00                45.50                48.00   \n",
       "25                      52.80                53.80                59.00   \n",
       "147                     23.50                23.80                26.30   \n",
       "746                     37.00                36.30                35.80   \n",
       "\n",
       "field             TSensor_D8_          TSensor_D9_         TSensor_P23_  \\\n",
       "id_audit                                                                  \n",
       "21                      28.30                25.80                25.50   \n",
       "23                      45.50                45.80                57.00   \n",
       "25                      50.50                50.50                70.50   \n",
       "147                     23.50                23.00                22.50   \n",
       "746                     31.80                31.30                39.50   \n",
       "\n",
       "field            TSensor_P24_  ...         TSensor_T61_         TSensor_T62_  \\\n",
       "id_audit                       ...                                             \n",
       "21                      25.00  ...                31.00                31.00   \n",
       "23                      60.50  ...                57.00                57.00   \n",
       "25                      73.60  ...                62.50                62.50   \n",
       "147                     22.50  ...                20.50                20.50   \n",
       "746                     46.50  ...                38.00                38.00   \n",
       "\n",
       "field            TSensor_T65_         TSensor_T66_         TSensor_T67_  \\\n",
       "id_audit                                                                  \n",
       "21                      25.50                25.00                24.50   \n",
       "23                      56.50                60.50                62.00   \n",
       "25                      70.50                73.60                72.10   \n",
       "147                     23.00                22.50                23.00   \n",
       "746                     39.50                46.50                46.50   \n",
       "\n",
       "field            TSensor_T68_         TSensor_T69_         TSensor_T70_  \\\n",
       "id_audit                                                                  \n",
       "21                      23.50                32.00                33.50   \n",
       "23                      59.50                54.50                59.00   \n",
       "25                      67.30                60.50                63.00   \n",
       "147                     21.50                21.00                21.50   \n",
       "746                     43.50                36.50                39.00   \n",
       "\n",
       "field            TSensor_T71_         TSensor_T72_  \n",
       "id_audit                                            \n",
       "21                      33.50                31.00  \n",
       "23                      58.00                57.00  \n",
       "25                      63.00                62.50  \n",
       "147                     21.00                21.50  \n",
       "746                     39.00                38.00  \n",
       "\n",
       "[5 rows x 48 columns]"
      ]
     },
     "execution_count": 7,
     "metadata": {},
     "output_type": "execute_result"
    }
   ],
   "source": [
    "tmp = tmp.pivot_table(index=['id_audit'], columns=['field'], values=['value']).xs('value', axis=1)\n",
    "tmp.head()"
   ]
  },
  {
   "cell_type": "markdown",
   "metadata": {},
   "source": [
    "<font color='red'>temperature data seem highly correlated to eachother</font>"
   ]
  },
  {
   "cell_type": "code",
   "execution_count": 44,
   "metadata": {
    "ExecuteTime": {
     "end_time": "2021-05-06T23:14:42.387567Z",
     "start_time": "2021-05-06T23:14:38.178540Z"
    },
    "scrolled": true
   },
   "outputs": [
    {
     "data": {
      "text/plain": [
       "<matplotlib.axes._subplots.AxesSubplot at 0x2618a97fc50>"
      ]
     },
     "execution_count": 44,
     "metadata": {},
     "output_type": "execute_result"
    },
    {
     "data": {
      "image/png": "[encoded data removed]",
      "text/plain": [
       "<Figure size 1440x1080 with 2 Axes>"
      ]
     },
     "metadata": {
      "needs_background": "light"
     },
     "output_type": "display_data"
    }
   ],
   "source": [
    "sns.heatmap(data=tmp.corr(min_periods=100), ax=axs(20, 15), center=0.9, vmin=0.8, cmap='RdBu_r')"
   ]
  },
  {
   "cell_type": "markdown",
   "metadata": {},
   "source": [
    "<font color='red'> plot inter relationship of sensors </font>"
   ]
  },
  {
   "cell_type": "markdown",
   "metadata": {},
   "source": [
    "plotting the most correlated sensors"
   ]
  },
  {
   "cell_type": "code",
   "execution_count": 9,
   "metadata": {
    "ExecuteTime": {
     "end_time": "2021-05-12T22:55:15.911364Z",
     "start_time": "2021-05-12T22:55:12.154709Z"
    }
   },
   "outputs": [],
   "source": [
    "corr = tmp.corr()\n",
    "\n",
    "cols = corr.columns\n",
    "corrmap = {}\n",
    "for s in corr.index:\n",
    "    ser = corr.loc[s,[c for c in cols if c!=s]]\n",
    "    argmax = ser.argmax()\n",
    "    corrmap[s] = {\n",
    "        'sensor': ser.index[argmax],\n",
    "        'val': ser.iloc[argmax]\n",
    "    }\n",
    "    \n",
    "\n",
    "blocked_keys = []\n",
    "for i in range(len(corrmap)):\n",
    "    for k in corrmap:\n",
    "        blocked_keys.append(k)\n",
    "        s = corrmap[k]['sensor']\n",
    "        if s in corrmap and s not in blocked_keys:\n",
    "            del corrmap[s]\n",
    "            break\n",
    "\n",
    "len(corrmap)"
   ]
  },
  {
   "cell_type": "code",
   "execution_count": 82,
   "metadata": {
    "ExecuteTime": {
     "end_time": "2021-05-13T02:25:30.721767Z",
     "start_time": "2021-05-13T02:25:26.661337Z"
    },
    "scrolled": false
   },
   "outputs": [
    {
     "data": {
      "image/png": "[encoded data removed]",
      "text/plain": [
       "<Figure size 1080x1080 with 36 Axes>"
      ]
     },
     "metadata": {
      "needs_background": "light"
     },
     "output_type": "display_data"
    }
   ],
   "source": [
    "fig, ax = plt.subplots(6, 6, figsize=(15,15))\n",
    "ax = np.ravel(ax)\n",
    "n=0\n",
    "for k, v in corrmap.items():\n",
    "    col1 = k; col2 = v['sensor']\n",
    "    ax[n].scatter(tmp[col1], tmp[col2], s=1)\n",
    "    ax[n].set(xlabel=col1, ylabel=col2,\n",
    "              xlim=(-40, 120), ylim=(-40, 120))\n",
    "    n+=1\n",
    "plt.show()"
   ]
  },
  {
   "cell_type": "markdown",
   "metadata": {},
   "source": [
    "## clustering - DBSCAN - for outlier detection"
   ]
  },
  {
   "cell_type": "markdown",
   "metadata": {},
   "source": [
    "cluster 2 features"
   ]
  },
  {
   "cell_type": "code",
   "execution_count": 81,
   "metadata": {
    "ExecuteTime": {
     "end_time": "2021-05-13T02:15:09.145426Z",
     "start_time": "2021-05-13T02:15:07.449909Z"
    }
   },
   "outputs": [
    {
     "data": {
      "text/plain": [
       "[(-40.0, 120.0), (-40.0, 120.0)]"
      ]
     },
     "execution_count": 81,
     "metadata": {},
     "output_type": "execute_result"
    },
    {
     "data": {
      "image/png": "[encoded data removed]",
      "text/plain": [
       "<Figure size 360x360 with 1 Axes>"
      ]
     },
     "metadata": {
      "needs_background": "light"
     },
     "output_type": "display_data"
    }
   ],
   "source": [
    "col1 = 'TSensor_P24_'; col2 = 'TSensor_P31_'\n",
    "ax = axs()\n",
    "ax.scatter(tmp[col1], tmp[col2], s=2)\n",
    "ax.grid(True)\n",
    "ax.set(xlim=(-40, 120), ylim=(-40, 120))"
   ]
  },
  {
   "cell_type": "code",
   "execution_count": 72,
   "metadata": {
    "ExecuteTime": {
     "end_time": "2021-05-13T02:06:18.483242Z",
     "start_time": "2021-05-13T02:06:18.437335Z"
    }
   },
   "outputs": [],
   "source": [
    "from sklearn.cluster import DBSCAN\n",
    "from sklearn.impute import SimpleImputer\n",
    "from sklearn.preprocessing import StandardScaler\n",
    "\n",
    "imputer = SimpleImputer(missing_values=np.nan, strategy='median')\n",
    "tmp1 = imputer.fit_transform(tmp[[col1, col2]])\n",
    "\n",
    "# std = StandardScaler()\n",
    "# tmp1 = std.fit_transform(tmp1)"
   ]
  },
  {
   "cell_type": "code",
   "execution_count": 78,
   "metadata": {
    "ExecuteTime": {
     "end_time": "2021-05-13T02:13:33.326538Z",
     "start_time": "2021-05-13T02:11:01.906983Z"
    }
   },
   "outputs": [],
   "source": [
    "db = DBSCAN(eps=10, min_samples=10, n_jobs=4).fit(tmp1)\n",
    "\n",
    "labels, counts = np.unique(db.labels_, return_counts=True)\n",
    "list(zip(labels, counts))"
   ]
  },
  {
   "cell_type": "code",
   "execution_count": 80,
   "metadata": {
    "ExecuteTime": {
     "end_time": "2021-05-13T02:13:35.321480Z",
     "start_time": "2021-05-13T02:13:33.520761Z"
    }
   },
   "outputs": [
    {
     "data": {
      "text/plain": [
       "<matplotlib.legend.Legend at 0x278842b0908>"
      ]
     },
     "execution_count": 80,
     "metadata": {},
     "output_type": "execute_result"
    },
    {
     "data": {
      "image/png": "[encoded data removed]",
      "text/plain": [
       "<Figure size 360x360 with 1 Axes>"
      ]
     },
     "metadata": {
      "needs_background": "light"
     },
     "output_type": "display_data"
    }
   ],
   "source": [
    "clr = [plt.cm.nipy_spectral(x) for x in np.linspace(0, 1, num=len(labels))]\n",
    "ax = axs()\n",
    "for c,l in zip(clr, labels):\n",
    "    mask = db.labels_ == l\n",
    "    ax.scatter(tmp1[mask, 0], tmp1[mask, 1], color=c, label=f'label_{l}')\n",
    "ax.grid(True)\n",
    "ax.set(xlim=(-40, 120), ylim=(-40, 120))\n",
    "plt.legend()"
   ]
  },
  {
   "cell_type": "markdown",
   "metadata": {
    "heading_collapsed": true
   },
   "source": [
    "## PCA"
   ]
  },
  {
   "cell_type": "code",
   "execution_count": 307,
   "metadata": {
    "ExecuteTime": {
     "end_time": "2021-05-11T00:22:25.985815Z",
     "start_time": "2021-05-11T00:22:25.979868Z"
    },
    "hidden": true
   },
   "outputs": [],
   "source": [
    "from sklearn.impute import SimpleImputer\n",
    "from sklearn.preprocessing import StandardScaler\n",
    "from sklearn.decomposition import PCA"
   ]
  },
  {
   "cell_type": "code",
   "execution_count": 328,
   "metadata": {
    "ExecuteTime": {
     "end_time": "2021-05-11T00:39:52.892551Z",
     "start_time": "2021-05-11T00:39:52.362218Z"
    },
    "hidden": true
   },
   "outputs": [],
   "source": [
    "imputer = SimpleImputer(missing_values=np.nan, strategy='median')\n",
    "tmp1 = imputer.fit_transform(tmp)"
   ]
  },
  {
   "cell_type": "code",
   "execution_count": 329,
   "metadata": {
    "ExecuteTime": {
     "end_time": "2021-05-11T00:39:53.706992Z",
     "start_time": "2021-05-11T00:39:53.555844Z"
    },
    "hidden": true
   },
   "outputs": [],
   "source": [
    "std = StandardScaler()\n",
    "tmp1 = std.fit_transform(tmp1)"
   ]
  },
  {
   "cell_type": "code",
   "execution_count": 330,
   "metadata": {
    "ExecuteTime": {
     "end_time": "2021-05-11T00:39:55.062898Z",
     "start_time": "2021-05-11T00:39:54.620846Z"
    },
    "hidden": true
   },
   "outputs": [],
   "source": [
    "pca = PCA(n_components=2)\n",
    "pca = pca.fit(tmp1)"
   ]
  },
  {
   "cell_type": "code",
   "execution_count": 331,
   "metadata": {
    "ExecuteTime": {
     "end_time": "2021-05-11T00:39:56.252085Z",
     "start_time": "2021-05-11T00:39:56.247061Z"
    },
    "hidden": true
   },
   "outputs": [
    {
     "data": {
      "text/plain": [
       "array([0.8818, 0.0417])"
      ]
     },
     "execution_count": 331,
     "metadata": {},
     "output_type": "execute_result"
    }
   ],
   "source": [
    "np.set_printoptions(precision=4, suppress=True)\n",
    "pca.explained_variance_ratio_"
   ]
  },
  {
   "cell_type": "code",
   "execution_count": 340,
   "metadata": {
    "ExecuteTime": {
     "end_time": "2021-05-11T00:44:42.961657Z",
     "start_time": "2021-05-11T00:44:42.803925Z"
    },
    "hidden": true
   },
   "outputs": [
    {
     "data": {
      "text/plain": [
       "[(-0.1, 0.1), (-0.155, -0.14)]"
      ]
     },
     "execution_count": 340,
     "metadata": {},
     "output_type": "execute_result"
    },
    {
     "data": {
      "image/png": "[encoded data removed]",
      "text/plain": [
       "<Figure size 360x360 with 1 Axes>"
      ]
     },
     "metadata": {
      "needs_background": "light"
     },
     "output_type": "display_data"
    }
   ],
   "source": [
    "ax = axs()\n",
    "ax.scatter(pca.components_[0], pca.components_[1])\n",
    "ax.set(xlim=(-0.155, -0.14), ylim=(-0.1, 0.1))"
   ]
  },
  {
   "cell_type": "markdown",
   "metadata": {
    "hidden": true
   },
   "source": [
    "> Only 1 primary component ?"
   ]
  },
  {
   "cell_type": "markdown",
   "metadata": {
    "heading_collapsed": true
   },
   "source": [
    "## EllipticEnvelope for outlier detection"
   ]
  },
  {
   "cell_type": "code",
   "execution_count": 110,
   "metadata": {
    "ExecuteTime": {
     "end_time": "2021-05-09T02:03:04.016348Z",
     "start_time": "2021-05-09T02:03:03.939470Z"
    },
    "hidden": true
   },
   "outputs": [
    {
     "data": {
      "text/html": [
       "<div>\n",
       "<style scoped>\n",
       "    .dataframe tbody tr th:only-of-type {\n",
       "        vertical-align: middle;\n",
       "    }\n",
       "\n",
       "    .dataframe tbody tr th {\n",
       "        vertical-align: top;\n",
       "    }\n",
       "\n",
       "    .dataframe thead th {\n",
       "        text-align: right;\n",
       "    }\n",
       "</style>\n",
       "<table border=\"1\" class=\"dataframe\">\n",
       "  <thead>\n",
       "    <tr style=\"text-align: right;\">\n",
       "      <th>field</th>\n",
       "      <th>TSensor_D10_</th>\n",
       "      <th>TSensor_D18_</th>\n",
       "      <th>TSensor_D19_</th>\n",
       "      <th>TSensor_D4_</th>\n",
       "      <th>TSensor_D5_</th>\n",
       "      <th>TSensor_D6_</th>\n",
       "      <th>TSensor_D8_</th>\n",
       "      <th>TSensor_D9_</th>\n",
       "      <th>TSensor_P23_</th>\n",
       "      <th>TSensor_P24_</th>\n",
       "      <th>...</th>\n",
       "      <th>TSensor_T61_</th>\n",
       "      <th>TSensor_T62_</th>\n",
       "      <th>TSensor_T65_</th>\n",
       "      <th>TSensor_T66_</th>\n",
       "      <th>TSensor_T67_</th>\n",
       "      <th>TSensor_T68_</th>\n",
       "      <th>TSensor_T69_</th>\n",
       "      <th>TSensor_T70_</th>\n",
       "      <th>TSensor_T71_</th>\n",
       "      <th>TSensor_T72_</th>\n",
       "    </tr>\n",
       "    <tr>\n",
       "      <th>id_audit</th>\n",
       "      <th></th>\n",
       "      <th></th>\n",
       "      <th></th>\n",
       "      <th></th>\n",
       "      <th></th>\n",
       "      <th></th>\n",
       "      <th></th>\n",
       "      <th></th>\n",
       "      <th></th>\n",
       "      <th></th>\n",
       "      <th></th>\n",
       "      <th></th>\n",
       "      <th></th>\n",
       "      <th></th>\n",
       "      <th></th>\n",
       "      <th></th>\n",
       "      <th></th>\n",
       "      <th></th>\n",
       "      <th></th>\n",
       "      <th></th>\n",
       "      <th></th>\n",
       "    </tr>\n",
       "  </thead>\n",
       "  <tbody>\n",
       "    <tr>\n",
       "      <th>21</th>\n",
       "      <td>30.50</td>\n",
       "      <td>33.60</td>\n",
       "      <td>34.60</td>\n",
       "      <td>25.00</td>\n",
       "      <td>24.00</td>\n",
       "      <td>28.50</td>\n",
       "      <td>28.30</td>\n",
       "      <td>25.80</td>\n",
       "      <td>25.50</td>\n",
       "      <td>25.00</td>\n",
       "      <td>...</td>\n",
       "      <td>31.00</td>\n",
       "      <td>31.00</td>\n",
       "      <td>25.50</td>\n",
       "      <td>25.00</td>\n",
       "      <td>24.50</td>\n",
       "      <td>23.50</td>\n",
       "      <td>32.00</td>\n",
       "      <td>33.50</td>\n",
       "      <td>33.50</td>\n",
       "      <td>31.00</td>\n",
       "    </tr>\n",
       "    <tr>\n",
       "      <th>23</th>\n",
       "      <td>52.30</td>\n",
       "      <td>55.00</td>\n",
       "      <td>55.50</td>\n",
       "      <td>45.00</td>\n",
       "      <td>45.50</td>\n",
       "      <td>48.00</td>\n",
       "      <td>45.50</td>\n",
       "      <td>45.80</td>\n",
       "      <td>57.00</td>\n",
       "      <td>60.50</td>\n",
       "      <td>...</td>\n",
       "      <td>57.00</td>\n",
       "      <td>57.00</td>\n",
       "      <td>56.50</td>\n",
       "      <td>60.50</td>\n",
       "      <td>62.00</td>\n",
       "      <td>59.50</td>\n",
       "      <td>54.50</td>\n",
       "      <td>59.00</td>\n",
       "      <td>58.00</td>\n",
       "      <td>57.00</td>\n",
       "    </tr>\n",
       "    <tr>\n",
       "      <th>25</th>\n",
       "      <td>56.00</td>\n",
       "      <td>65.70</td>\n",
       "      <td>59.40</td>\n",
       "      <td>52.80</td>\n",
       "      <td>53.80</td>\n",
       "      <td>59.00</td>\n",
       "      <td>50.50</td>\n",
       "      <td>50.50</td>\n",
       "      <td>70.50</td>\n",
       "      <td>73.60</td>\n",
       "      <td>...</td>\n",
       "      <td>62.50</td>\n",
       "      <td>62.50</td>\n",
       "      <td>70.50</td>\n",
       "      <td>73.60</td>\n",
       "      <td>72.10</td>\n",
       "      <td>67.30</td>\n",
       "      <td>60.50</td>\n",
       "      <td>63.00</td>\n",
       "      <td>63.00</td>\n",
       "      <td>62.50</td>\n",
       "    </tr>\n",
       "    <tr>\n",
       "      <th>147</th>\n",
       "      <td>23.00</td>\n",
       "      <td>31.20</td>\n",
       "      <td>27.30</td>\n",
       "      <td>23.50</td>\n",
       "      <td>23.80</td>\n",
       "      <td>26.30</td>\n",
       "      <td>23.50</td>\n",
       "      <td>23.00</td>\n",
       "      <td>22.50</td>\n",
       "      <td>22.50</td>\n",
       "      <td>...</td>\n",
       "      <td>20.50</td>\n",
       "      <td>20.50</td>\n",
       "      <td>23.00</td>\n",
       "      <td>22.50</td>\n",
       "      <td>23.00</td>\n",
       "      <td>21.50</td>\n",
       "      <td>21.00</td>\n",
       "      <td>21.50</td>\n",
       "      <td>21.00</td>\n",
       "      <td>21.50</td>\n",
       "    </tr>\n",
       "    <tr>\n",
       "      <th>746</th>\n",
       "      <td>36.00</td>\n",
       "      <td>46.30</td>\n",
       "      <td>39.90</td>\n",
       "      <td>37.00</td>\n",
       "      <td>36.30</td>\n",
       "      <td>35.80</td>\n",
       "      <td>31.80</td>\n",
       "      <td>31.30</td>\n",
       "      <td>39.50</td>\n",
       "      <td>46.50</td>\n",
       "      <td>...</td>\n",
       "      <td>38.00</td>\n",
       "      <td>38.00</td>\n",
       "      <td>39.50</td>\n",
       "      <td>46.50</td>\n",
       "      <td>46.50</td>\n",
       "      <td>43.50</td>\n",
       "      <td>36.50</td>\n",
       "      <td>39.00</td>\n",
       "      <td>39.00</td>\n",
       "      <td>38.00</td>\n",
       "    </tr>\n",
       "  </tbody>\n",
       "</table>\n",
       "<p>5 rows × 48 columns</p>\n",
       "</div>"
      ],
      "text/plain": [
       "field            TSensor_D10_         TSensor_D18_         TSensor_D19_  \\\n",
       "id_audit                                                                  \n",
       "21                      30.50                33.60                34.60   \n",
       "23                      52.30                55.00                55.50   \n",
       "25                      56.00                65.70                59.40   \n",
       "147                     23.00                31.20                27.30   \n",
       "746                     36.00                46.30                39.90   \n",
       "\n",
       "field             TSensor_D4_          TSensor_D5_          TSensor_D6_  \\\n",
       "id_audit                                                                  \n",
       "21                      25.00                24.00                28.50   \n",
       "23                      45.00                45.50                48.00   \n",
       "25                      52.80                53.80                59.00   \n",
       "147                     23.50                23.80                26.30   \n",
       "746                     37.00                36.30                35.80   \n",
       "\n",
       "field             TSensor_D8_          TSensor_D9_         TSensor_P23_  \\\n",
       "id_audit                                                                  \n",
       "21                      28.30                25.80                25.50   \n",
       "23                      45.50                45.80                57.00   \n",
       "25                      50.50                50.50                70.50   \n",
       "147                     23.50                23.00                22.50   \n",
       "746                     31.80                31.30                39.50   \n",
       "\n",
       "field            TSensor_P24_  ...         TSensor_T61_         TSensor_T62_  \\\n",
       "id_audit                       ...                                             \n",
       "21                      25.00  ...                31.00                31.00   \n",
       "23                      60.50  ...                57.00                57.00   \n",
       "25                      73.60  ...                62.50                62.50   \n",
       "147                     22.50  ...                20.50                20.50   \n",
       "746                     46.50  ...                38.00                38.00   \n",
       "\n",
       "field            TSensor_T65_         TSensor_T66_         TSensor_T67_  \\\n",
       "id_audit                                                                  \n",
       "21                      25.50                25.00                24.50   \n",
       "23                      56.50                60.50                62.00   \n",
       "25                      70.50                73.60                72.10   \n",
       "147                     23.00                22.50                23.00   \n",
       "746                     39.50                46.50                46.50   \n",
       "\n",
       "field            TSensor_T68_         TSensor_T69_         TSensor_T70_  \\\n",
       "id_audit                                                                  \n",
       "21                      23.50                32.00                33.50   \n",
       "23                      59.50                54.50                59.00   \n",
       "25                      67.30                60.50                63.00   \n",
       "147                     21.50                21.00                21.50   \n",
       "746                     43.50                36.50                39.00   \n",
       "\n",
       "field            TSensor_T71_         TSensor_T72_  \n",
       "id_audit                                            \n",
       "21                      33.50                31.00  \n",
       "23                      58.00                57.00  \n",
       "25                      63.00                62.50  \n",
       "147                     21.00                21.50  \n",
       "746                     39.00                38.00  \n",
       "\n",
       "[5 rows x 48 columns]"
      ]
     },
     "execution_count": 110,
     "metadata": {},
     "output_type": "execute_result"
    }
   ],
   "source": [
    "tmp.head()"
   ]
  },
  {
   "cell_type": "code",
   "execution_count": 276,
   "metadata": {
    "ExecuteTime": {
     "end_time": "2021-05-09T23:39:43.552011Z",
     "start_time": "2021-05-09T23:39:43.528112Z"
    },
    "hidden": true
   },
   "outputs": [
    {
     "data": {
      "text/plain": [
       "(67455, 48)"
      ]
     },
     "execution_count": 276,
     "metadata": {},
     "output_type": "execute_result"
    }
   ],
   "source": [
    "if tmp.shape[1]>48:\n",
    "    tmp = tmp.iloc[:,:-1]\n",
    "tmp.shape"
   ]
  },
  {
   "cell_type": "code",
   "execution_count": 277,
   "metadata": {
    "ExecuteTime": {
     "end_time": "2021-05-09T23:39:46.880367Z",
     "start_time": "2021-05-09T23:39:46.387396Z"
    },
    "hidden": true
   },
   "outputs": [],
   "source": [
    "from sklearn.impute import SimpleImputer\n",
    "imputer = SimpleImputer(missing_values=np.nan, strategy='median')\n",
    "tmp1 = imputer.fit_transform(tmp)"
   ]
  },
  {
   "cell_type": "code",
   "execution_count": 305,
   "metadata": {
    "ExecuteTime": {
     "end_time": "2021-05-10T00:00:45.334981Z",
     "start_time": "2021-05-10T00:00:45.303069Z"
    },
    "hidden": true
   },
   "outputs": [
    {
     "name": "stdout",
     "output_type": "stream",
     "text": [
      "(array([-1,  1]), array([   34, 67421], dtype=int64))\n"
     ]
    }
   ],
   "source": [
    "from sklearn.covariance import EllipticEnvelope\n",
    "ee = EllipticEnvelope(contamination=0.0005)\n",
    "\n",
    "x = tmp1[:,20]\n",
    "outliers = ee.fit_predict(x.reshape(-1,1))\n",
    "print(np.unique(outliers, return_counts=True))"
   ]
  },
  {
   "cell_type": "code",
   "execution_count": 306,
   "metadata": {
    "ExecuteTime": {
     "end_time": "2021-05-10T00:00:46.449285Z",
     "start_time": "2021-05-10T00:00:46.228064Z"
    },
    "hidden": true
   },
   "outputs": [
    {
     "data": {
      "text/plain": [
       "<matplotlib.collections.PathCollection at 0x261c2750630>"
      ]
     },
     "execution_count": 306,
     "metadata": {},
     "output_type": "execute_result"
    },
    {
     "data": {
      "image/png": "[encoded data removed]",
      "text/plain": [
       "<Figure size 432x288 with 1 Axes>"
      ]
     },
     "metadata": {
      "needs_background": "light"
     },
     "output_type": "display_data"
    }
   ],
   "source": [
    "mask = outliers == -1\n",
    "a = x[mask]\n",
    "plt.scatter(a, np.ones(len(a)), c='r')\n",
    "mask = outliers == 1\n",
    "a = x[mask]\n",
    "plt.scatter(a, np.ones(len(a)), c='k')"
   ]
  },
  {
   "cell_type": "code",
   "execution_count": 269,
   "metadata": {
    "ExecuteTime": {
     "end_time": "2021-05-09T23:34:17.842026Z",
     "start_time": "2021-05-09T23:34:17.834079Z"
    },
    "hidden": true
   },
   "outputs": [
    {
     "data": {
      "text/plain": [
       "(67455, 49)"
      ]
     },
     "execution_count": 269,
     "metadata": {},
     "output_type": "execute_result"
    }
   ],
   "source": [
    "tmp.shape"
   ]
  },
  {
   "cell_type": "code",
   "execution_count": 264,
   "metadata": {
    "ExecuteTime": {
     "end_time": "2021-05-09T23:29:09.318361Z",
     "start_time": "2021-05-09T23:29:09.157718Z"
    },
    "hidden": true,
    "scrolled": true
   },
   "outputs": [
    {
     "data": {
      "text/plain": [
       "<matplotlib.collections.PathCollection at 0x261c2762dd8>"
      ]
     },
     "execution_count": 264,
     "metadata": {},
     "output_type": "execute_result"
    },
    {
     "data": {
      "image/png": "[encoded data removed]",
      "text/plain": [
       "<Figure size 432x288 with 1 Axes>"
      ]
     },
     "metadata": {
      "needs_background": "light"
     },
     "output_type": "display_data"
    }
   ],
   "source": [
    "test = tmp[['TSensor_D5_', 'TSensor_T59_']].copy()\n",
    "\n",
    "from sklearn.impute import SimpleImputer\n",
    "imputer = SimpleImputer(missing_values=np.nan, strategy='mean')\n",
    "test_ = imputer.fit_transform(test)\n",
    "\n",
    "plt.scatter(test_[:,0], test_[:,1], s=0.5)"
   ]
  },
  {
   "cell_type": "code",
   "execution_count": 265,
   "metadata": {
    "ExecuteTime": {
     "end_time": "2021-05-09T23:29:31.526394Z",
     "start_time": "2021-05-09T23:29:15.853354Z"
    },
    "hidden": true
   },
   "outputs": [
    {
     "name": "stdout",
     "output_type": "stream",
     "text": [
      "(array([-1,  1]), array([   34, 67421], dtype=int64))\n"
     ]
    },
    {
     "data": {
      "image/png": "[encoded data removed]",
      "text/plain": [
       "<Figure size 360x360 with 1 Axes>"
      ]
     },
     "metadata": {
      "needs_background": "light"
     },
     "output_type": "display_data"
    }
   ],
   "source": [
    "from sklearn.covariance import EllipticEnvelope\n",
    "ee = EllipticEnvelope(contamination=0.0005)\n",
    "outliers = ee.fit_predict(test_)\n",
    "print(np.unique(outliers, return_counts=True))\n",
    "\n",
    "test['outlier'] = outliers\n",
    "ax = axs()\n",
    "a = test[test.outlier==1]\n",
    "b = test[test.outlier==-1]\n",
    "ax.scatter(a.iloc[:,0], a.iloc[:,1], s=1)\n",
    "ax.scatter(b.iloc[:,0], b.iloc[:,1], s=1, c='r')\n",
    "plt.show()"
   ]
  },
  {
   "cell_type": "code",
   "execution_count": 257,
   "metadata": {
    "ExecuteTime": {
     "end_time": "2021-05-09T23:22:42.772611Z",
     "start_time": "2021-05-09T23:22:42.622973Z"
    },
    "hidden": true
   },
   "outputs": [
    {
     "name": "stdout",
     "output_type": "stream",
     "text": [
      "(array([-1,  1], dtype=int64), array([   9, 9991], dtype=int64))\n"
     ]
    },
    {
     "data": {
      "image/png": "[encoded data removed]",
      "text/plain": [
       "<Figure size 360x360 with 1 Axes>"
      ]
     },
     "metadata": {
      "needs_background": "light"
     },
     "output_type": "display_data"
    }
   ],
   "source": [
    "from sklearn import svm\n",
    "clf = svm.OneClassSVM(nu=0.001, kernel=\"sigmoid\", degree=10, gamma=0.01)\n",
    "outliers = clf.fit_predict(test_)\n",
    "print(np.unique(outliers, return_counts=True))\n",
    "\n",
    "test['outlier'] = outliers\n",
    "ax = axs()\n",
    "a = test[test.outlier==1]\n",
    "b = test[test.outlier==-1]\n",
    "ax.scatter(a.iloc[:,0], a.iloc[:,1], s=1)\n",
    "ax.scatter(b.iloc[:,0], b.iloc[:,1], s=1, c='r')\n",
    "plt.show()"
   ]
  },
  {
   "cell_type": "code",
   "execution_count": 213,
   "metadata": {
    "ExecuteTime": {
     "end_time": "2021-05-09T23:03:01.961518Z",
     "start_time": "2021-05-09T23:03:01.841835Z"
    },
    "hidden": true
   },
   "outputs": [
    {
     "name": "stdout",
     "output_type": "stream",
     "text": [
      "(array([-1,  1]), array([10, 90], dtype=int64))\n"
     ]
    },
    {
     "data": {
      "image/png": "[encoded data removed]",
      "text/plain": [
       "<Figure size 360x360 with 1 Axes>"
      ]
     },
     "metadata": {
      "needs_background": "light"
     },
     "output_type": "display_data"
    }
   ],
   "source": [
    "from sklearn.neighbors import LocalOutlierFactor\n",
    "lof = LocalOutlierFactor(n_neighbors=5, contamination=0.1)\n",
    "outlier = lof.fit_predict(test_)\n",
    "print(np.unique(outlier, return_counts=True))\n",
    "\n",
    "test['outlier'] = outlier\n",
    "ax = axs()\n",
    "a = test[test.outlier==1]\n",
    "b = test[test.outlier==-1]\n",
    "ax.scatter(a.iloc[:,0], a.iloc[:,1], s=1)\n",
    "ax.scatter(b.iloc[:,0], b.iloc[:,1], s=1, c='r')\n",
    "plt.show()"
   ]
  },
  {
   "cell_type": "code",
   "execution_count": 127,
   "metadata": {
    "ExecuteTime": {
     "end_time": "2021-05-09T02:12:54.232907Z",
     "start_time": "2021-05-09T02:12:54.217746Z"
    },
    "hidden": true
   },
   "outputs": [
    {
     "data": {
      "text/plain": [
       "(67455, 48)"
      ]
     },
     "execution_count": 127,
     "metadata": {},
     "output_type": "execute_result"
    }
   ],
   "source": [
    "tmp1.shape"
   ]
  },
  {
   "cell_type": "code",
   "execution_count": 128,
   "metadata": {
    "ExecuteTime": {
     "end_time": "2021-05-09T02:17:32.513920Z",
     "start_time": "2021-05-09T02:17:32.501024Z"
    },
    "hidden": true
   },
   "outputs": [
    {
     "data": {
      "text/plain": [
       "(array([-1,  1]), array([ 6746, 60709], dtype=int64))"
      ]
     },
     "execution_count": 128,
     "metadata": {},
     "output_type": "execute_result"
    }
   ],
   "source": [
    "np.unique(outlier, return_counts=True)"
   ]
  },
  {
   "cell_type": "markdown",
   "metadata": {
    "heading_collapsed": true
   },
   "source": [
    "# powerClass"
   ]
  },
  {
   "cell_type": "code",
   "execution_count": 16,
   "metadata": {
    "ExecuteTime": {
     "end_time": "2021-04-29T05:04:13.009103Z",
     "start_time": "2021-04-29T05:04:12.678277Z"
    },
    "hidden": true
   },
   "outputs": [
    {
     "name": "stdout",
     "output_type": "stream",
     "text": [
      "(366812, 5)\n"
     ]
    },
    {
     "data": {
      "text/html": [
       "<div>\n",
       "<style scoped>\n",
       "    .dataframe tbody tr th:only-of-type {\n",
       "        vertical-align: middle;\n",
       "    }\n",
       "\n",
       "    .dataframe tbody tr th {\n",
       "        vertical-align: top;\n",
       "    }\n",
       "\n",
       "    .dataframe thead th {\n",
       "        text-align: right;\n",
       "    }\n",
       "</style>\n",
       "<table border=\"1\" class=\"dataframe\">\n",
       "  <thead>\n",
       "    <tr style=\"text-align: right;\">\n",
       "      <th></th>\n",
       "      <th>id_trx_status</th>\n",
       "      <th>id_audit</th>\n",
       "      <th>branch_header</th>\n",
       "      <th>field</th>\n",
       "      <th>value</th>\n",
       "    </tr>\n",
       "  </thead>\n",
       "  <tbody>\n",
       "    <tr>\n",
       "      <th>366802</th>\n",
       "      <td>349907855</td>\n",
       "      <td>1953919</td>\n",
       "      <td>Branch B</td>\n",
       "      <td>powerClass</td>\n",
       "      <td>40W [45.70 dBm]</td>\n",
       "    </tr>\n",
       "    <tr>\n",
       "      <th>366803</th>\n",
       "      <td>349907970</td>\n",
       "      <td>1953919</td>\n",
       "      <td>Branch C</td>\n",
       "      <td>powerClass</td>\n",
       "      <td>40W [45.70 dBm]</td>\n",
       "    </tr>\n",
       "    <tr>\n",
       "      <th>366804</th>\n",
       "      <td>349908084</td>\n",
       "      <td>1953919</td>\n",
       "      <td>Branch D</td>\n",
       "      <td>powerClass</td>\n",
       "      <td>40W [45.70 dBm]</td>\n",
       "    </tr>\n",
       "    <tr>\n",
       "      <th>366805</th>\n",
       "      <td>349908203</td>\n",
       "      <td>1953919</td>\n",
       "      <td>Branch E</td>\n",
       "      <td>powerClass</td>\n",
       "      <td>60W [47.03 dBm]</td>\n",
       "    </tr>\n",
       "    <tr>\n",
       "      <th>366806</th>\n",
       "      <td>349908322</td>\n",
       "      <td>1953919</td>\n",
       "      <td>Branch F</td>\n",
       "      <td>powerClass</td>\n",
       "      <td>60W [47.03 dBm]</td>\n",
       "    </tr>\n",
       "    <tr>\n",
       "      <th>366807</th>\n",
       "      <td>349908438</td>\n",
       "      <td>1953919</td>\n",
       "      <td>Branch G</td>\n",
       "      <td>powerClass</td>\n",
       "      <td>60W [47.03 dBm]</td>\n",
       "    </tr>\n",
       "    <tr>\n",
       "      <th>366808</th>\n",
       "      <td>349908554</td>\n",
       "      <td>1953919</td>\n",
       "      <td>Branch H</td>\n",
       "      <td>powerClass</td>\n",
       "      <td>60W [47.03 dBm]</td>\n",
       "    </tr>\n",
       "    <tr>\n",
       "      <th>366809</th>\n",
       "      <td>350691779</td>\n",
       "      <td>1959675</td>\n",
       "      <td>Branch F</td>\n",
       "      <td>powerClass</td>\n",
       "      <td>60W [47.00 dBm]</td>\n",
       "    </tr>\n",
       "    <tr>\n",
       "      <th>366810</th>\n",
       "      <td>350691894</td>\n",
       "      <td>1959675</td>\n",
       "      <td>Branch G</td>\n",
       "      <td>powerClass</td>\n",
       "      <td>60W [47.00 dBm]</td>\n",
       "    </tr>\n",
       "    <tr>\n",
       "      <th>366811</th>\n",
       "      <td>350692019</td>\n",
       "      <td>1959675</td>\n",
       "      <td>Branch H</td>\n",
       "      <td>powerClass</td>\n",
       "      <td>60W [47.00 dBm]</td>\n",
       "    </tr>\n",
       "  </tbody>\n",
       "</table>\n",
       "</div>"
      ],
      "text/plain": [
       "        id_trx_status  id_audit branch_header       field            value\n",
       "366802      349907855   1953919      Branch B  powerClass  40W [45.70 dBm]\n",
       "366803      349907970   1953919      Branch C  powerClass  40W [45.70 dBm]\n",
       "366804      349908084   1953919      Branch D  powerClass  40W [45.70 dBm]\n",
       "366805      349908203   1953919      Branch E  powerClass  60W [47.03 dBm]\n",
       "366806      349908322   1953919      Branch F  powerClass  60W [47.03 dBm]\n",
       "366807      349908438   1953919      Branch G  powerClass  60W [47.03 dBm]\n",
       "366808      349908554   1953919      Branch H  powerClass  60W [47.03 dBm]\n",
       "366809      350691779   1959675      Branch F  powerClass  60W [47.00 dBm]\n",
       "366810      350691894   1959675      Branch G  powerClass  60W [47.00 dBm]\n",
       "366811      350692019   1959675      Branch H  powerClass  60W [47.00 dBm]"
      ]
     },
     "execution_count": 16,
     "metadata": {},
     "output_type": "execute_result"
    }
   ],
   "source": [
    "powerClass = pd.read_csv(os.path.join(path, 'dataset_2_powerClass_20210303.csv'), sep=';')\n",
    "print(powerClass.shape)\n",
    "\n",
    "powerClass.tail(10)"
   ]
  },
  {
   "cell_type": "code",
   "execution_count": 35,
   "metadata": {
    "ExecuteTime": {
     "end_time": "2021-04-29T05:27:54.394553Z",
     "start_time": "2021-04-29T05:27:54.364333Z"
    },
    "hidden": true
   },
   "outputs": [
    {
     "data": {
      "text/plain": [
       "count             366,812.00\n",
       "mean            1,339,621.70\n",
       "std               354,272.05\n",
       "min                    21.00\n",
       "25%             1,003,785.00\n",
       "50%             1,410,563.00\n",
       "75%             1,618,201.00\n",
       "max             1,972,937.00\n",
       "Name: id_audit, dtype: float64"
      ]
     },
     "execution_count": 35,
     "metadata": {},
     "output_type": "execute_result"
    }
   ],
   "source": [
    "powerClass.id_audit.describe()"
   ]
  },
  {
   "cell_type": "code",
   "execution_count": 30,
   "metadata": {
    "ExecuteTime": {
     "end_time": "2021-04-29T05:23:10.212669Z",
     "start_time": "2021-04-29T05:23:10.175524Z"
    },
    "hidden": true
   },
   "outputs": [
    {
     "data": {
      "text/plain": [
       "array(['Branch A', 'Branch B', 'Branch C', 'Branch D', 'Branch E',\n",
       "       'Branch F', 'Branch G', 'Branch H'], dtype=object)"
      ]
     },
     "execution_count": 30,
     "metadata": {},
     "output_type": "execute_result"
    }
   ],
   "source": [
    "powerClass.branch_header.unique()"
   ]
  },
  {
   "cell_type": "markdown",
   "metadata": {
    "heading_collapsed": true
   },
   "source": [
    "# radioId"
   ]
  },
  {
   "cell_type": "code",
   "execution_count": 83,
   "metadata": {
    "ExecuteTime": {
     "end_time": "2021-05-07T01:07:56.464134Z",
     "start_time": "2021-05-07T01:07:53.418804Z"
    },
    "hidden": true
   },
   "outputs": [
    {
     "name": "stdout",
     "output_type": "stream",
     "text": [
      "(74908, 3)\n"
     ]
    },
    {
     "data": {
      "text/html": [
       "<div>\n",
       "<style scoped>\n",
       "    .dataframe tbody tr th:only-of-type {\n",
       "        vertical-align: middle;\n",
       "    }\n",
       "\n",
       "    .dataframe tbody tr th {\n",
       "        vertical-align: top;\n",
       "    }\n",
       "\n",
       "    .dataframe thead th {\n",
       "        text-align: right;\n",
       "    }\n",
       "</style>\n",
       "<table border=\"1\" class=\"dataframe\">\n",
       "  <thead>\n",
       "    <tr style=\"text-align: right;\">\n",
       "      <th></th>\n",
       "      <th>id_audit</th>\n",
       "      <th>customer</th>\n",
       "      <th>serial</th>\n",
       "    </tr>\n",
       "  </thead>\n",
       "  <tbody>\n",
       "    <tr>\n",
       "      <th>74898</th>\n",
       "      <td>1971160</td>\n",
       "      <td>1</td>\n",
       "      <td>13680</td>\n",
       "    </tr>\n",
       "    <tr>\n",
       "      <th>74899</th>\n",
       "      <td>1972193</td>\n",
       "      <td>1</td>\n",
       "      <td>3784</td>\n",
       "    </tr>\n",
       "    <tr>\n",
       "      <th>74900</th>\n",
       "      <td>1972213</td>\n",
       "      <td>1</td>\n",
       "      <td>26990</td>\n",
       "    </tr>\n",
       "    <tr>\n",
       "      <th>74901</th>\n",
       "      <td>1972347</td>\n",
       "      <td>1</td>\n",
       "      <td>13013</td>\n",
       "    </tr>\n",
       "    <tr>\n",
       "      <th>74902</th>\n",
       "      <td>1972375</td>\n",
       "      <td>1</td>\n",
       "      <td>14322</td>\n",
       "    </tr>\n",
       "    <tr>\n",
       "      <th>74903</th>\n",
       "      <td>1972384</td>\n",
       "      <td>1</td>\n",
       "      <td>15064</td>\n",
       "    </tr>\n",
       "    <tr>\n",
       "      <th>74904</th>\n",
       "      <td>1972530</td>\n",
       "      <td>1</td>\n",
       "      <td>3725</td>\n",
       "    </tr>\n",
       "    <tr>\n",
       "      <th>74905</th>\n",
       "      <td>1972723</td>\n",
       "      <td>1</td>\n",
       "      <td>24227</td>\n",
       "    </tr>\n",
       "    <tr>\n",
       "      <th>74906</th>\n",
       "      <td>1972793</td>\n",
       "      <td>1</td>\n",
       "      <td>27532</td>\n",
       "    </tr>\n",
       "    <tr>\n",
       "      <th>74907</th>\n",
       "      <td>1972937</td>\n",
       "      <td>1</td>\n",
       "      <td>17532</td>\n",
       "    </tr>\n",
       "  </tbody>\n",
       "</table>\n",
       "</div>"
      ],
      "text/plain": [
       "       id_audit  customer  serial\n",
       "74898   1971160         1   13680\n",
       "74899   1972193         1    3784\n",
       "74900   1972213         1   26990\n",
       "74901   1972347         1   13013\n",
       "74902   1972375         1   14322\n",
       "74903   1972384         1   15064\n",
       "74904   1972530         1    3725\n",
       "74905   1972723         1   24227\n",
       "74906   1972793         1   27532\n",
       "74907   1972937         1   17532"
      ]
     },
     "execution_count": 83,
     "metadata": {},
     "output_type": "execute_result"
    }
   ],
   "source": [
    "radioId = pd.read_csv(os.path.join(path, 'dataset_3_radioId_20210303.csv'), sep=';')\n",
    "print(radioId.shape)\n",
    "\n",
    "radioId.tail(10)"
   ]
  },
  {
   "cell_type": "code",
   "execution_count": 84,
   "metadata": {
    "ExecuteTime": {
     "end_time": "2021-05-07T01:08:16.925522Z",
     "start_time": "2021-05-07T01:08:16.897171Z"
    },
    "hidden": true
   },
   "outputs": [
    {
     "data": {
      "text/plain": [
       "2    43684\n",
       "1    31224\n",
       "Name: customer, dtype: int64"
      ]
     },
     "execution_count": 84,
     "metadata": {},
     "output_type": "execute_result"
    }
   ],
   "source": [
    "radioId.customer.value_counts()"
   ]
  },
  {
   "cell_type": "code",
   "execution_count": 86,
   "metadata": {
    "ExecuteTime": {
     "end_time": "2021-05-07T01:11:37.579090Z",
     "start_time": "2021-05-07T01:11:37.566735Z"
    },
    "hidden": true
   },
   "outputs": [
    {
     "data": {
      "text/plain": [
       "(74908, 3)"
      ]
     },
     "execution_count": 86,
     "metadata": {},
     "output_type": "execute_result"
    }
   ],
   "source": [
    "radioId.shape"
   ]
  },
  {
   "cell_type": "code",
   "execution_count": 38,
   "metadata": {
    "ExecuteTime": {
     "end_time": "2021-04-29T05:33:43.858857Z",
     "start_time": "2021-04-29T05:33:43.828601Z"
    },
    "hidden": true
   },
   "outputs": [
    {
     "data": {
      "text/plain": [
       "id_audit\n",
       "21         1\n",
       "1444632    1\n",
       "1444626    1\n",
       "1444625    1\n",
       "1444624    1\n",
       "          ..\n",
       "1154158    1\n",
       "1154157    1\n",
       "1154156    1\n",
       "1154336    1\n",
       "1972937    1\n",
       "Name: serial, Length: 74908, dtype: int64"
      ]
     },
     "execution_count": 38,
     "metadata": {},
     "output_type": "execute_result"
    }
   ],
   "source": [
    "radioId.groupby('id_audit').count()['serial'].sort_values()"
   ]
  },
  {
   "cell_type": "markdown",
   "metadata": {
    "heading_collapsed": true
   },
   "source": [
    "# merge"
   ]
  },
  {
   "cell_type": "code",
   "execution_count": 88,
   "metadata": {
    "ExecuteTime": {
     "end_time": "2021-05-07T01:28:16.217668Z",
     "start_time": "2021-05-07T01:28:14.188453Z"
    },
    "hidden": true
   },
   "outputs": [
    {
     "data": {
      "text/html": [
       "<div>\n",
       "<style scoped>\n",
       "    .dataframe tbody tr th:only-of-type {\n",
       "        vertical-align: middle;\n",
       "    }\n",
       "\n",
       "    .dataframe tbody tr th {\n",
       "        vertical-align: top;\n",
       "    }\n",
       "\n",
       "    .dataframe thead th {\n",
       "        text-align: right;\n",
       "    }\n",
       "</style>\n",
       "<table border=\"1\" class=\"dataframe\">\n",
       "  <thead>\n",
       "    <tr style=\"text-align: right;\">\n",
       "      <th></th>\n",
       "      <th>id_field_values</th>\n",
       "      <th>id_ftp</th>\n",
       "      <th>id_audit</th>\n",
       "      <th>value</th>\n",
       "      <th>unit</th>\n",
       "      <th>field</th>\n",
       "      <th>customer</th>\n",
       "      <th>serial</th>\n",
       "    </tr>\n",
       "  </thead>\n",
       "  <tbody>\n",
       "    <tr>\n",
       "      <th>0</th>\n",
       "      <td>41310</td>\n",
       "      <td>108</td>\n",
       "      <td>147</td>\n",
       "      <td>23.50</td>\n",
       "      <td>C</td>\n",
       "      <td>TSensor_D4_</td>\n",
       "      <td>2</td>\n",
       "      <td>17087</td>\n",
       "    </tr>\n",
       "    <tr>\n",
       "      <th>1</th>\n",
       "      <td>41311</td>\n",
       "      <td>108</td>\n",
       "      <td>147</td>\n",
       "      <td>23.80</td>\n",
       "      <td>C</td>\n",
       "      <td>TSensor_D5_</td>\n",
       "      <td>2</td>\n",
       "      <td>17087</td>\n",
       "    </tr>\n",
       "    <tr>\n",
       "      <th>2</th>\n",
       "      <td>41312</td>\n",
       "      <td>108</td>\n",
       "      <td>147</td>\n",
       "      <td>26.30</td>\n",
       "      <td>C</td>\n",
       "      <td>TSensor_D6_</td>\n",
       "      <td>2</td>\n",
       "      <td>17087</td>\n",
       "    </tr>\n",
       "    <tr>\n",
       "      <th>3</th>\n",
       "      <td>41313</td>\n",
       "      <td>108</td>\n",
       "      <td>147</td>\n",
       "      <td>23.50</td>\n",
       "      <td>C</td>\n",
       "      <td>TSensor_D8_</td>\n",
       "      <td>2</td>\n",
       "      <td>17087</td>\n",
       "    </tr>\n",
       "    <tr>\n",
       "      <th>4</th>\n",
       "      <td>41314</td>\n",
       "      <td>108</td>\n",
       "      <td>147</td>\n",
       "      <td>23.00</td>\n",
       "      <td>C</td>\n",
       "      <td>TSensor_D9_</td>\n",
       "      <td>2</td>\n",
       "      <td>17087</td>\n",
       "    </tr>\n",
       "  </tbody>\n",
       "</table>\n",
       "</div>"
      ],
      "text/plain": [
       "   id_field_values  id_ftp  id_audit                value unit        field  \\\n",
       "0            41310     108       147                23.50    C  TSensor_D4_   \n",
       "1            41311     108       147                23.80    C  TSensor_D5_   \n",
       "2            41312     108       147                26.30    C  TSensor_D6_   \n",
       "3            41313     108       147                23.50    C  TSensor_D8_   \n",
       "4            41314     108       147                23.00    C  TSensor_D9_   \n",
       "\n",
       "   customer  serial  \n",
       "0         2   17087  \n",
       "1         2   17087  \n",
       "2         2   17087  \n",
       "3         2   17087  \n",
       "4         2   17087  "
      ]
     },
     "execution_count": 88,
     "metadata": {},
     "output_type": "execute_result"
    }
   ],
   "source": [
    "merge1 = radioTemp.merge(radioId, how='left', on='id_audit', validate='many_to_one')\n",
    "merge1.head()"
   ]
  },
  {
   "cell_type": "code",
   "execution_count": 90,
   "metadata": {
    "ExecuteTime": {
     "end_time": "2021-05-07T01:30:10.043336Z",
     "start_time": "2021-05-07T01:30:08.893832Z"
    },
    "hidden": true
   },
   "outputs": [
    {
     "data": {
      "text/plain": [
       "id_field_values      0\n",
       "id_ftp               0\n",
       "id_audit             0\n",
       "value              641\n",
       "unit                 0\n",
       "field                0\n",
       "customer             0\n",
       "serial               0\n",
       "dtype: int64"
      ]
     },
     "execution_count": 90,
     "metadata": {},
     "output_type": "execute_result"
    }
   ],
   "source": [
    "merge1.isna().sum()"
   ]
  },
  {
   "cell_type": "markdown",
   "metadata": {
    "hidden": true
   },
   "source": [
    "<font color='red'>is there an impact of customer for temp?</font>"
   ]
  },
  {
   "cell_type": "code",
   "execution_count": 94,
   "metadata": {
    "ExecuteTime": {
     "end_time": "2021-05-07T01:33:27.663171Z",
     "start_time": "2021-05-07T01:33:16.783520Z"
    },
    "hidden": true
   },
   "outputs": [
    {
     "data": {
      "image/png": "[encoded data removed]",
      "text/plain": [
       "<Figure size 1440x360 with 1 Axes>"
      ]
     },
     "metadata": {
      "needs_background": "light"
     },
     "output_type": "display_data"
    }
   ],
   "source": [
    "ax = axs(20, 5)\n",
    "sns.boxplot(x='field', y='value', data=merge1, hue='customer', order=counts.index, ax=ax)\n",
    "ax.set(ylim=(-100, 200))\n",
    "ax.set_xticklabels(ax.get_xticklabels(), rotation=90, fontsize=8, ha='right')\n",
    "plt.show()"
   ]
  }
 ],
 "metadata": {
  "kernelspec": {
   "display_name": "Python 3",
   "language": "python",
   "name": "python3"
  },
  "language_info": {
   "codemirror_mode": {
    "name": "ipython",
    "version": 3
   },
   "file_extension": ".py",
   "mimetype": "text/x-python",
   "name": "python",
   "nbconvert_exporter": "python",
   "pygments_lexer": "ipython3",
   "version": "3.6.5"
  },
  "toc": {
   "base_numbering": 1,
   "nav_menu": {},
   "number_sections": true,
   "sideBar": true,
   "skip_h1_title": false,
   "title_cell": "Table of Contents",
   "title_sidebar": "Contents",
   "toc_cell": false,
   "toc_position": {
    "height": "calc(100% - 180px)",
    "left": "10px",
    "top": "150px",
    "width": "165px"
   },
   "toc_section_display": true,
   "toc_window_display": false
  }
 },
 "nbformat": 4,
 "nbformat_minor": 4
}
