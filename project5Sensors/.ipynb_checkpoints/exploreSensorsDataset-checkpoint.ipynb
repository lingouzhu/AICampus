{
 "cells": [
  {
   "cell_type": "code",
   "execution_count": 1,
   "metadata": {},
   "outputs": [],
   "source": [
    "import pandas as pd\n",
    "import matplotlib.pylab as plt\n",
    "import numpy as np"
   ]
  },
  {
   "cell_type": "code",
   "execution_count": 4,
   "metadata": {},
   "outputs": [],
   "source": [
    "ds1radiotemp = pd.read_csv(\"../../dataset_1_radioTemperatures_20210303.csv\",sep=';',dtype={'id_audit':np.str})"
   ]
  },
  {
   "cell_type": "code",
   "execution_count": 5,
   "metadata": {},
   "outputs": [
    {
     "data": {
      "text/html": [
       "<div>\n",
       "<style scoped>\n",
       "    .dataframe tbody tr th:only-of-type {\n",
       "        vertical-align: middle;\n",
       "    }\n",
       "\n",
       "    .dataframe tbody tr th {\n",
       "        vertical-align: top;\n",
       "    }\n",
       "\n",
       "    .dataframe thead th {\n",
       "        text-align: right;\n",
       "    }\n",
       "</style>\n",
       "<table border=\"1\" class=\"dataframe\">\n",
       "  <thead>\n",
       "    <tr style=\"text-align: right;\">\n",
       "      <th></th>\n",
       "      <th>id_field_values</th>\n",
       "      <th>id_ftp</th>\n",
       "      <th>id_audit</th>\n",
       "      <th>value</th>\n",
       "      <th>unit</th>\n",
       "      <th>field</th>\n",
       "    </tr>\n",
       "  </thead>\n",
       "  <tbody>\n",
       "    <tr>\n",
       "      <th>0</th>\n",
       "      <td>41310</td>\n",
       "      <td>108</td>\n",
       "      <td>147</td>\n",
       "      <td>23.5</td>\n",
       "      <td>C</td>\n",
       "      <td>TSensor_D4_</td>\n",
       "    </tr>\n",
       "    <tr>\n",
       "      <th>1</th>\n",
       "      <td>41311</td>\n",
       "      <td>108</td>\n",
       "      <td>147</td>\n",
       "      <td>23.8</td>\n",
       "      <td>C</td>\n",
       "      <td>TSensor_D5_</td>\n",
       "    </tr>\n",
       "    <tr>\n",
       "      <th>2</th>\n",
       "      <td>41312</td>\n",
       "      <td>108</td>\n",
       "      <td>147</td>\n",
       "      <td>26.3</td>\n",
       "      <td>C</td>\n",
       "      <td>TSensor_D6_</td>\n",
       "    </tr>\n",
       "    <tr>\n",
       "      <th>3</th>\n",
       "      <td>41313</td>\n",
       "      <td>108</td>\n",
       "      <td>147</td>\n",
       "      <td>23.5</td>\n",
       "      <td>C</td>\n",
       "      <td>TSensor_D8_</td>\n",
       "    </tr>\n",
       "    <tr>\n",
       "      <th>4</th>\n",
       "      <td>41314</td>\n",
       "      <td>108</td>\n",
       "      <td>147</td>\n",
       "      <td>23.0</td>\n",
       "      <td>C</td>\n",
       "      <td>TSensor_D9_</td>\n",
       "    </tr>\n",
       "  </tbody>\n",
       "</table>\n",
       "</div>"
      ],
      "text/plain": [
       "   id_field_values  id_ftp id_audit  value unit        field\n",
       "0            41310     108      147   23.5    C  TSensor_D4_\n",
       "1            41311     108      147   23.8    C  TSensor_D5_\n",
       "2            41312     108      147   26.3    C  TSensor_D6_\n",
       "3            41313     108      147   23.5    C  TSensor_D8_\n",
       "4            41314     108      147   23.0    C  TSensor_D9_"
      ]
     },
     "execution_count": 5,
     "metadata": {},
     "output_type": "execute_result"
    }
   ],
   "source": [
    "ds1radiotemp.head()"
   ]
  },
  {
   "cell_type": "code",
   "execution_count": null,
   "metadata": {},
   "outputs": [],
   "source": []
  }
 ],
 "metadata": {
  "kernelspec": {
   "display_name": "Python 3",
   "language": "python",
   "name": "python3"
  },
  "language_info": {
   "codemirror_mode": {
    "name": "ipython",
    "version": 3
   },
   "file_extension": ".py",
   "mimetype": "text/x-python",
   "name": "python",
   "nbconvert_exporter": "python",
   "pygments_lexer": "ipython3",
   "version": "3.6.5"
  }
 },
 "nbformat": 4,
 "nbformat_minor": 4
}
