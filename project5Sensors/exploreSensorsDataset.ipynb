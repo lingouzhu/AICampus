{
 "cells": [
  {
   "cell_type": "code",
   "execution_count": 1,
   "metadata": {},
   "outputs": [],
   "source": [
    "import pandas as pd\n",
    "import matplotlib.pylab as plt\n",
    "import numpy as np\n",
    "import seaborn as sns"
   ]
  },
  {
   "cell_type": "markdown",
   "metadata": {},
   "source": [
    "### Read 3 Datasets"
   ]
  },
  {
   "cell_type": "code",
   "execution_count": 2,
   "metadata": {},
   "outputs": [],
   "source": [
    "ds1radiotemp = pd.read_csv(\"../../dataset_1_radioTemperatures_20210303.csv\",sep=';',dtype={'id_audit':np.str})"
   ]
  },
  {
   "cell_type": "code",
   "execution_count": 3,
   "metadata": {},
   "outputs": [
    {
     "data": {
      "text/html": [
       "<div>\n",
       "<style scoped>\n",
       "    .dataframe tbody tr th:only-of-type {\n",
       "        vertical-align: middle;\n",
       "    }\n",
       "\n",
       "    .dataframe tbody tr th {\n",
       "        vertical-align: top;\n",
       "    }\n",
       "\n",
       "    .dataframe thead th {\n",
       "        text-align: right;\n",
       "    }\n",
       "</style>\n",
       "<table border=\"1\" class=\"dataframe\">\n",
       "  <thead>\n",
       "    <tr style=\"text-align: right;\">\n",
       "      <th></th>\n",
       "      <th>id_field_values</th>\n",
       "      <th>id_ftp</th>\n",
       "      <th>id_audit</th>\n",
       "      <th>value</th>\n",
       "      <th>unit</th>\n",
       "      <th>field</th>\n",
       "    </tr>\n",
       "  </thead>\n",
       "  <tbody>\n",
       "    <tr>\n",
       "      <th>0</th>\n",
       "      <td>41310</td>\n",
       "      <td>108</td>\n",
       "      <td>147</td>\n",
       "      <td>23.5</td>\n",
       "      <td>C</td>\n",
       "      <td>TSensor_D4_</td>\n",
       "    </tr>\n",
       "    <tr>\n",
       "      <th>1</th>\n",
       "      <td>41311</td>\n",
       "      <td>108</td>\n",
       "      <td>147</td>\n",
       "      <td>23.8</td>\n",
       "      <td>C</td>\n",
       "      <td>TSensor_D5_</td>\n",
       "    </tr>\n",
       "    <tr>\n",
       "      <th>2</th>\n",
       "      <td>41312</td>\n",
       "      <td>108</td>\n",
       "      <td>147</td>\n",
       "      <td>26.3</td>\n",
       "      <td>C</td>\n",
       "      <td>TSensor_D6_</td>\n",
       "    </tr>\n",
       "    <tr>\n",
       "      <th>3</th>\n",
       "      <td>41313</td>\n",
       "      <td>108</td>\n",
       "      <td>147</td>\n",
       "      <td>23.5</td>\n",
       "      <td>C</td>\n",
       "      <td>TSensor_D8_</td>\n",
       "    </tr>\n",
       "    <tr>\n",
       "      <th>4</th>\n",
       "      <td>41314</td>\n",
       "      <td>108</td>\n",
       "      <td>147</td>\n",
       "      <td>23.0</td>\n",
       "      <td>C</td>\n",
       "      <td>TSensor_D9_</td>\n",
       "    </tr>\n",
       "  </tbody>\n",
       "</table>\n",
       "</div>"
      ],
      "text/plain": [
       "   id_field_values  id_ftp id_audit  value unit        field\n",
       "0            41310     108      147   23.5    C  TSensor_D4_\n",
       "1            41311     108      147   23.8    C  TSensor_D5_\n",
       "2            41312     108      147   26.3    C  TSensor_D6_\n",
       "3            41313     108      147   23.5    C  TSensor_D8_\n",
       "4            41314     108      147   23.0    C  TSensor_D9_"
      ]
     },
     "execution_count": 3,
     "metadata": {},
     "output_type": "execute_result"
    }
   ],
   "source": [
    "ds1radiotemp.head()"
   ]
  },
  {
   "cell_type": "code",
   "execution_count": 4,
   "metadata": {},
   "outputs": [],
   "source": [
    "ds2powerclass = pd.read_csv(\"../../dataset_2_powerClass_20210303.csv\", sep=\";\", dtype={'id_audit':np.str})"
   ]
  },
  {
   "cell_type": "code",
   "execution_count": 5,
   "metadata": {},
   "outputs": [
    {
     "data": {
      "text/html": [
       "<div>\n",
       "<style scoped>\n",
       "    .dataframe tbody tr th:only-of-type {\n",
       "        vertical-align: middle;\n",
       "    }\n",
       "\n",
       "    .dataframe tbody tr th {\n",
       "        vertical-align: top;\n",
       "    }\n",
       "\n",
       "    .dataframe thead th {\n",
       "        text-align: right;\n",
       "    }\n",
       "</style>\n",
       "<table border=\"1\" class=\"dataframe\">\n",
       "  <thead>\n",
       "    <tr style=\"text-align: right;\">\n",
       "      <th></th>\n",
       "      <th>id_trx_status</th>\n",
       "      <th>id_audit</th>\n",
       "      <th>branch_header</th>\n",
       "      <th>field</th>\n",
       "      <th>value</th>\n",
       "    </tr>\n",
       "  </thead>\n",
       "  <tbody>\n",
       "    <tr>\n",
       "      <th>0</th>\n",
       "      <td>2917</td>\n",
       "      <td>21</td>\n",
       "      <td>Branch A</td>\n",
       "      <td>powerClass</td>\n",
       "      <td>20W [43.00 dBm]</td>\n",
       "    </tr>\n",
       "    <tr>\n",
       "      <th>1</th>\n",
       "      <td>3008</td>\n",
       "      <td>21</td>\n",
       "      <td>Branch B</td>\n",
       "      <td>powerClass</td>\n",
       "      <td>20W [43.00 dBm]</td>\n",
       "    </tr>\n",
       "    <tr>\n",
       "      <th>2</th>\n",
       "      <td>3099</td>\n",
       "      <td>21</td>\n",
       "      <td>Branch C</td>\n",
       "      <td>powerClass</td>\n",
       "      <td>20W [43.00 dBm]</td>\n",
       "    </tr>\n",
       "    <tr>\n",
       "      <th>3</th>\n",
       "      <td>3190</td>\n",
       "      <td>21</td>\n",
       "      <td>Branch D</td>\n",
       "      <td>powerClass</td>\n",
       "      <td>20W [43.00 dBm]</td>\n",
       "    </tr>\n",
       "    <tr>\n",
       "      <th>4</th>\n",
       "      <td>3286</td>\n",
       "      <td>21</td>\n",
       "      <td>Branch E</td>\n",
       "      <td>powerClass</td>\n",
       "      <td>40W [46.15 dBm]</td>\n",
       "    </tr>\n",
       "  </tbody>\n",
       "</table>\n",
       "</div>"
      ],
      "text/plain": [
       "   id_trx_status id_audit branch_header       field            value\n",
       "0           2917       21      Branch A  powerClass  20W [43.00 dBm]\n",
       "1           3008       21      Branch B  powerClass  20W [43.00 dBm]\n",
       "2           3099       21      Branch C  powerClass  20W [43.00 dBm]\n",
       "3           3190       21      Branch D  powerClass  20W [43.00 dBm]\n",
       "4           3286       21      Branch E  powerClass  40W [46.15 dBm]"
      ]
     },
     "execution_count": 5,
     "metadata": {},
     "output_type": "execute_result"
    }
   ],
   "source": [
    "ds2powerclass.head()"
   ]
  },
  {
   "cell_type": "code",
   "execution_count": 6,
   "metadata": {},
   "outputs": [
    {
     "data": {
      "text/html": [
       "<div>\n",
       "<style scoped>\n",
       "    .dataframe tbody tr th:only-of-type {\n",
       "        vertical-align: middle;\n",
       "    }\n",
       "\n",
       "    .dataframe tbody tr th {\n",
       "        vertical-align: top;\n",
       "    }\n",
       "\n",
       "    .dataframe thead th {\n",
       "        text-align: right;\n",
       "    }\n",
       "</style>\n",
       "<table border=\"1\" class=\"dataframe\">\n",
       "  <thead>\n",
       "    <tr style=\"text-align: right;\">\n",
       "      <th></th>\n",
       "      <th>id_trx_status</th>\n",
       "      <th>id_audit</th>\n",
       "      <th>branch_header</th>\n",
       "      <th>field</th>\n",
       "      <th>value</th>\n",
       "    </tr>\n",
       "  </thead>\n",
       "  <tbody>\n",
       "    <tr>\n",
       "      <th>84905</th>\n",
       "      <td>156077628</td>\n",
       "      <td>1000018</td>\n",
       "      <td>Branch A</td>\n",
       "      <td>powerClass</td>\n",
       "      <td>40W [44.80 dBm]</td>\n",
       "    </tr>\n",
       "    <tr>\n",
       "      <th>84906</th>\n",
       "      <td>156077727</td>\n",
       "      <td>1000018</td>\n",
       "      <td>Branch B</td>\n",
       "      <td>powerClass</td>\n",
       "      <td>40W [44.80 dBm]</td>\n",
       "    </tr>\n",
       "    <tr>\n",
       "      <th>84907</th>\n",
       "      <td>156077826</td>\n",
       "      <td>1000018</td>\n",
       "      <td>Branch C</td>\n",
       "      <td>powerClass</td>\n",
       "      <td>40W [44.80 dBm]</td>\n",
       "    </tr>\n",
       "    <tr>\n",
       "      <th>84908</th>\n",
       "      <td>156077925</td>\n",
       "      <td>1000018</td>\n",
       "      <td>Branch D</td>\n",
       "      <td>powerClass</td>\n",
       "      <td>40W [44.80 dBm]</td>\n",
       "    </tr>\n",
       "    <tr>\n",
       "      <th>84909</th>\n",
       "      <td>156078041</td>\n",
       "      <td>1000018</td>\n",
       "      <td>Branch E</td>\n",
       "      <td>powerClass</td>\n",
       "      <td>60W [47.80 dBm]</td>\n",
       "    </tr>\n",
       "    <tr>\n",
       "      <th>84910</th>\n",
       "      <td>156078140</td>\n",
       "      <td>1000018</td>\n",
       "      <td>Branch F</td>\n",
       "      <td>powerClass</td>\n",
       "      <td>60W [47.80 dBm]</td>\n",
       "    </tr>\n",
       "    <tr>\n",
       "      <th>84911</th>\n",
       "      <td>156078240</td>\n",
       "      <td>1000018</td>\n",
       "      <td>Branch G</td>\n",
       "      <td>powerClass</td>\n",
       "      <td>60W [47.80 dBm]</td>\n",
       "    </tr>\n",
       "    <tr>\n",
       "      <th>84912</th>\n",
       "      <td>156078351</td>\n",
       "      <td>1000018</td>\n",
       "      <td>Branch H</td>\n",
       "      <td>powerClass</td>\n",
       "      <td>60W [47.80 dBm]</td>\n",
       "    </tr>\n",
       "    <tr>\n",
       "      <th>87177</th>\n",
       "      <td>156080912</td>\n",
       "      <td>1000033</td>\n",
       "      <td>Branch A</td>\n",
       "      <td>powerClass</td>\n",
       "      <td>40W [46.00 dBm]</td>\n",
       "    </tr>\n",
       "    <tr>\n",
       "      <th>87178</th>\n",
       "      <td>156081014</td>\n",
       "      <td>1000033</td>\n",
       "      <td>Branch B</td>\n",
       "      <td>powerClass</td>\n",
       "      <td>40W [46.00 dBm]</td>\n",
       "    </tr>\n",
       "  </tbody>\n",
       "</table>\n",
       "</div>"
      ],
      "text/plain": [
       "       id_trx_status id_audit branch_header       field            value\n",
       "84905      156077628  1000018      Branch A  powerClass  40W [44.80 dBm]\n",
       "84906      156077727  1000018      Branch B  powerClass  40W [44.80 dBm]\n",
       "84907      156077826  1000018      Branch C  powerClass  40W [44.80 dBm]\n",
       "84908      156077925  1000018      Branch D  powerClass  40W [44.80 dBm]\n",
       "84909      156078041  1000018      Branch E  powerClass  60W [47.80 dBm]\n",
       "84910      156078140  1000018      Branch F  powerClass  60W [47.80 dBm]\n",
       "84911      156078240  1000018      Branch G  powerClass  60W [47.80 dBm]\n",
       "84912      156078351  1000018      Branch H  powerClass  60W [47.80 dBm]\n",
       "87177      156080912  1000033      Branch A  powerClass  40W [46.00 dBm]\n",
       "87178      156081014  1000033      Branch B  powerClass  40W [46.00 dBm]"
      ]
     },
     "execution_count": 6,
     "metadata": {},
     "output_type": "execute_result"
    }
   ],
   "source": [
    "ds2powerclass.sort_values(['id_audit','branch_header']).head(10)"
   ]
  },
  {
   "cell_type": "code",
   "execution_count": 7,
   "metadata": {},
   "outputs": [],
   "source": [
    "ds3radioid = pd.read_csv(\"../../dataset_3_radioId_20210303.csv\",sep=\";\", dtype={'id_audit':np.str})"
   ]
  },
  {
   "cell_type": "code",
   "execution_count": 8,
   "metadata": {},
   "outputs": [
    {
     "data": {
      "text/html": [
       "<div>\n",
       "<style scoped>\n",
       "    .dataframe tbody tr th:only-of-type {\n",
       "        vertical-align: middle;\n",
       "    }\n",
       "\n",
       "    .dataframe tbody tr th {\n",
       "        vertical-align: top;\n",
       "    }\n",
       "\n",
       "    .dataframe thead th {\n",
       "        text-align: right;\n",
       "    }\n",
       "</style>\n",
       "<table border=\"1\" class=\"dataframe\">\n",
       "  <thead>\n",
       "    <tr style=\"text-align: right;\">\n",
       "      <th></th>\n",
       "      <th>id_audit</th>\n",
       "      <th>customer</th>\n",
       "      <th>serial</th>\n",
       "    </tr>\n",
       "  </thead>\n",
       "  <tbody>\n",
       "    <tr>\n",
       "      <th>0</th>\n",
       "      <td>21</td>\n",
       "      <td>2</td>\n",
       "      <td>15551</td>\n",
       "    </tr>\n",
       "    <tr>\n",
       "      <th>1</th>\n",
       "      <td>23</td>\n",
       "      <td>2</td>\n",
       "      <td>15403</td>\n",
       "    </tr>\n",
       "    <tr>\n",
       "      <th>2</th>\n",
       "      <td>25</td>\n",
       "      <td>2</td>\n",
       "      <td>16084</td>\n",
       "    </tr>\n",
       "    <tr>\n",
       "      <th>3</th>\n",
       "      <td>147</td>\n",
       "      <td>2</td>\n",
       "      <td>17087</td>\n",
       "    </tr>\n",
       "    <tr>\n",
       "      <th>4</th>\n",
       "      <td>746</td>\n",
       "      <td>2</td>\n",
       "      <td>15486</td>\n",
       "    </tr>\n",
       "  </tbody>\n",
       "</table>\n",
       "</div>"
      ],
      "text/plain": [
       "  id_audit  customer  serial\n",
       "0       21         2   15551\n",
       "1       23         2   15403\n",
       "2       25         2   16084\n",
       "3      147         2   17087\n",
       "4      746         2   15486"
      ]
     },
     "execution_count": 8,
     "metadata": {},
     "output_type": "execute_result"
    }
   ],
   "source": [
    "ds3radioid.head()"
   ]
  },
  {
   "cell_type": "markdown",
   "metadata": {},
   "source": [
    "### Check if exists any empty records in radio Temp dataset\n",
    "* Here we found 641 records without temperatures, among total 3238259\n",
    "* Sounds mostly due to \"Error: Command unsupported\"\n",
    "* TSensor_N22_ is not working at all. Total: 638, Breakdown: 638 \n",
    "* At this stage, we just remove those records"
   ]
  },
  {
   "cell_type": "code",
   "execution_count": 9,
   "metadata": {},
   "outputs": [
    {
     "name": "stdout",
     "output_type": "stream",
     "text": [
      "<class 'pandas.core.frame.DataFrame'>\n",
      "RangeIndex: 3238259 entries, 0 to 3238258\n",
      "Data columns (total 6 columns):\n",
      " #   Column           Non-Null Count    Dtype  \n",
      "---  ------           --------------    -----  \n",
      " 0   id_field_values  3238259 non-null  int64  \n",
      " 1   id_ftp           3238259 non-null  int64  \n",
      " 2   id_audit         3238259 non-null  object \n",
      " 3   value            3237618 non-null  float64\n",
      " 4   unit             3238259 non-null  object \n",
      " 5   field            3238259 non-null  object \n",
      "dtypes: float64(1), int64(2), object(3)\n",
      "memory usage: 148.2+ MB\n"
     ]
    }
   ],
   "source": [
    "ds1radiotemp.info(verbose=True,null_counts=True)"
   ]
  },
  {
   "cell_type": "code",
   "execution_count": 10,
   "metadata": {},
   "outputs": [
    {
     "data": {
      "text/plain": [
       "id_field_values      0\n",
       "id_ftp               0\n",
       "id_audit             0\n",
       "value              641\n",
       "unit                 0\n",
       "field                0\n",
       "dtype: int64"
      ]
     },
     "execution_count": 10,
     "metadata": {},
     "output_type": "execute_result"
    }
   ],
   "source": [
    "ds1radiotemp.isnull().sum()"
   ]
  },
  {
   "cell_type": "code",
   "execution_count": 11,
   "metadata": {},
   "outputs": [
    {
     "data": {
      "text/html": [
       "<div>\n",
       "<style scoped>\n",
       "    .dataframe tbody tr th:only-of-type {\n",
       "        vertical-align: middle;\n",
       "    }\n",
       "\n",
       "    .dataframe tbody tr th {\n",
       "        vertical-align: top;\n",
       "    }\n",
       "\n",
       "    .dataframe thead th {\n",
       "        text-align: right;\n",
       "    }\n",
       "</style>\n",
       "<table border=\"1\" class=\"dataframe\">\n",
       "  <thead>\n",
       "    <tr style=\"text-align: right;\">\n",
       "      <th></th>\n",
       "      <th>id_field_values</th>\n",
       "      <th>id_ftp</th>\n",
       "      <th>id_audit</th>\n",
       "      <th>value</th>\n",
       "      <th>field</th>\n",
       "    </tr>\n",
       "    <tr>\n",
       "      <th>unit</th>\n",
       "      <th></th>\n",
       "      <th></th>\n",
       "      <th></th>\n",
       "      <th></th>\n",
       "      <th></th>\n",
       "    </tr>\n",
       "  </thead>\n",
       "  <tbody>\n",
       "    <tr>\n",
       "      <th>Error: Command unsupported</th>\n",
       "      <td>596</td>\n",
       "      <td>596</td>\n",
       "      <td>596</td>\n",
       "      <td>0</td>\n",
       "      <td>596</td>\n",
       "    </tr>\n",
       "    <tr>\n",
       "      <th>Error: Link BXP_2048 is not accessible. Please typ</th>\n",
       "      <td>1</td>\n",
       "      <td>1</td>\n",
       "      <td>1</td>\n",
       "      <td>0</td>\n",
       "      <td>1</td>\n",
       "    </tr>\n",
       "    <tr>\n",
       "      <th>Error: Link BXP_2049 is not accessible. Please typ</th>\n",
       "      <td>2</td>\n",
       "      <td>2</td>\n",
       "      <td>2</td>\n",
       "      <td>0</td>\n",
       "      <td>2</td>\n",
       "    </tr>\n",
       "    <tr>\n",
       "      <th>Error: Link BXP_2053 is not accessible. Please typ</th>\n",
       "      <td>2</td>\n",
       "      <td>2</td>\n",
       "      <td>2</td>\n",
       "      <td>0</td>\n",
       "      <td>2</td>\n",
       "    </tr>\n",
       "    <tr>\n",
       "      <th>Error: Link BXP_2054 is not accessible. Please typ</th>\n",
       "      <td>1</td>\n",
       "      <td>1</td>\n",
       "      <td>1</td>\n",
       "      <td>0</td>\n",
       "      <td>1</td>\n",
       "    </tr>\n",
       "    <tr>\n",
       "      <th>Error: Link BXP_2063 is not accessible. Please typ</th>\n",
       "      <td>1</td>\n",
       "      <td>1</td>\n",
       "      <td>1</td>\n",
       "      <td>0</td>\n",
       "      <td>1</td>\n",
       "    </tr>\n",
       "    <tr>\n",
       "      <th>Error: Link BXP_2064 is not accessible. Please typ</th>\n",
       "      <td>1</td>\n",
       "      <td>1</td>\n",
       "      <td>1</td>\n",
       "      <td>0</td>\n",
       "      <td>1</td>\n",
       "    </tr>\n",
       "    <tr>\n",
       "      <th>remote shell died</th>\n",
       "      <td>2</td>\n",
       "      <td>2</td>\n",
       "      <td>2</td>\n",
       "      <td>0</td>\n",
       "      <td>2</td>\n",
       "    </tr>\n",
       "    <tr>\n",
       "      <th>ts</th>\n",
       "      <td>2</td>\n",
       "      <td>2</td>\n",
       "      <td>2</td>\n",
       "      <td>0</td>\n",
       "      <td>2</td>\n",
       "    </tr>\n",
       "    <tr>\n",
       "      <th>unable to hunt BXP_2048/ose_shelld</th>\n",
       "      <td>9</td>\n",
       "      <td>9</td>\n",
       "      <td>9</td>\n",
       "      <td>0</td>\n",
       "      <td>9</td>\n",
       "    </tr>\n",
       "    <tr>\n",
       "      <th>unable to hunt BXP_2049/ose_shelld</th>\n",
       "      <td>10</td>\n",
       "      <td>10</td>\n",
       "      <td>10</td>\n",
       "      <td>0</td>\n",
       "      <td>10</td>\n",
       "    </tr>\n",
       "    <tr>\n",
       "      <th>unable to hunt BXP_2050/ose_shelld</th>\n",
       "      <td>3</td>\n",
       "      <td>3</td>\n",
       "      <td>3</td>\n",
       "      <td>0</td>\n",
       "      <td>3</td>\n",
       "    </tr>\n",
       "    <tr>\n",
       "      <th>unable to hunt BXP_2051/ose_shelld</th>\n",
       "      <td>2</td>\n",
       "      <td>2</td>\n",
       "      <td>2</td>\n",
       "      <td>0</td>\n",
       "      <td>2</td>\n",
       "    </tr>\n",
       "    <tr>\n",
       "      <th>unable to hunt BXP_2052/ose_shelld</th>\n",
       "      <td>2</td>\n",
       "      <td>2</td>\n",
       "      <td>2</td>\n",
       "      <td>0</td>\n",
       "      <td>2</td>\n",
       "    </tr>\n",
       "    <tr>\n",
       "      <th>unable to hunt BXP_2053/ose_shelld</th>\n",
       "      <td>1</td>\n",
       "      <td>1</td>\n",
       "      <td>1</td>\n",
       "      <td>0</td>\n",
       "      <td>1</td>\n",
       "    </tr>\n",
       "    <tr>\n",
       "      <th>unable to hunt BXP_2054/ose_shelld</th>\n",
       "      <td>1</td>\n",
       "      <td>1</td>\n",
       "      <td>1</td>\n",
       "      <td>0</td>\n",
       "      <td>1</td>\n",
       "    </tr>\n",
       "    <tr>\n",
       "      <th>unable to hunt BXP_2055/ose_shelld</th>\n",
       "      <td>2</td>\n",
       "      <td>2</td>\n",
       "      <td>2</td>\n",
       "      <td>0</td>\n",
       "      <td>2</td>\n",
       "    </tr>\n",
       "    <tr>\n",
       "      <th>unable to hunt BXP_2058/ose_shelld</th>\n",
       "      <td>1</td>\n",
       "      <td>1</td>\n",
       "      <td>1</td>\n",
       "      <td>0</td>\n",
       "      <td>1</td>\n",
       "    </tr>\n",
       "    <tr>\n",
       "      <th>unable to hunt BXP_2067/ose_shelld</th>\n",
       "      <td>1</td>\n",
       "      <td>1</td>\n",
       "      <td>1</td>\n",
       "      <td>0</td>\n",
       "      <td>1</td>\n",
       "    </tr>\n",
       "    <tr>\n",
       "      <th>unsupported</th>\n",
       "      <td>1</td>\n",
       "      <td>1</td>\n",
       "      <td>1</td>\n",
       "      <td>0</td>\n",
       "      <td>1</td>\n",
       "    </tr>\n",
       "  </tbody>\n",
       "</table>\n",
       "</div>"
      ],
      "text/plain": [
       "                                                    id_field_values  id_ftp  \\\n",
       "unit                                                                          \n",
       "Error: Command unsupported                                      596     596   \n",
       "Error: Link BXP_2048 is not accessible. Please typ                1       1   \n",
       "Error: Link BXP_2049 is not accessible. Please typ                2       2   \n",
       "Error: Link BXP_2053 is not accessible. Please typ                2       2   \n",
       "Error: Link BXP_2054 is not accessible. Please typ                1       1   \n",
       "Error: Link BXP_2063 is not accessible. Please typ                1       1   \n",
       "Error: Link BXP_2064 is not accessible. Please typ                1       1   \n",
       "remote shell died                                                 2       2   \n",
       "ts                                                                2       2   \n",
       "unable to hunt BXP_2048/ose_shelld                                9       9   \n",
       "unable to hunt BXP_2049/ose_shelld                               10      10   \n",
       "unable to hunt BXP_2050/ose_shelld                                3       3   \n",
       "unable to hunt BXP_2051/ose_shelld                                2       2   \n",
       "unable to hunt BXP_2052/ose_shelld                                2       2   \n",
       "unable to hunt BXP_2053/ose_shelld                                1       1   \n",
       "unable to hunt BXP_2054/ose_shelld                                1       1   \n",
       "unable to hunt BXP_2055/ose_shelld                                2       2   \n",
       "unable to hunt BXP_2058/ose_shelld                                1       1   \n",
       "unable to hunt BXP_2067/ose_shelld                                1       1   \n",
       "unsupported                                                       1       1   \n",
       "\n",
       "                                                    id_audit  value  field  \n",
       "unit                                                                        \n",
       "Error: Command unsupported                               596      0    596  \n",
       "Error: Link BXP_2048 is not accessible. Please typ         1      0      1  \n",
       "Error: Link BXP_2049 is not accessible. Please typ         2      0      2  \n",
       "Error: Link BXP_2053 is not accessible. Please typ         2      0      2  \n",
       "Error: Link BXP_2054 is not accessible. Please typ         1      0      1  \n",
       "Error: Link BXP_2063 is not accessible. Please typ         1      0      1  \n",
       "Error: Link BXP_2064 is not accessible. Please typ         1      0      1  \n",
       "remote shell died                                          2      0      2  \n",
       "ts                                                         2      0      2  \n",
       "unable to hunt BXP_2048/ose_shelld                         9      0      9  \n",
       "unable to hunt BXP_2049/ose_shelld                        10      0     10  \n",
       "unable to hunt BXP_2050/ose_shelld                         3      0      3  \n",
       "unable to hunt BXP_2051/ose_shelld                         2      0      2  \n",
       "unable to hunt BXP_2052/ose_shelld                         2      0      2  \n",
       "unable to hunt BXP_2053/ose_shelld                         1      0      1  \n",
       "unable to hunt BXP_2054/ose_shelld                         1      0      1  \n",
       "unable to hunt BXP_2055/ose_shelld                         2      0      2  \n",
       "unable to hunt BXP_2058/ose_shelld                         1      0      1  \n",
       "unable to hunt BXP_2067/ose_shelld                         1      0      1  \n",
       "unsupported                                                1      0      1  "
      ]
     },
     "execution_count": 11,
     "metadata": {},
     "output_type": "execute_result"
    }
   ],
   "source": [
    "ds1radiotemp[ds1radiotemp.value.isnull()].groupby('unit').count()"
   ]
  },
  {
   "cell_type": "code",
   "execution_count": 12,
   "metadata": {},
   "outputs": [
    {
     "data": {
      "text/html": [
       "<div>\n",
       "<style scoped>\n",
       "    .dataframe tbody tr th:only-of-type {\n",
       "        vertical-align: middle;\n",
       "    }\n",
       "\n",
       "    .dataframe tbody tr th {\n",
       "        vertical-align: top;\n",
       "    }\n",
       "\n",
       "    .dataframe thead th {\n",
       "        text-align: right;\n",
       "    }\n",
       "</style>\n",
       "<table border=\"1\" class=\"dataframe\">\n",
       "  <thead>\n",
       "    <tr style=\"text-align: right;\">\n",
       "      <th></th>\n",
       "      <th>id_field_values</th>\n",
       "      <th>id_ftp</th>\n",
       "      <th>id_audit</th>\n",
       "      <th>value</th>\n",
       "      <th>unit</th>\n",
       "    </tr>\n",
       "    <tr>\n",
       "      <th>field</th>\n",
       "      <th></th>\n",
       "      <th></th>\n",
       "      <th></th>\n",
       "      <th></th>\n",
       "      <th></th>\n",
       "    </tr>\n",
       "  </thead>\n",
       "  <tbody>\n",
       "    <tr>\n",
       "      <th>TSensor_E20_</th>\n",
       "      <td>1</td>\n",
       "      <td>1</td>\n",
       "      <td>1</td>\n",
       "      <td>0</td>\n",
       "      <td>1</td>\n",
       "    </tr>\n",
       "    <tr>\n",
       "      <th>TSensor_I21_</th>\n",
       "      <td>2</td>\n",
       "      <td>2</td>\n",
       "      <td>2</td>\n",
       "      <td>0</td>\n",
       "      <td>2</td>\n",
       "    </tr>\n",
       "    <tr>\n",
       "      <th>TSensor_N22_</th>\n",
       "      <td>638</td>\n",
       "      <td>638</td>\n",
       "      <td>638</td>\n",
       "      <td>0</td>\n",
       "      <td>638</td>\n",
       "    </tr>\n",
       "  </tbody>\n",
       "</table>\n",
       "</div>"
      ],
      "text/plain": [
       "              id_field_values  id_ftp  id_audit  value  unit\n",
       "field                                                       \n",
       "TSensor_E20_                1       1         1      0     1\n",
       "TSensor_I21_                2       2         2      0     2\n",
       "TSensor_N22_              638     638       638      0   638"
      ]
     },
     "execution_count": 12,
     "metadata": {},
     "output_type": "execute_result"
    }
   ],
   "source": [
    "ds1radiotemp[ds1radiotemp.value.isnull()].groupby('field').count()"
   ]
  },
  {
   "cell_type": "code",
   "execution_count": 19,
   "metadata": {},
   "outputs": [
    {
     "data": {
      "text/plain": [
       "638"
      ]
     },
     "execution_count": 19,
     "metadata": {},
     "output_type": "execute_result"
    }
   ],
   "source": [
    "ds1radiotemp[ds1radiotemp.field=='TSensor_N22_']['field'].count()"
   ]
  },
  {
   "cell_type": "code",
   "execution_count": 20,
   "metadata": {},
   "outputs": [],
   "source": [
    "ds1radiotemp.dropna(inplace=True)"
   ]
  },
  {
   "cell_type": "code",
   "execution_count": 21,
   "metadata": {},
   "outputs": [
    {
     "name": "stdout",
     "output_type": "stream",
     "text": [
      "<class 'pandas.core.frame.DataFrame'>\n",
      "Int64Index: 3237618 entries, 0 to 3238258\n",
      "Data columns (total 6 columns):\n",
      " #   Column           Non-Null Count    Dtype  \n",
      "---  ------           --------------    -----  \n",
      " 0   id_field_values  3237618 non-null  int64  \n",
      " 1   id_ftp           3237618 non-null  int64  \n",
      " 2   id_audit         3237618 non-null  object \n",
      " 3   value            3237618 non-null  float64\n",
      " 4   unit             3237618 non-null  object \n",
      " 5   field            3237618 non-null  object \n",
      "dtypes: float64(1), int64(2), object(3)\n",
      "memory usage: 172.9+ MB\n"
     ]
    }
   ],
   "source": [
    "ds1radiotemp.info(verbose=True,null_counts=True)"
   ]
  },
  {
   "cell_type": "markdown",
   "metadata": {},
   "source": [
    "### Check if exists any empty records in powerclass dataset\n",
    "* no missing data"
   ]
  },
  {
   "cell_type": "code",
   "execution_count": 22,
   "metadata": {},
   "outputs": [
    {
     "name": "stdout",
     "output_type": "stream",
     "text": [
      "<class 'pandas.core.frame.DataFrame'>\n",
      "RangeIndex: 366812 entries, 0 to 366811\n",
      "Data columns (total 5 columns):\n",
      " #   Column         Non-Null Count   Dtype \n",
      "---  ------         --------------   ----- \n",
      " 0   id_trx_status  366812 non-null  int64 \n",
      " 1   id_audit       366812 non-null  object\n",
      " 2   branch_header  366812 non-null  object\n",
      " 3   field          366812 non-null  object\n",
      " 4   value          366812 non-null  object\n",
      "dtypes: int64(1), object(4)\n",
      "memory usage: 14.0+ MB\n"
     ]
    }
   ],
   "source": [
    "ds2powerclass.info(verbose=True,null_counts=True)"
   ]
  },
  {
   "cell_type": "markdown",
   "metadata": {},
   "source": [
    "### Check if exists any empty records in radioId dataset\n",
    "* no missing data"
   ]
  },
  {
   "cell_type": "code",
   "execution_count": 23,
   "metadata": {},
   "outputs": [
    {
     "name": "stdout",
     "output_type": "stream",
     "text": [
      "<class 'pandas.core.frame.DataFrame'>\n",
      "RangeIndex: 74908 entries, 0 to 74907\n",
      "Data columns (total 3 columns):\n",
      " #   Column    Non-Null Count  Dtype \n",
      "---  ------    --------------  ----- \n",
      " 0   id_audit  74908 non-null  object\n",
      " 1   customer  74908 non-null  int64 \n",
      " 2   serial    74908 non-null  int64 \n",
      "dtypes: int64(2), object(1)\n",
      "memory usage: 1.7+ MB\n"
     ]
    }
   ],
   "source": [
    "ds3radioid.info(verbose=True,null_counts=True)"
   ]
  },
  {
   "cell_type": "markdown",
   "metadata": {},
   "source": [
    "### Find out basic data structure\n",
    "* Total Audit, 67455\n",
    "    * **each audit contains 48 records** \n",
    "    * But data is not full clean. 67455 * 48 = 3237840 (a slight bigger than cleaned data 3237618), less than 3238259 \n",
    "    * Indicates some audit does not contains 48 records, maybe because of less branches, or because of less sensors\n",
    "* Total Sensor 71\n",
    "* Total Serial 27781 \n",
    "    * *Not sure how Serial is associated to the type of Sensor.* \n",
    "    * *Not sure if all sensors of the same type is the same hardware/firmware or different serials incidates different hardware/firmware*\n",
    "    * *It sounds* **one audit connects one Serials** but ppt said several audit could share the same serials.\n",
    "    * This field sounds not useable, since it cannot connect to set of sensor clearly, even this might tell the firmware version, and impact temperature\n",
    "* Total Branch 8\n",
    "    * *It sounds* **each audit contains 8 branches, therefore, 6 sensors per branch**\n",
    "* Total PowerClass 366812\n",
    "    * **each branch contains a powerclass setup** This indicates 6 sensors share the same powerclass setup\n",
    "    * **Not all audit has powerclass setup** 45854 < 67455 This indicates data is not clean. might remove those dirty audits or use some \"default\" value\n",
    "    * **not all branches have powerclass setup (E,F,G,H braches)** This could be because no sensor is installed for E/F/G/H, or not have powerclass setup value. Need further check\n",
    "    * *Not sure how to link powerclass to a particular set of sensors, among 48 sensors per audit* \n",
    "    * We might have to restore powwerclass-sensor relationship from data\n",
    "* Total 2 customers\n",
    "    * *Not sure different customers could have different usage/setup, so that temperatures will be highly different* This can be found out by joining the ds1 and ds3."
   ]
  },
  {
   "cell_type": "code",
   "execution_count": 24,
   "metadata": {},
   "outputs": [
    {
     "data": {
      "text/plain": [
       "67455"
      ]
     },
     "execution_count": 24,
     "metadata": {},
     "output_type": "execute_result"
    }
   ],
   "source": [
    "ds1radiotemp['id_audit'].nunique()"
   ]
  },
  {
   "cell_type": "code",
   "execution_count": 25,
   "metadata": {},
   "outputs": [
    {
     "data": {
      "text/plain": [
       "3237840"
      ]
     },
     "execution_count": 25,
     "metadata": {},
     "output_type": "execute_result"
    }
   ],
   "source": [
    "67455 * 48"
   ]
  },
  {
   "cell_type": "code",
   "execution_count": 26,
   "metadata": {},
   "outputs": [
    {
     "data": {
      "text/plain": [
       "71"
      ]
     },
     "execution_count": 26,
     "metadata": {},
     "output_type": "execute_result"
    }
   ],
   "source": [
    "ds1radiotemp['field'].nunique()"
   ]
  },
  {
   "cell_type": "code",
   "execution_count": 27,
   "metadata": {},
   "outputs": [
    {
     "data": {
      "text/plain": [
       "27781"
      ]
     },
     "execution_count": 27,
     "metadata": {},
     "output_type": "execute_result"
    }
   ],
   "source": [
    "ds3radioid.serial.nunique()"
   ]
  },
  {
   "cell_type": "code",
   "execution_count": 32,
   "metadata": {},
   "outputs": [],
   "source": [
    "readingPerAuditDf = ds1radiotemp[['id_audit','value']].groupby('id_audit').count().reset_index().sort_values('value')"
   ]
  },
  {
   "cell_type": "code",
   "execution_count": 35,
   "metadata": {},
   "outputs": [
    {
     "data": {
      "text/html": [
       "<div>\n",
       "<style scoped>\n",
       "    .dataframe tbody tr th:only-of-type {\n",
       "        vertical-align: middle;\n",
       "    }\n",
       "\n",
       "    .dataframe tbody tr th {\n",
       "        vertical-align: top;\n",
       "    }\n",
       "\n",
       "    .dataframe thead th {\n",
       "        text-align: right;\n",
       "    }\n",
       "</style>\n",
       "<table border=\"1\" class=\"dataframe\">\n",
       "  <thead>\n",
       "    <tr style=\"text-align: right;\">\n",
       "      <th></th>\n",
       "      <th>value</th>\n",
       "    </tr>\n",
       "  </thead>\n",
       "  <tbody>\n",
       "    <tr>\n",
       "      <th>count</th>\n",
       "      <td>67455.000000</td>\n",
       "    </tr>\n",
       "    <tr>\n",
       "      <th>mean</th>\n",
       "      <td>47.996709</td>\n",
       "    </tr>\n",
       "    <tr>\n",
       "      <th>std</th>\n",
       "      <td>0.272347</td>\n",
       "    </tr>\n",
       "    <tr>\n",
       "      <th>min</th>\n",
       "      <td>24.000000</td>\n",
       "    </tr>\n",
       "    <tr>\n",
       "      <th>25%</th>\n",
       "      <td>48.000000</td>\n",
       "    </tr>\n",
       "    <tr>\n",
       "      <th>50%</th>\n",
       "      <td>48.000000</td>\n",
       "    </tr>\n",
       "    <tr>\n",
       "      <th>75%</th>\n",
       "      <td>48.000000</td>\n",
       "    </tr>\n",
       "    <tr>\n",
       "      <th>max</th>\n",
       "      <td>48.000000</td>\n",
       "    </tr>\n",
       "  </tbody>\n",
       "</table>\n",
       "</div>"
      ],
      "text/plain": [
       "              value\n",
       "count  67455.000000\n",
       "mean      47.996709\n",
       "std        0.272347\n",
       "min       24.000000\n",
       "25%       48.000000\n",
       "50%       48.000000\n",
       "75%       48.000000\n",
       "max       48.000000"
      ]
     },
     "execution_count": 35,
     "metadata": {},
     "output_type": "execute_result"
    }
   ],
   "source": [
    "readingPerAuditDf.describe()"
   ]
  },
  {
   "cell_type": "code",
   "execution_count": 37,
   "metadata": {},
   "outputs": [
    {
     "data": {
      "text/html": [
       "<div>\n",
       "<style scoped>\n",
       "    .dataframe tbody tr th:only-of-type {\n",
       "        vertical-align: middle;\n",
       "    }\n",
       "\n",
       "    .dataframe tbody tr th {\n",
       "        vertical-align: top;\n",
       "    }\n",
       "\n",
       "    .dataframe thead th {\n",
       "        text-align: right;\n",
       "    }\n",
       "</style>\n",
       "<table border=\"1\" class=\"dataframe\">\n",
       "  <thead>\n",
       "    <tr style=\"text-align: right;\">\n",
       "      <th></th>\n",
       "      <th>id_audit</th>\n",
       "    </tr>\n",
       "    <tr>\n",
       "      <th>value</th>\n",
       "      <th></th>\n",
       "    </tr>\n",
       "  </thead>\n",
       "  <tbody>\n",
       "    <tr>\n",
       "      <th>24</th>\n",
       "      <td>7</td>\n",
       "    </tr>\n",
       "    <tr>\n",
       "      <th>30</th>\n",
       "      <td>3</td>\n",
       "    </tr>\n",
       "    <tr>\n",
       "      <th>48</th>\n",
       "      <td>67445</td>\n",
       "    </tr>\n",
       "  </tbody>\n",
       "</table>\n",
       "</div>"
      ],
      "text/plain": [
       "       id_audit\n",
       "value          \n",
       "24            7\n",
       "30            3\n",
       "48        67445"
      ]
     },
     "execution_count": 37,
     "metadata": {},
     "output_type": "execute_result"
    }
   ],
   "source": [
    "readingPerAuditDf.groupby('value').count()"
   ]
  },
  {
   "cell_type": "code",
   "execution_count": 38,
   "metadata": {},
   "outputs": [
    {
     "data": {
      "text/html": [
       "<div>\n",
       "<style scoped>\n",
       "    .dataframe tbody tr th:only-of-type {\n",
       "        vertical-align: middle;\n",
       "    }\n",
       "\n",
       "    .dataframe tbody tr th {\n",
       "        vertical-align: top;\n",
       "    }\n",
       "\n",
       "    .dataframe thead th {\n",
       "        text-align: right;\n",
       "    }\n",
       "</style>\n",
       "<table border=\"1\" class=\"dataframe\">\n",
       "  <thead>\n",
       "    <tr style=\"text-align: right;\">\n",
       "      <th></th>\n",
       "      <th>id_audit</th>\n",
       "      <th>value</th>\n",
       "    </tr>\n",
       "  </thead>\n",
       "  <tbody>\n",
       "    <tr>\n",
       "      <th>20866</th>\n",
       "      <td>1301295</td>\n",
       "      <td>24</td>\n",
       "    </tr>\n",
       "    <tr>\n",
       "      <th>19657</th>\n",
       "      <td>1285950</td>\n",
       "      <td>24</td>\n",
       "    </tr>\n",
       "    <tr>\n",
       "      <th>19658</th>\n",
       "      <td>1285951</td>\n",
       "      <td>24</td>\n",
       "    </tr>\n",
       "    <tr>\n",
       "      <th>25679</th>\n",
       "      <td>1349385</td>\n",
       "      <td>24</td>\n",
       "    </tr>\n",
       "    <tr>\n",
       "      <th>19659</th>\n",
       "      <td>1285952</td>\n",
       "      <td>24</td>\n",
       "    </tr>\n",
       "    <tr>\n",
       "      <th>59585</th>\n",
       "      <td>898299</td>\n",
       "      <td>24</td>\n",
       "    </tr>\n",
       "    <tr>\n",
       "      <th>51823</th>\n",
       "      <td>1782690</td>\n",
       "      <td>24</td>\n",
       "    </tr>\n",
       "  </tbody>\n",
       "</table>\n",
       "</div>"
      ],
      "text/plain": [
       "      id_audit  value\n",
       "20866  1301295     24\n",
       "19657  1285950     24\n",
       "19658  1285951     24\n",
       "25679  1349385     24\n",
       "19659  1285952     24\n",
       "59585   898299     24\n",
       "51823  1782690     24"
      ]
     },
     "execution_count": 38,
     "metadata": {},
     "output_type": "execute_result"
    }
   ],
   "source": [
    "readingPerAuditDf[readingPerAuditDf.value==24]"
   ]
  },
  {
   "cell_type": "code",
   "execution_count": 44,
   "metadata": {},
   "outputs": [
    {
     "data": {
      "text/html": [
       "<div>\n",
       "<style scoped>\n",
       "    .dataframe tbody tr th:only-of-type {\n",
       "        vertical-align: middle;\n",
       "    }\n",
       "\n",
       "    .dataframe tbody tr th {\n",
       "        vertical-align: top;\n",
       "    }\n",
       "\n",
       "    .dataframe thead th {\n",
       "        text-align: right;\n",
       "    }\n",
       "</style>\n",
       "<table border=\"1\" class=\"dataframe\">\n",
       "  <thead>\n",
       "    <tr style=\"text-align: right;\">\n",
       "      <th></th>\n",
       "      <th>id_trx_status</th>\n",
       "      <th>id_audit</th>\n",
       "      <th>branch_header</th>\n",
       "      <th>field</th>\n",
       "      <th>value</th>\n",
       "    </tr>\n",
       "  </thead>\n",
       "  <tbody>\n",
       "    <tr>\n",
       "      <th>30159</th>\n",
       "      <td>126906776</td>\n",
       "      <td>898299</td>\n",
       "      <td>Branch A</td>\n",
       "      <td>powerClass</td>\n",
       "      <td>40W [46.00 dBm]</td>\n",
       "    </tr>\n",
       "    <tr>\n",
       "      <th>30160</th>\n",
       "      <td>126906881</td>\n",
       "      <td>898299</td>\n",
       "      <td>Branch B</td>\n",
       "      <td>powerClass</td>\n",
       "      <td>40W [46.00 dBm]</td>\n",
       "    </tr>\n",
       "    <tr>\n",
       "      <th>30161</th>\n",
       "      <td>126906985</td>\n",
       "      <td>898299</td>\n",
       "      <td>Branch C</td>\n",
       "      <td>powerClass</td>\n",
       "      <td>40W [46.00 dBm]</td>\n",
       "    </tr>\n",
       "    <tr>\n",
       "      <th>30162</th>\n",
       "      <td>126907091</td>\n",
       "      <td>898299</td>\n",
       "      <td>Branch D</td>\n",
       "      <td>powerClass</td>\n",
       "      <td>40W [46.00 dBm]</td>\n",
       "    </tr>\n",
       "  </tbody>\n",
       "</table>\n",
       "</div>"
      ],
      "text/plain": [
       "       id_trx_status id_audit branch_header       field            value\n",
       "30159      126906776   898299      Branch A  powerClass  40W [46.00 dBm]\n",
       "30160      126906881   898299      Branch B  powerClass  40W [46.00 dBm]\n",
       "30161      126906985   898299      Branch C  powerClass  40W [46.00 dBm]\n",
       "30162      126907091   898299      Branch D  powerClass  40W [46.00 dBm]"
      ]
     },
     "execution_count": 44,
     "metadata": {},
     "output_type": "execute_result"
    }
   ],
   "source": [
    "ds2powerclass[ds2powerclass.id_audit=='898299']"
   ]
  },
  {
   "cell_type": "code",
   "execution_count": null,
   "metadata": {},
   "outputs": [],
   "source": [
    "ds2powerclass['branch_header'].value_counts()"
   ]
  },
  {
   "cell_type": "code",
   "execution_count": null,
   "metadata": {},
   "outputs": [],
   "source": [
    "ds2powerclass['id_audit'].nunique()"
   ]
  },
  {
   "cell_type": "code",
   "execution_count": null,
   "metadata": {},
   "outputs": [],
   "source": [
    "ds3radioid['id_audit'].nunique()"
   ]
  },
  {
   "cell_type": "code",
   "execution_count": null,
   "metadata": {},
   "outputs": [],
   "source": [
    "ds3radioid.customer.nunique()"
   ]
  },
  {
   "cell_type": "markdown",
   "metadata": {},
   "source": [
    "### Check temperature distribution\n",
    "* Some sensors report negative values, this sounds not reasonable. But this might indicate weather temperature could impact record .For example, maybe sensor operates outside, in cold weather. \n",
    "* However, we dont have weather temperature. (*same physical location shall have similar weather temperature. If we can get location information from data, it will be good feature for modelling*)\n",
    "* From quantile, most negative gathers between -1.8 and -9.1, further negative -20 sounds abnormal.\n",
    "* Data is postive skew. Some extreme postive value exists\n",
    "* For postive temperatures, quite large range exists, maybe because different type of hardware, sensor, powerclass. need more study"
   ]
  },
  {
   "cell_type": "code",
   "execution_count": null,
   "metadata": {},
   "outputs": [],
   "source": [
    "ds1radiotemp.describe()"
   ]
  },
  {
   "cell_type": "code",
   "execution_count": null,
   "metadata": {},
   "outputs": [],
   "source": [
    "Q1 = ds1radiotemp['value'].quantile(0.25)\n",
    "Q3 = ds1radiotemp['value'].quantile(0.75)\n",
    "IQR = Q3 - Q1\n",
    "Q1out = Q1 - 1.5 * IQR\n",
    "Q3out = Q3 + 1.5 * IQR\n",
    "print(\"25% Quantile: \", Q1, \"##75% Quantile: \", Q3, \"##IQR: \", IQR, \"##Q1 outlier: \", Q1out, \"##Q3 outlier:\", Q3out)"
   ]
  },
  {
   "cell_type": "code",
   "execution_count": null,
   "metadata": {},
   "outputs": [],
   "source": [
    "ds1radiotemp['value'].skew()"
   ]
  },
  {
   "cell_type": "code",
   "execution_count": null,
   "metadata": {},
   "outputs": [],
   "source": [
    "ds1radiotemp_neg = ds1radiotemp[ds1radiotemp['value'] < 0]"
   ]
  },
  {
   "cell_type": "code",
   "execution_count": null,
   "metadata": {},
   "outputs": [],
   "source": [
    "ds1radiotemp_neg.describe()"
   ]
  },
  {
   "cell_type": "code",
   "execution_count": null,
   "metadata": {},
   "outputs": [],
   "source": [
    "Q1 = ds1radiotemp_neg['value'].quantile(0.25)\n",
    "Q3 = ds1radiotemp_neg['value'].quantile(0.75)\n",
    "IQR = Q3 - Q1\n",
    "Q1out = Q1 - 1.5 * IQR\n",
    "print(\"25% Quantile: \", Q1, \"##75% Quantile: \", Q3, \"##IQR: \", IQR, \"##Q1 outlier: \", Q1out)"
   ]
  },
  {
   "cell_type": "code",
   "execution_count": null,
   "metadata": {},
   "outputs": [],
   "source": [
    "#mybins = pd.qcut(ds1radiotemp['value'], q=4, labels = ['lower','low','high','higher'])\n",
    "cut_bins = [float(\"-inf\"), -30, -20, -10, 0, 10, 20, 30, 40, 50, 60, 70, 80, 90, 100,float(\"inf\")]\n",
    "mybins = pd.cut(ds1radiotemp['value'], bins=cut_bins)"
   ]
  },
  {
   "cell_type": "code",
   "execution_count": null,
   "metadata": {},
   "outputs": [],
   "source": [
    "mybins.value_counts().sort_index()"
   ]
  },
  {
   "cell_type": "code",
   "execution_count": null,
   "metadata": {},
   "outputs": [],
   "source": [
    "ds1radiotemp['bin'] = mybins"
   ]
  },
  {
   "cell_type": "code",
   "execution_count": null,
   "metadata": {},
   "outputs": [],
   "source": [
    "fig, ax = plt.subplots(figsize=(12,8)) \n",
    "df2 = ds1radiotemp.groupby('bin').count()\n",
    "df2['value'].plot(kind='bar', ax=ax)"
   ]
  },
  {
   "cell_type": "markdown",
   "metadata": {},
   "source": [
    "### Check temperature distribution per audit\n",
    "* Sounds different audit has large different range. Need found out the reason\n"
   ]
  },
  {
   "cell_type": "code",
   "execution_count": null,
   "metadata": {},
   "outputs": [],
   "source": [
    "ds1radiotemp.id_audit.unique()"
   ]
  },
  {
   "cell_type": "code",
   "execution_count": null,
   "metadata": {},
   "outputs": [],
   "source": [
    "ds1radiotemp[(ds1radiotemp.id_audit == '147') | (ds1radiotemp.id_audit == '746')\n",
    "             | (ds1radiotemp.id_audit == '599167')\n",
    "             | (ds1radiotemp.id_audit == '1970427')\n",
    "             | (ds1radiotemp.id_audit == '1970491')\n",
    "             | (ds1radiotemp.id_audit == '1970516')].boxplot(column='value', by='id_audit')"
   ]
  },
  {
   "cell_type": "markdown",
   "metadata": {},
   "source": [
    "### Check temperature distribution per sensor\n",
    "* **It indicates 2 differnt temperature segments.** \n",
    "* This might explain S1/S2 connets to power amplifier, S3-S9 connects to ohter HW on the radio\n",
    "* Need find out which sensors are S1/S2, which are S3-S9, or just clustering into 2 groups sounds OK\n",
    "* When clustering, a little bit concern about outliers might influence, so that sensores are classified into different group."
   ]
  },
  {
   "cell_type": "code",
   "execution_count": null,
   "metadata": {},
   "outputs": [],
   "source": [
    "pd.set_option('display.max_rows', 500)"
   ]
  },
  {
   "cell_type": "code",
   "execution_count": null,
   "metadata": {},
   "outputs": [],
   "source": [
    "my_orderData = ds1radiotemp.groupby(by=[\"field\"])[\"value\"].median().sort_values(ascending=False)\n",
    "my_orderData"
   ]
  },
  {
   "cell_type": "code",
   "execution_count": null,
   "metadata": {},
   "outputs": [],
   "source": [
    "ds1radiotemp[['field','value']].groupby('field').median().sort_values(ascending=False, by='value').hist()"
   ]
  },
  {
   "cell_type": "code",
   "execution_count": null,
   "metadata": {},
   "outputs": [],
   "source": [
    "my_order = my_orderData.index"
   ]
  },
  {
   "cell_type": "code",
   "execution_count": null,
   "metadata": {},
   "outputs": [],
   "source": [
    "fig, ax = plt.subplots(figsize=(80,8)) \n",
    "ax.set(ylim=(-10, 200))\n",
    "sns.boxplot(x='field', y='value', data=ds1radiotemp, ax=ax, order=my_order)"
   ]
  },
  {
   "cell_type": "code",
   "execution_count": null,
   "metadata": {},
   "outputs": [],
   "source": [
    "ds1radiotemp.head()"
   ]
  },
  {
   "cell_type": "code",
   "execution_count": null,
   "metadata": {},
   "outputs": [],
   "source": [
    "sortedSensor = ds1radiotemp['field'].value_counts().index"
   ]
  },
  {
   "cell_type": "code",
   "execution_count": null,
   "metadata": {},
   "outputs": [],
   "source": [
    "import matplotlib.ticker as ticker\n",
    "fig, ax = plt.subplots(figsize=(10,60)) \n",
    "ax = plt.axes(xscale='log', yscale='log')\n",
    "ax.grid();\n",
    "g=sns.boxplot(x='value', y='field', width=.6, palette=\"vlag\", data=ds1radiotemp, order=sortedSensor)\n",
    "#sns.stripplot(x=\"value\", y=\"field\", data=ds1radiotemp,\n",
    "#              size=4, color=\".3\", linewidth=0)\n",
    "#g.set_xscale(\"log\")\n",
    "plt.title(\"Sensor Record distribution\")\n",
    "#ax.xaxis.set_major_locator(ticker.MultipleLocator(0.5))\n",
    "#ax.xaxis.set_major_formatter(ticker.ScalarFormatter())\n",
    "ax.grid()\n",
    "plt.show()"
   ]
  },
  {
   "cell_type": "code",
   "execution_count": null,
   "metadata": {},
   "outputs": [],
   "source": [
    "fig, ax = plt.subplots(figsize=(80,8)) \n",
    "g= sns.countplot(x='field',data=ds1radiotemp, ax=ax, order = ds1radiotemp['field'].value_counts().index)\n",
    "g.set_yscale(\"log\")\n",
    "plt.title(\"Sensor Record Counts\")\n",
    "plt.show()"
   ]
  },
  {
   "cell_type": "code",
   "execution_count": null,
   "metadata": {},
   "outputs": [],
   "source": [
    "sensorCountdf = ds1radiotemp[['field', 'value']].groupby('field').count().reset_index().sort_values(['value'], ascending=False)"
   ]
  },
  {
   "cell_type": "code",
   "execution_count": null,
   "metadata": {},
   "outputs": [],
   "source": [
    "sensorCountdf['logcount'] = np.log10(sensorCountdf.value)"
   ]
  },
  {
   "cell_type": "code",
   "execution_count": null,
   "metadata": {},
   "outputs": [],
   "source": [
    "fig, ax = plt.subplots(figsize=(80,8)) \n",
    "sns.barplot(y='logcount',x='field',data=sensorCountdf, ax=ax)"
   ]
  },
  {
   "cell_type": "markdown",
   "metadata": {},
   "source": [
    "### Check temperature distribution per customer\n",
    "* 2 customers similar distribution, although the 2nd customer more variance"
   ]
  },
  {
   "cell_type": "code",
   "execution_count": null,
   "metadata": {},
   "outputs": [],
   "source": [
    "ds13join = ds1radiotemp.merge(ds3radioid,sort=False)"
   ]
  },
  {
   "cell_type": "code",
   "execution_count": null,
   "metadata": {},
   "outputs": [],
   "source": [
    "ds13join.head()"
   ]
  },
  {
   "cell_type": "code",
   "execution_count": null,
   "metadata": {},
   "outputs": [],
   "source": [
    "fig, ax = plt.subplots(figsize=(20,8)) \n",
    "ax.set(ylim=(-10, 200))\n",
    "sns.boxplot(x='customer', y='value', data=ds13join, ax=ax)"
   ]
  },
  {
   "cell_type": "code",
   "execution_count": null,
   "metadata": {},
   "outputs": [],
   "source": []
  }
 ],
 "metadata": {
  "kernelspec": {
   "display_name": "Python 3",
   "language": "python",
   "name": "python3"
  },
  "language_info": {
   "codemirror_mode": {
    "name": "ipython",
    "version": 3
   },
   "file_extension": ".py",
   "mimetype": "text/x-python",
   "name": "python",
   "nbconvert_exporter": "python",
   "pygments_lexer": "ipython3",
   "version": "3.6.5"
  }
 },
 "nbformat": 4,
 "nbformat_minor": 4
}
