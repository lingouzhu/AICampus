{
 "cells": [
  {
   "cell_type": "code",
   "execution_count": 1,
   "metadata": {},
   "outputs": [],
   "source": [
    "import pandas as pd\n",
    "import matplotlib.pylab as plt\n",
    "import numpy as np\n",
    "import seaborn as sns"
   ]
  },
  {
   "cell_type": "markdown",
   "metadata": {},
   "source": [
    "### Read 3 Datasets"
   ]
  },
  {
   "cell_type": "code",
   "execution_count": 2,
   "metadata": {},
   "outputs": [],
   "source": [
    "ds1radiotemp = pd.read_csv(\"../../dataset_1_radioTemperatures_20210303.csv\",sep=';',dtype={'id_audit':np.str})"
   ]
  },
  {
   "cell_type": "code",
   "execution_count": 3,
   "metadata": {},
   "outputs": [
    {
     "data": {
      "text/html": [
       "<div>\n",
       "<style scoped>\n",
       "    .dataframe tbody tr th:only-of-type {\n",
       "        vertical-align: middle;\n",
       "    }\n",
       "\n",
       "    .dataframe tbody tr th {\n",
       "        vertical-align: top;\n",
       "    }\n",
       "\n",
       "    .dataframe thead th {\n",
       "        text-align: right;\n",
       "    }\n",
       "</style>\n",
       "<table border=\"1\" class=\"dataframe\">\n",
       "  <thead>\n",
       "    <tr style=\"text-align: right;\">\n",
       "      <th></th>\n",
       "      <th>id_field_values</th>\n",
       "      <th>id_ftp</th>\n",
       "      <th>id_audit</th>\n",
       "      <th>value</th>\n",
       "      <th>unit</th>\n",
       "      <th>field</th>\n",
       "    </tr>\n",
       "  </thead>\n",
       "  <tbody>\n",
       "    <tr>\n",
       "      <th>0</th>\n",
       "      <td>41310</td>\n",
       "      <td>108</td>\n",
       "      <td>147</td>\n",
       "      <td>23.5</td>\n",
       "      <td>C</td>\n",
       "      <td>TSensor_D4_</td>\n",
       "    </tr>\n",
       "    <tr>\n",
       "      <th>1</th>\n",
       "      <td>41311</td>\n",
       "      <td>108</td>\n",
       "      <td>147</td>\n",
       "      <td>23.8</td>\n",
       "      <td>C</td>\n",
       "      <td>TSensor_D5_</td>\n",
       "    </tr>\n",
       "    <tr>\n",
       "      <th>2</th>\n",
       "      <td>41312</td>\n",
       "      <td>108</td>\n",
       "      <td>147</td>\n",
       "      <td>26.3</td>\n",
       "      <td>C</td>\n",
       "      <td>TSensor_D6_</td>\n",
       "    </tr>\n",
       "    <tr>\n",
       "      <th>3</th>\n",
       "      <td>41313</td>\n",
       "      <td>108</td>\n",
       "      <td>147</td>\n",
       "      <td>23.5</td>\n",
       "      <td>C</td>\n",
       "      <td>TSensor_D8_</td>\n",
       "    </tr>\n",
       "    <tr>\n",
       "      <th>4</th>\n",
       "      <td>41314</td>\n",
       "      <td>108</td>\n",
       "      <td>147</td>\n",
       "      <td>23.0</td>\n",
       "      <td>C</td>\n",
       "      <td>TSensor_D9_</td>\n",
       "    </tr>\n",
       "  </tbody>\n",
       "</table>\n",
       "</div>"
      ],
      "text/plain": [
       "   id_field_values  id_ftp id_audit  value unit        field\n",
       "0            41310     108      147   23.5    C  TSensor_D4_\n",
       "1            41311     108      147   23.8    C  TSensor_D5_\n",
       "2            41312     108      147   26.3    C  TSensor_D6_\n",
       "3            41313     108      147   23.5    C  TSensor_D8_\n",
       "4            41314     108      147   23.0    C  TSensor_D9_"
      ]
     },
     "execution_count": 3,
     "metadata": {},
     "output_type": "execute_result"
    }
   ],
   "source": [
    "ds1radiotemp.head()"
   ]
  },
  {
   "cell_type": "code",
   "execution_count": 4,
   "metadata": {},
   "outputs": [],
   "source": [
    "ds2powerclass = pd.read_csv(\"../../dataset_2_powerClass_20210303.csv\", sep=\";\", dtype={'id_audit':np.str})"
   ]
  },
  {
   "cell_type": "code",
   "execution_count": 5,
   "metadata": {},
   "outputs": [
    {
     "data": {
      "text/html": [
       "<div>\n",
       "<style scoped>\n",
       "    .dataframe tbody tr th:only-of-type {\n",
       "        vertical-align: middle;\n",
       "    }\n",
       "\n",
       "    .dataframe tbody tr th {\n",
       "        vertical-align: top;\n",
       "    }\n",
       "\n",
       "    .dataframe thead th {\n",
       "        text-align: right;\n",
       "    }\n",
       "</style>\n",
       "<table border=\"1\" class=\"dataframe\">\n",
       "  <thead>\n",
       "    <tr style=\"text-align: right;\">\n",
       "      <th></th>\n",
       "      <th>id_trx_status</th>\n",
       "      <th>id_audit</th>\n",
       "      <th>branch_header</th>\n",
       "      <th>field</th>\n",
       "      <th>value</th>\n",
       "    </tr>\n",
       "  </thead>\n",
       "  <tbody>\n",
       "    <tr>\n",
       "      <th>0</th>\n",
       "      <td>2917</td>\n",
       "      <td>21</td>\n",
       "      <td>Branch A</td>\n",
       "      <td>powerClass</td>\n",
       "      <td>20W [43.00 dBm]</td>\n",
       "    </tr>\n",
       "    <tr>\n",
       "      <th>1</th>\n",
       "      <td>3008</td>\n",
       "      <td>21</td>\n",
       "      <td>Branch B</td>\n",
       "      <td>powerClass</td>\n",
       "      <td>20W [43.00 dBm]</td>\n",
       "    </tr>\n",
       "    <tr>\n",
       "      <th>2</th>\n",
       "      <td>3099</td>\n",
       "      <td>21</td>\n",
       "      <td>Branch C</td>\n",
       "      <td>powerClass</td>\n",
       "      <td>20W [43.00 dBm]</td>\n",
       "    </tr>\n",
       "    <tr>\n",
       "      <th>3</th>\n",
       "      <td>3190</td>\n",
       "      <td>21</td>\n",
       "      <td>Branch D</td>\n",
       "      <td>powerClass</td>\n",
       "      <td>20W [43.00 dBm]</td>\n",
       "    </tr>\n",
       "    <tr>\n",
       "      <th>4</th>\n",
       "      <td>3286</td>\n",
       "      <td>21</td>\n",
       "      <td>Branch E</td>\n",
       "      <td>powerClass</td>\n",
       "      <td>40W [46.15 dBm]</td>\n",
       "    </tr>\n",
       "  </tbody>\n",
       "</table>\n",
       "</div>"
      ],
      "text/plain": [
       "   id_trx_status id_audit branch_header       field            value\n",
       "0           2917       21      Branch A  powerClass  20W [43.00 dBm]\n",
       "1           3008       21      Branch B  powerClass  20W [43.00 dBm]\n",
       "2           3099       21      Branch C  powerClass  20W [43.00 dBm]\n",
       "3           3190       21      Branch D  powerClass  20W [43.00 dBm]\n",
       "4           3286       21      Branch E  powerClass  40W [46.15 dBm]"
      ]
     },
     "execution_count": 5,
     "metadata": {},
     "output_type": "execute_result"
    }
   ],
   "source": [
    "ds2powerclass.head()"
   ]
  },
  {
   "cell_type": "code",
   "execution_count": 6,
   "metadata": {},
   "outputs": [
    {
     "data": {
      "text/html": [
       "<div>\n",
       "<style scoped>\n",
       "    .dataframe tbody tr th:only-of-type {\n",
       "        vertical-align: middle;\n",
       "    }\n",
       "\n",
       "    .dataframe tbody tr th {\n",
       "        vertical-align: top;\n",
       "    }\n",
       "\n",
       "    .dataframe thead th {\n",
       "        text-align: right;\n",
       "    }\n",
       "</style>\n",
       "<table border=\"1\" class=\"dataframe\">\n",
       "  <thead>\n",
       "    <tr style=\"text-align: right;\">\n",
       "      <th></th>\n",
       "      <th>id_trx_status</th>\n",
       "      <th>id_audit</th>\n",
       "      <th>branch_header</th>\n",
       "      <th>field</th>\n",
       "      <th>value</th>\n",
       "    </tr>\n",
       "  </thead>\n",
       "  <tbody>\n",
       "    <tr>\n",
       "      <th>84905</th>\n",
       "      <td>156077628</td>\n",
       "      <td>1000018</td>\n",
       "      <td>Branch A</td>\n",
       "      <td>powerClass</td>\n",
       "      <td>40W [44.80 dBm]</td>\n",
       "    </tr>\n",
       "    <tr>\n",
       "      <th>84906</th>\n",
       "      <td>156077727</td>\n",
       "      <td>1000018</td>\n",
       "      <td>Branch B</td>\n",
       "      <td>powerClass</td>\n",
       "      <td>40W [44.80 dBm]</td>\n",
       "    </tr>\n",
       "    <tr>\n",
       "      <th>84907</th>\n",
       "      <td>156077826</td>\n",
       "      <td>1000018</td>\n",
       "      <td>Branch C</td>\n",
       "      <td>powerClass</td>\n",
       "      <td>40W [44.80 dBm]</td>\n",
       "    </tr>\n",
       "    <tr>\n",
       "      <th>84908</th>\n",
       "      <td>156077925</td>\n",
       "      <td>1000018</td>\n",
       "      <td>Branch D</td>\n",
       "      <td>powerClass</td>\n",
       "      <td>40W [44.80 dBm]</td>\n",
       "    </tr>\n",
       "    <tr>\n",
       "      <th>84909</th>\n",
       "      <td>156078041</td>\n",
       "      <td>1000018</td>\n",
       "      <td>Branch E</td>\n",
       "      <td>powerClass</td>\n",
       "      <td>60W [47.80 dBm]</td>\n",
       "    </tr>\n",
       "    <tr>\n",
       "      <th>84910</th>\n",
       "      <td>156078140</td>\n",
       "      <td>1000018</td>\n",
       "      <td>Branch F</td>\n",
       "      <td>powerClass</td>\n",
       "      <td>60W [47.80 dBm]</td>\n",
       "    </tr>\n",
       "    <tr>\n",
       "      <th>84911</th>\n",
       "      <td>156078240</td>\n",
       "      <td>1000018</td>\n",
       "      <td>Branch G</td>\n",
       "      <td>powerClass</td>\n",
       "      <td>60W [47.80 dBm]</td>\n",
       "    </tr>\n",
       "    <tr>\n",
       "      <th>84912</th>\n",
       "      <td>156078351</td>\n",
       "      <td>1000018</td>\n",
       "      <td>Branch H</td>\n",
       "      <td>powerClass</td>\n",
       "      <td>60W [47.80 dBm]</td>\n",
       "    </tr>\n",
       "    <tr>\n",
       "      <th>87177</th>\n",
       "      <td>156080912</td>\n",
       "      <td>1000033</td>\n",
       "      <td>Branch A</td>\n",
       "      <td>powerClass</td>\n",
       "      <td>40W [46.00 dBm]</td>\n",
       "    </tr>\n",
       "    <tr>\n",
       "      <th>87178</th>\n",
       "      <td>156081014</td>\n",
       "      <td>1000033</td>\n",
       "      <td>Branch B</td>\n",
       "      <td>powerClass</td>\n",
       "      <td>40W [46.00 dBm]</td>\n",
       "    </tr>\n",
       "  </tbody>\n",
       "</table>\n",
       "</div>"
      ],
      "text/plain": [
       "       id_trx_status id_audit branch_header       field            value\n",
       "84905      156077628  1000018      Branch A  powerClass  40W [44.80 dBm]\n",
       "84906      156077727  1000018      Branch B  powerClass  40W [44.80 dBm]\n",
       "84907      156077826  1000018      Branch C  powerClass  40W [44.80 dBm]\n",
       "84908      156077925  1000018      Branch D  powerClass  40W [44.80 dBm]\n",
       "84909      156078041  1000018      Branch E  powerClass  60W [47.80 dBm]\n",
       "84910      156078140  1000018      Branch F  powerClass  60W [47.80 dBm]\n",
       "84911      156078240  1000018      Branch G  powerClass  60W [47.80 dBm]\n",
       "84912      156078351  1000018      Branch H  powerClass  60W [47.80 dBm]\n",
       "87177      156080912  1000033      Branch A  powerClass  40W [46.00 dBm]\n",
       "87178      156081014  1000033      Branch B  powerClass  40W [46.00 dBm]"
      ]
     },
     "execution_count": 6,
     "metadata": {},
     "output_type": "execute_result"
    }
   ],
   "source": [
    "ds2powerclass.sort_values(['id_audit','branch_header']).head(10)"
   ]
  },
  {
   "cell_type": "code",
   "execution_count": 7,
   "metadata": {},
   "outputs": [],
   "source": [
    "ds3radioid = pd.read_csv(\"../../dataset_3_radioId_20210303.csv\",sep=\";\", dtype={'id_audit':np.str})"
   ]
  },
  {
   "cell_type": "code",
   "execution_count": 8,
   "metadata": {},
   "outputs": [
    {
     "data": {
      "text/html": [
       "<div>\n",
       "<style scoped>\n",
       "    .dataframe tbody tr th:only-of-type {\n",
       "        vertical-align: middle;\n",
       "    }\n",
       "\n",
       "    .dataframe tbody tr th {\n",
       "        vertical-align: top;\n",
       "    }\n",
       "\n",
       "    .dataframe thead th {\n",
       "        text-align: right;\n",
       "    }\n",
       "</style>\n",
       "<table border=\"1\" class=\"dataframe\">\n",
       "  <thead>\n",
       "    <tr style=\"text-align: right;\">\n",
       "      <th></th>\n",
       "      <th>id_audit</th>\n",
       "      <th>customer</th>\n",
       "      <th>serial</th>\n",
       "    </tr>\n",
       "  </thead>\n",
       "  <tbody>\n",
       "    <tr>\n",
       "      <th>0</th>\n",
       "      <td>21</td>\n",
       "      <td>2</td>\n",
       "      <td>15551</td>\n",
       "    </tr>\n",
       "    <tr>\n",
       "      <th>1</th>\n",
       "      <td>23</td>\n",
       "      <td>2</td>\n",
       "      <td>15403</td>\n",
       "    </tr>\n",
       "    <tr>\n",
       "      <th>2</th>\n",
       "      <td>25</td>\n",
       "      <td>2</td>\n",
       "      <td>16084</td>\n",
       "    </tr>\n",
       "    <tr>\n",
       "      <th>3</th>\n",
       "      <td>147</td>\n",
       "      <td>2</td>\n",
       "      <td>17087</td>\n",
       "    </tr>\n",
       "    <tr>\n",
       "      <th>4</th>\n",
       "      <td>746</td>\n",
       "      <td>2</td>\n",
       "      <td>15486</td>\n",
       "    </tr>\n",
       "  </tbody>\n",
       "</table>\n",
       "</div>"
      ],
      "text/plain": [
       "  id_audit  customer  serial\n",
       "0       21         2   15551\n",
       "1       23         2   15403\n",
       "2       25         2   16084\n",
       "3      147         2   17087\n",
       "4      746         2   15486"
      ]
     },
     "execution_count": 8,
     "metadata": {},
     "output_type": "execute_result"
    }
   ],
   "source": [
    "ds3radioid.head()"
   ]
  },
  {
   "cell_type": "markdown",
   "metadata": {},
   "source": [
    "### Check if exists any empty records in radio Temp dataset\n",
    "* Here we found 641 records without temperatures\n",
    "* Sounds mostly due to \"Error: Command unsupported\"\n",
    "* TSensor_N22_ seems not working at all\n",
    "* At this stage, we just remove those records"
   ]
  },
  {
   "cell_type": "code",
   "execution_count": 9,
   "metadata": {},
   "outputs": [
    {
     "name": "stdout",
     "output_type": "stream",
     "text": [
      "<class 'pandas.core.frame.DataFrame'>\n",
      "RangeIndex: 3238259 entries, 0 to 3238258\n",
      "Data columns (total 6 columns):\n",
      " #   Column           Non-Null Count    Dtype  \n",
      "---  ------           --------------    -----  \n",
      " 0   id_field_values  3238259 non-null  int64  \n",
      " 1   id_ftp           3238259 non-null  int64  \n",
      " 2   id_audit         3238259 non-null  object \n",
      " 3   value            3237618 non-null  float64\n",
      " 4   unit             3238259 non-null  object \n",
      " 5   field            3238259 non-null  object \n",
      "dtypes: float64(1), int64(2), object(3)\n",
      "memory usage: 148.2+ MB\n"
     ]
    }
   ],
   "source": [
    "ds1radiotemp.info(verbose=True,null_counts=True)"
   ]
  },
  {
   "cell_type": "code",
   "execution_count": 10,
   "metadata": {},
   "outputs": [
    {
     "data": {
      "text/plain": [
       "id_field_values      0\n",
       "id_ftp               0\n",
       "id_audit             0\n",
       "value              641\n",
       "unit                 0\n",
       "field                0\n",
       "dtype: int64"
      ]
     },
     "execution_count": 10,
     "metadata": {},
     "output_type": "execute_result"
    }
   ],
   "source": [
    "ds1radiotemp.isnull().sum()"
   ]
  },
  {
   "cell_type": "code",
   "execution_count": 11,
   "metadata": {},
   "outputs": [
    {
     "data": {
      "text/html": [
       "<div>\n",
       "<style scoped>\n",
       "    .dataframe tbody tr th:only-of-type {\n",
       "        vertical-align: middle;\n",
       "    }\n",
       "\n",
       "    .dataframe tbody tr th {\n",
       "        vertical-align: top;\n",
       "    }\n",
       "\n",
       "    .dataframe thead th {\n",
       "        text-align: right;\n",
       "    }\n",
       "</style>\n",
       "<table border=\"1\" class=\"dataframe\">\n",
       "  <thead>\n",
       "    <tr style=\"text-align: right;\">\n",
       "      <th></th>\n",
       "      <th>id_field_values</th>\n",
       "      <th>id_ftp</th>\n",
       "      <th>id_audit</th>\n",
       "      <th>value</th>\n",
       "      <th>field</th>\n",
       "    </tr>\n",
       "    <tr>\n",
       "      <th>unit</th>\n",
       "      <th></th>\n",
       "      <th></th>\n",
       "      <th></th>\n",
       "      <th></th>\n",
       "      <th></th>\n",
       "    </tr>\n",
       "  </thead>\n",
       "  <tbody>\n",
       "    <tr>\n",
       "      <th>Error: Command unsupported</th>\n",
       "      <td>596</td>\n",
       "      <td>596</td>\n",
       "      <td>596</td>\n",
       "      <td>0</td>\n",
       "      <td>596</td>\n",
       "    </tr>\n",
       "    <tr>\n",
       "      <th>Error: Link BXP_2048 is not accessible. Please typ</th>\n",
       "      <td>1</td>\n",
       "      <td>1</td>\n",
       "      <td>1</td>\n",
       "      <td>0</td>\n",
       "      <td>1</td>\n",
       "    </tr>\n",
       "    <tr>\n",
       "      <th>Error: Link BXP_2049 is not accessible. Please typ</th>\n",
       "      <td>2</td>\n",
       "      <td>2</td>\n",
       "      <td>2</td>\n",
       "      <td>0</td>\n",
       "      <td>2</td>\n",
       "    </tr>\n",
       "    <tr>\n",
       "      <th>Error: Link BXP_2053 is not accessible. Please typ</th>\n",
       "      <td>2</td>\n",
       "      <td>2</td>\n",
       "      <td>2</td>\n",
       "      <td>0</td>\n",
       "      <td>2</td>\n",
       "    </tr>\n",
       "    <tr>\n",
       "      <th>Error: Link BXP_2054 is not accessible. Please typ</th>\n",
       "      <td>1</td>\n",
       "      <td>1</td>\n",
       "      <td>1</td>\n",
       "      <td>0</td>\n",
       "      <td>1</td>\n",
       "    </tr>\n",
       "    <tr>\n",
       "      <th>Error: Link BXP_2063 is not accessible. Please typ</th>\n",
       "      <td>1</td>\n",
       "      <td>1</td>\n",
       "      <td>1</td>\n",
       "      <td>0</td>\n",
       "      <td>1</td>\n",
       "    </tr>\n",
       "    <tr>\n",
       "      <th>Error: Link BXP_2064 is not accessible. Please typ</th>\n",
       "      <td>1</td>\n",
       "      <td>1</td>\n",
       "      <td>1</td>\n",
       "      <td>0</td>\n",
       "      <td>1</td>\n",
       "    </tr>\n",
       "    <tr>\n",
       "      <th>remote shell died</th>\n",
       "      <td>2</td>\n",
       "      <td>2</td>\n",
       "      <td>2</td>\n",
       "      <td>0</td>\n",
       "      <td>2</td>\n",
       "    </tr>\n",
       "    <tr>\n",
       "      <th>ts</th>\n",
       "      <td>2</td>\n",
       "      <td>2</td>\n",
       "      <td>2</td>\n",
       "      <td>0</td>\n",
       "      <td>2</td>\n",
       "    </tr>\n",
       "    <tr>\n",
       "      <th>unable to hunt BXP_2048/ose_shelld</th>\n",
       "      <td>9</td>\n",
       "      <td>9</td>\n",
       "      <td>9</td>\n",
       "      <td>0</td>\n",
       "      <td>9</td>\n",
       "    </tr>\n",
       "    <tr>\n",
       "      <th>unable to hunt BXP_2049/ose_shelld</th>\n",
       "      <td>10</td>\n",
       "      <td>10</td>\n",
       "      <td>10</td>\n",
       "      <td>0</td>\n",
       "      <td>10</td>\n",
       "    </tr>\n",
       "    <tr>\n",
       "      <th>unable to hunt BXP_2050/ose_shelld</th>\n",
       "      <td>3</td>\n",
       "      <td>3</td>\n",
       "      <td>3</td>\n",
       "      <td>0</td>\n",
       "      <td>3</td>\n",
       "    </tr>\n",
       "    <tr>\n",
       "      <th>unable to hunt BXP_2051/ose_shelld</th>\n",
       "      <td>2</td>\n",
       "      <td>2</td>\n",
       "      <td>2</td>\n",
       "      <td>0</td>\n",
       "      <td>2</td>\n",
       "    </tr>\n",
       "    <tr>\n",
       "      <th>unable to hunt BXP_2052/ose_shelld</th>\n",
       "      <td>2</td>\n",
       "      <td>2</td>\n",
       "      <td>2</td>\n",
       "      <td>0</td>\n",
       "      <td>2</td>\n",
       "    </tr>\n",
       "    <tr>\n",
       "      <th>unable to hunt BXP_2053/ose_shelld</th>\n",
       "      <td>1</td>\n",
       "      <td>1</td>\n",
       "      <td>1</td>\n",
       "      <td>0</td>\n",
       "      <td>1</td>\n",
       "    </tr>\n",
       "    <tr>\n",
       "      <th>unable to hunt BXP_2054/ose_shelld</th>\n",
       "      <td>1</td>\n",
       "      <td>1</td>\n",
       "      <td>1</td>\n",
       "      <td>0</td>\n",
       "      <td>1</td>\n",
       "    </tr>\n",
       "    <tr>\n",
       "      <th>unable to hunt BXP_2055/ose_shelld</th>\n",
       "      <td>2</td>\n",
       "      <td>2</td>\n",
       "      <td>2</td>\n",
       "      <td>0</td>\n",
       "      <td>2</td>\n",
       "    </tr>\n",
       "    <tr>\n",
       "      <th>unable to hunt BXP_2058/ose_shelld</th>\n",
       "      <td>1</td>\n",
       "      <td>1</td>\n",
       "      <td>1</td>\n",
       "      <td>0</td>\n",
       "      <td>1</td>\n",
       "    </tr>\n",
       "    <tr>\n",
       "      <th>unable to hunt BXP_2067/ose_shelld</th>\n",
       "      <td>1</td>\n",
       "      <td>1</td>\n",
       "      <td>1</td>\n",
       "      <td>0</td>\n",
       "      <td>1</td>\n",
       "    </tr>\n",
       "    <tr>\n",
       "      <th>unsupported</th>\n",
       "      <td>1</td>\n",
       "      <td>1</td>\n",
       "      <td>1</td>\n",
       "      <td>0</td>\n",
       "      <td>1</td>\n",
       "    </tr>\n",
       "  </tbody>\n",
       "</table>\n",
       "</div>"
      ],
      "text/plain": [
       "                                                    id_field_values  id_ftp  \\\n",
       "unit                                                                          \n",
       "Error: Command unsupported                                      596     596   \n",
       "Error: Link BXP_2048 is not accessible. Please typ                1       1   \n",
       "Error: Link BXP_2049 is not accessible. Please typ                2       2   \n",
       "Error: Link BXP_2053 is not accessible. Please typ                2       2   \n",
       "Error: Link BXP_2054 is not accessible. Please typ                1       1   \n",
       "Error: Link BXP_2063 is not accessible. Please typ                1       1   \n",
       "Error: Link BXP_2064 is not accessible. Please typ                1       1   \n",
       "remote shell died                                                 2       2   \n",
       "ts                                                                2       2   \n",
       "unable to hunt BXP_2048/ose_shelld                                9       9   \n",
       "unable to hunt BXP_2049/ose_shelld                               10      10   \n",
       "unable to hunt BXP_2050/ose_shelld                                3       3   \n",
       "unable to hunt BXP_2051/ose_shelld                                2       2   \n",
       "unable to hunt BXP_2052/ose_shelld                                2       2   \n",
       "unable to hunt BXP_2053/ose_shelld                                1       1   \n",
       "unable to hunt BXP_2054/ose_shelld                                1       1   \n",
       "unable to hunt BXP_2055/ose_shelld                                2       2   \n",
       "unable to hunt BXP_2058/ose_shelld                                1       1   \n",
       "unable to hunt BXP_2067/ose_shelld                                1       1   \n",
       "unsupported                                                       1       1   \n",
       "\n",
       "                                                    id_audit  value  field  \n",
       "unit                                                                        \n",
       "Error: Command unsupported                               596      0    596  \n",
       "Error: Link BXP_2048 is not accessible. Please typ         1      0      1  \n",
       "Error: Link BXP_2049 is not accessible. Please typ         2      0      2  \n",
       "Error: Link BXP_2053 is not accessible. Please typ         2      0      2  \n",
       "Error: Link BXP_2054 is not accessible. Please typ         1      0      1  \n",
       "Error: Link BXP_2063 is not accessible. Please typ         1      0      1  \n",
       "Error: Link BXP_2064 is not accessible. Please typ         1      0      1  \n",
       "remote shell died                                          2      0      2  \n",
       "ts                                                         2      0      2  \n",
       "unable to hunt BXP_2048/ose_shelld                         9      0      9  \n",
       "unable to hunt BXP_2049/ose_shelld                        10      0     10  \n",
       "unable to hunt BXP_2050/ose_shelld                         3      0      3  \n",
       "unable to hunt BXP_2051/ose_shelld                         2      0      2  \n",
       "unable to hunt BXP_2052/ose_shelld                         2      0      2  \n",
       "unable to hunt BXP_2053/ose_shelld                         1      0      1  \n",
       "unable to hunt BXP_2054/ose_shelld                         1      0      1  \n",
       "unable to hunt BXP_2055/ose_shelld                         2      0      2  \n",
       "unable to hunt BXP_2058/ose_shelld                         1      0      1  \n",
       "unable to hunt BXP_2067/ose_shelld                         1      0      1  \n",
       "unsupported                                                1      0      1  "
      ]
     },
     "execution_count": 11,
     "metadata": {},
     "output_type": "execute_result"
    }
   ],
   "source": [
    "ds1radiotemp[ds1radiotemp.value.isnull()].groupby('unit').count()"
   ]
  },
  {
   "cell_type": "code",
   "execution_count": 12,
   "metadata": {},
   "outputs": [
    {
     "data": {
      "text/html": [
       "<div>\n",
       "<style scoped>\n",
       "    .dataframe tbody tr th:only-of-type {\n",
       "        vertical-align: middle;\n",
       "    }\n",
       "\n",
       "    .dataframe tbody tr th {\n",
       "        vertical-align: top;\n",
       "    }\n",
       "\n",
       "    .dataframe thead th {\n",
       "        text-align: right;\n",
       "    }\n",
       "</style>\n",
       "<table border=\"1\" class=\"dataframe\">\n",
       "  <thead>\n",
       "    <tr style=\"text-align: right;\">\n",
       "      <th></th>\n",
       "      <th>id_field_values</th>\n",
       "      <th>id_ftp</th>\n",
       "      <th>id_audit</th>\n",
       "      <th>value</th>\n",
       "      <th>unit</th>\n",
       "    </tr>\n",
       "    <tr>\n",
       "      <th>field</th>\n",
       "      <th></th>\n",
       "      <th></th>\n",
       "      <th></th>\n",
       "      <th></th>\n",
       "      <th></th>\n",
       "    </tr>\n",
       "  </thead>\n",
       "  <tbody>\n",
       "    <tr>\n",
       "      <th>TSensor_E20_</th>\n",
       "      <td>1</td>\n",
       "      <td>1</td>\n",
       "      <td>1</td>\n",
       "      <td>0</td>\n",
       "      <td>1</td>\n",
       "    </tr>\n",
       "    <tr>\n",
       "      <th>TSensor_I21_</th>\n",
       "      <td>2</td>\n",
       "      <td>2</td>\n",
       "      <td>2</td>\n",
       "      <td>0</td>\n",
       "      <td>2</td>\n",
       "    </tr>\n",
       "    <tr>\n",
       "      <th>TSensor_N22_</th>\n",
       "      <td>638</td>\n",
       "      <td>638</td>\n",
       "      <td>638</td>\n",
       "      <td>0</td>\n",
       "      <td>638</td>\n",
       "    </tr>\n",
       "  </tbody>\n",
       "</table>\n",
       "</div>"
      ],
      "text/plain": [
       "              id_field_values  id_ftp  id_audit  value  unit\n",
       "field                                                       \n",
       "TSensor_E20_                1       1         1      0     1\n",
       "TSensor_I21_                2       2         2      0     2\n",
       "TSensor_N22_              638     638       638      0   638"
      ]
     },
     "execution_count": 12,
     "metadata": {},
     "output_type": "execute_result"
    }
   ],
   "source": [
    "ds1radiotemp[ds1radiotemp.value.isnull()].groupby('field').count()"
   ]
  },
  {
   "cell_type": "code",
   "execution_count": 13,
   "metadata": {},
   "outputs": [],
   "source": [
    "ds1radiotemp.dropna(inplace=True)"
   ]
  },
  {
   "cell_type": "code",
   "execution_count": 14,
   "metadata": {},
   "outputs": [
    {
     "name": "stdout",
     "output_type": "stream",
     "text": [
      "<class 'pandas.core.frame.DataFrame'>\n",
      "Int64Index: 3237618 entries, 0 to 3238258\n",
      "Data columns (total 6 columns):\n",
      " #   Column           Non-Null Count    Dtype  \n",
      "---  ------           --------------    -----  \n",
      " 0   id_field_values  3237618 non-null  int64  \n",
      " 1   id_ftp           3237618 non-null  int64  \n",
      " 2   id_audit         3237618 non-null  object \n",
      " 3   value            3237618 non-null  float64\n",
      " 4   unit             3237618 non-null  object \n",
      " 5   field            3237618 non-null  object \n",
      "dtypes: float64(1), int64(2), object(3)\n",
      "memory usage: 172.9+ MB\n"
     ]
    }
   ],
   "source": [
    "ds1radiotemp.info(verbose=True,null_counts=True)"
   ]
  },
  {
   "cell_type": "markdown",
   "metadata": {},
   "source": [
    "### Check if exists any empty records in powerclass dataset\n",
    "* no missing data"
   ]
  },
  {
   "cell_type": "code",
   "execution_count": 15,
   "metadata": {},
   "outputs": [
    {
     "name": "stdout",
     "output_type": "stream",
     "text": [
      "<class 'pandas.core.frame.DataFrame'>\n",
      "RangeIndex: 366812 entries, 0 to 366811\n",
      "Data columns (total 5 columns):\n",
      " #   Column         Non-Null Count   Dtype \n",
      "---  ------         --------------   ----- \n",
      " 0   id_trx_status  366812 non-null  int64 \n",
      " 1   id_audit       366812 non-null  object\n",
      " 2   branch_header  366812 non-null  object\n",
      " 3   field          366812 non-null  object\n",
      " 4   value          366812 non-null  object\n",
      "dtypes: int64(1), object(4)\n",
      "memory usage: 14.0+ MB\n"
     ]
    }
   ],
   "source": [
    "ds2powerclass.info(verbose=True,null_counts=True)"
   ]
  },
  {
   "cell_type": "markdown",
   "metadata": {},
   "source": [
    "### Check if exists any empty records in radioId dataset\n",
    "* no missing data"
   ]
  },
  {
   "cell_type": "code",
   "execution_count": 16,
   "metadata": {},
   "outputs": [
    {
     "name": "stdout",
     "output_type": "stream",
     "text": [
      "<class 'pandas.core.frame.DataFrame'>\n",
      "RangeIndex: 74908 entries, 0 to 74907\n",
      "Data columns (total 3 columns):\n",
      " #   Column    Non-Null Count  Dtype \n",
      "---  ------    --------------  ----- \n",
      " 0   id_audit  74908 non-null  object\n",
      " 1   customer  74908 non-null  int64 \n",
      " 2   serial    74908 non-null  int64 \n",
      "dtypes: int64(2), object(1)\n",
      "memory usage: 1.7+ MB\n"
     ]
    }
   ],
   "source": [
    "ds3radioid.info(verbose=True,null_counts=True)"
   ]
  },
  {
   "cell_type": "markdown",
   "metadata": {},
   "source": [
    "### Find out basic data structure\n",
    "* Total Audit, 67455\n",
    "    * **each audit contains 48 records** \n",
    "    * But data is not full clean. 67455 * 48 = 3237840 (a slight bigger than cleaned data 3237618), less than 3238259 \n",
    "    * Indicates some audit does not contains 48 records, maybe because of less branches, or because of less sensors\n",
    "* Total Type of Sensor 71\n",
    "* Total Serial 27781 \n",
    "    * *Not sure how Serial is associated to the type of Sensor.* \n",
    "    * *Not sure if all sensors of the same type is the same hardware/firmware or different serials incidates different hardware/firmware*\n",
    "    * *It sounds* **one audit connects one Serials** but ppt said several audit could share the same serials.\n",
    "    * This field sounds not useable, since it cannot connect to set of sensor clearly, even this might tell the firmware version, and impact temperature\n",
    "* Total Branch 8\n",
    "    * *It sounds* **each audit contains 8 branches, therefore, 6 sensors per branch**\n",
    "* Total PowerClass 366812\n",
    "    * **each branch contains a powerclass setup** This indicates 6 sensors share the same powerclass setup\n",
    "    * **Not all audit has powerclass setup** 45854 < 67455 This indicates data is not clean. might remove those dirty audits or use some \"default\" value\n",
    "    * **not all branches have powerclass setup (E,F,G,H braches)** This could be because no sensor is installed for E/F/G/H, or not have powerclass setup value. Need further check\n",
    "    * *Not sure how to link powerclass to a particular set of sensors, among 48 sensors per audit* \n",
    "    * We might have to restore powwerclass-sensor relationship from data\n",
    "* Total 2 customers\n",
    "    * *Not sure different customers could have different usage/setup, so that temperatures will be highly different* This can be found out by joining the ds1 and ds3."
   ]
  },
  {
   "cell_type": "code",
   "execution_count": 17,
   "metadata": {},
   "outputs": [
    {
     "data": {
      "text/plain": [
       "67455"
      ]
     },
     "execution_count": 17,
     "metadata": {},
     "output_type": "execute_result"
    }
   ],
   "source": [
    "ds1radiotemp['id_audit'].nunique()"
   ]
  },
  {
   "cell_type": "code",
   "execution_count": 18,
   "metadata": {},
   "outputs": [
    {
     "data": {
      "text/plain": [
       "3237840"
      ]
     },
     "execution_count": 18,
     "metadata": {},
     "output_type": "execute_result"
    }
   ],
   "source": [
    "67455 * 48"
   ]
  },
  {
   "cell_type": "code",
   "execution_count": 19,
   "metadata": {},
   "outputs": [
    {
     "data": {
      "text/plain": [
       "71"
      ]
     },
     "execution_count": 19,
     "metadata": {},
     "output_type": "execute_result"
    }
   ],
   "source": [
    "ds1radiotemp['field'].nunique()"
   ]
  },
  {
   "cell_type": "code",
   "execution_count": 20,
   "metadata": {},
   "outputs": [
    {
     "data": {
      "text/plain": [
       "27781"
      ]
     },
     "execution_count": 20,
     "metadata": {},
     "output_type": "execute_result"
    }
   ],
   "source": [
    "ds3radioid.serial.nunique()"
   ]
  },
  {
   "cell_type": "code",
   "execution_count": 21,
   "metadata": {},
   "outputs": [
    {
     "data": {
      "text/html": [
       "<div>\n",
       "<style scoped>\n",
       "    .dataframe tbody tr th:only-of-type {\n",
       "        vertical-align: middle;\n",
       "    }\n",
       "\n",
       "    .dataframe tbody tr th {\n",
       "        vertical-align: top;\n",
       "    }\n",
       "\n",
       "    .dataframe thead th {\n",
       "        text-align: right;\n",
       "    }\n",
       "</style>\n",
       "<table border=\"1\" class=\"dataframe\">\n",
       "  <thead>\n",
       "    <tr style=\"text-align: right;\">\n",
       "      <th></th>\n",
       "      <th>value</th>\n",
       "    </tr>\n",
       "    <tr>\n",
       "      <th>id_audit</th>\n",
       "      <th></th>\n",
       "    </tr>\n",
       "  </thead>\n",
       "  <tbody>\n",
       "    <tr>\n",
       "      <th>1000033</th>\n",
       "      <td>48</td>\n",
       "    </tr>\n",
       "    <tr>\n",
       "      <th>1000034</th>\n",
       "      <td>48</td>\n",
       "    </tr>\n",
       "    <tr>\n",
       "      <th>1000035</th>\n",
       "      <td>48</td>\n",
       "    </tr>\n",
       "    <tr>\n",
       "      <th>1000044</th>\n",
       "      <td>48</td>\n",
       "    </tr>\n",
       "    <tr>\n",
       "      <th>1000047</th>\n",
       "      <td>48</td>\n",
       "    </tr>\n",
       "  </tbody>\n",
       "</table>\n",
       "</div>"
      ],
      "text/plain": [
       "          value\n",
       "id_audit       \n",
       "1000033      48\n",
       "1000034      48\n",
       "1000035      48\n",
       "1000044      48\n",
       "1000047      48"
      ]
     },
     "execution_count": 21,
     "metadata": {},
     "output_type": "execute_result"
    }
   ],
   "source": [
    "ds1radiotemp[['id_audit','value']].groupby('id_audit').count().head()"
   ]
  },
  {
   "cell_type": "code",
   "execution_count": 22,
   "metadata": {},
   "outputs": [
    {
     "data": {
      "text/plain": [
       "Branch D    45854\n",
       "Branch A    45854\n",
       "Branch B    45854\n",
       "Branch C    45854\n",
       "Branch G    45849\n",
       "Branch H    45849\n",
       "Branch F    45849\n",
       "Branch E    45849\n",
       "Name: branch_header, dtype: int64"
      ]
     },
     "execution_count": 22,
     "metadata": {},
     "output_type": "execute_result"
    }
   ],
   "source": [
    "ds2powerclass['branch_header'].value_counts()"
   ]
  },
  {
   "cell_type": "code",
   "execution_count": 23,
   "metadata": {},
   "outputs": [
    {
     "data": {
      "text/plain": [
       "45854"
      ]
     },
     "execution_count": 23,
     "metadata": {},
     "output_type": "execute_result"
    }
   ],
   "source": [
    "ds2powerclass['id_audit'].nunique()"
   ]
  },
  {
   "cell_type": "code",
   "execution_count": 24,
   "metadata": {},
   "outputs": [
    {
     "data": {
      "text/plain": [
       "74908"
      ]
     },
     "execution_count": 24,
     "metadata": {},
     "output_type": "execute_result"
    }
   ],
   "source": [
    "ds3radioid['id_audit'].nunique()"
   ]
  },
  {
   "cell_type": "code",
   "execution_count": 25,
   "metadata": {},
   "outputs": [
    {
     "data": {
      "text/plain": [
       "2"
      ]
     },
     "execution_count": 25,
     "metadata": {},
     "output_type": "execute_result"
    }
   ],
   "source": [
    "ds3radioid.customer.nunique()"
   ]
  },
  {
   "cell_type": "markdown",
   "metadata": {},
   "source": [
    "### Check temperature distribution\n",
    "* Some sensors report negative values, this sounds not reasonable. But this might indicate weather temperature could impact record .For example, maybe sensor operates outside, in cold weather. \n",
    "* However, we dont have weather temperature. (*same physical location shall have similar weather temperature. If we can get location information from data, it will be good feature for modelling*)\n",
    "* From quantile, most negative gathers between -1.8 and -9.1, further negative -20 sounds abnormal.\n",
    "* Data is postive skew. Some extreme postive value exists\n",
    "* For postive temperatures, quite large range exists, maybe because different type of hardware, sensor, powerclass. need more study"
   ]
  },
  {
   "cell_type": "code",
   "execution_count": 26,
   "metadata": {},
   "outputs": [
    {
     "data": {
      "text/html": [
       "<div>\n",
       "<style scoped>\n",
       "    .dataframe tbody tr th:only-of-type {\n",
       "        vertical-align: middle;\n",
       "    }\n",
       "\n",
       "    .dataframe tbody tr th {\n",
       "        vertical-align: top;\n",
       "    }\n",
       "\n",
       "    .dataframe thead th {\n",
       "        text-align: right;\n",
       "    }\n",
       "</style>\n",
       "<table border=\"1\" class=\"dataframe\">\n",
       "  <thead>\n",
       "    <tr style=\"text-align: right;\">\n",
       "      <th></th>\n",
       "      <th>id_field_values</th>\n",
       "      <th>id_ftp</th>\n",
       "      <th>value</th>\n",
       "    </tr>\n",
       "  </thead>\n",
       "  <tbody>\n",
       "    <tr>\n",
       "      <th>count</th>\n",
       "      <td>3.237618e+06</td>\n",
       "      <td>3.237618e+06</td>\n",
       "      <td>3.237618e+06</td>\n",
       "    </tr>\n",
       "    <tr>\n",
       "      <th>mean</th>\n",
       "      <td>2.161187e+08</td>\n",
       "      <td>1.249882e+06</td>\n",
       "      <td>2.181192e+02</td>\n",
       "    </tr>\n",
       "    <tr>\n",
       "      <th>std</th>\n",
       "      <td>6.049992e+07</td>\n",
       "      <td>6.919730e+05</td>\n",
       "      <td>3.226914e+05</td>\n",
       "    </tr>\n",
       "    <tr>\n",
       "      <th>min</th>\n",
       "      <td>2.879000e+03</td>\n",
       "      <td>6.600000e+01</td>\n",
       "      <td>-1.358920e+08</td>\n",
       "    </tr>\n",
       "    <tr>\n",
       "      <th>25%</th>\n",
       "      <td>1.724590e+08</td>\n",
       "      <td>6.421530e+05</td>\n",
       "      <td>3.530000e+01</td>\n",
       "    </tr>\n",
       "    <tr>\n",
       "      <th>50%</th>\n",
       "      <td>2.168083e+08</td>\n",
       "      <td>1.023979e+06</td>\n",
       "      <td>5.100000e+01</td>\n",
       "    </tr>\n",
       "    <tr>\n",
       "      <th>75%</th>\n",
       "      <td>2.642005e+08</td>\n",
       "      <td>1.910502e+06</td>\n",
       "      <td>7.580000e+01</td>\n",
       "    </tr>\n",
       "    <tr>\n",
       "      <th>max</th>\n",
       "      <td>3.363118e+08</td>\n",
       "      <td>2.520246e+06</td>\n",
       "      <td>1.682010e+08</td>\n",
       "    </tr>\n",
       "  </tbody>\n",
       "</table>\n",
       "</div>"
      ],
      "text/plain": [
       "       id_field_values        id_ftp         value\n",
       "count     3.237618e+06  3.237618e+06  3.237618e+06\n",
       "mean      2.161187e+08  1.249882e+06  2.181192e+02\n",
       "std       6.049992e+07  6.919730e+05  3.226914e+05\n",
       "min       2.879000e+03  6.600000e+01 -1.358920e+08\n",
       "25%       1.724590e+08  6.421530e+05  3.530000e+01\n",
       "50%       2.168083e+08  1.023979e+06  5.100000e+01\n",
       "75%       2.642005e+08  1.910502e+06  7.580000e+01\n",
       "max       3.363118e+08  2.520246e+06  1.682010e+08"
      ]
     },
     "execution_count": 26,
     "metadata": {},
     "output_type": "execute_result"
    }
   ],
   "source": [
    "ds1radiotemp.describe()"
   ]
  },
  {
   "cell_type": "code",
   "execution_count": 27,
   "metadata": {},
   "outputs": [
    {
     "name": "stdout",
     "output_type": "stream",
     "text": [
      "25% Quantile:  35.3 ##75% Quantile:  75.8 ##IQR:  40.5 ##Q1 outlier:  -25.450000000000003 ##Q3 outlier: 136.55\n"
     ]
    }
   ],
   "source": [
    "Q1 = ds1radiotemp['value'].quantile(0.25)\n",
    "Q3 = ds1radiotemp['value'].quantile(0.75)\n",
    "IQR = Q3 - Q1\n",
    "Q1out = Q1 - 1.5 * IQR\n",
    "Q3out = Q3 + 1.5 * IQR\n",
    "print(\"25% Quantile: \", Q1, \"##75% Quantile: \", Q3, \"##IQR: \", IQR, \"##Q1 outlier: \", Q1out, \"##Q3 outlier:\", Q3out)"
   ]
  },
  {
   "cell_type": "code",
   "execution_count": 28,
   "metadata": {},
   "outputs": [
    {
     "data": {
      "text/plain": [
       "211.53065954472737"
      ]
     },
     "execution_count": 28,
     "metadata": {},
     "output_type": "execute_result"
    }
   ],
   "source": [
    "ds1radiotemp['value'].skew()"
   ]
  },
  {
   "cell_type": "code",
   "execution_count": 29,
   "metadata": {},
   "outputs": [],
   "source": [
    "ds1radiotemp_neg = ds1radiotemp[ds1radiotemp['value'] < 0]"
   ]
  },
  {
   "cell_type": "code",
   "execution_count": 30,
   "metadata": {},
   "outputs": [
    {
     "data": {
      "text/html": [
       "<div>\n",
       "<style scoped>\n",
       "    .dataframe tbody tr th:only-of-type {\n",
       "        vertical-align: middle;\n",
       "    }\n",
       "\n",
       "    .dataframe tbody tr th {\n",
       "        vertical-align: top;\n",
       "    }\n",
       "\n",
       "    .dataframe thead th {\n",
       "        text-align: right;\n",
       "    }\n",
       "</style>\n",
       "<table border=\"1\" class=\"dataframe\">\n",
       "  <thead>\n",
       "    <tr style=\"text-align: right;\">\n",
       "      <th></th>\n",
       "      <th>id_field_values</th>\n",
       "      <th>id_ftp</th>\n",
       "      <th>value</th>\n",
       "    </tr>\n",
       "  </thead>\n",
       "  <tbody>\n",
       "    <tr>\n",
       "      <th>count</th>\n",
       "      <td>1.024900e+04</td>\n",
       "      <td>1.024900e+04</td>\n",
       "      <td>1.024900e+04</td>\n",
       "    </tr>\n",
       "    <tr>\n",
       "      <th>mean</th>\n",
       "      <td>1.867399e+08</td>\n",
       "      <td>7.745260e+05</td>\n",
       "      <td>-7.957169e+04</td>\n",
       "    </tr>\n",
       "    <tr>\n",
       "      <th>std</th>\n",
       "      <td>3.327580e+07</td>\n",
       "      <td>2.135414e+05</td>\n",
       "      <td>3.287174e+06</td>\n",
       "    </tr>\n",
       "    <tr>\n",
       "      <th>min</th>\n",
       "      <td>1.851242e+07</td>\n",
       "      <td>5.554100e+04</td>\n",
       "      <td>-1.358920e+08</td>\n",
       "    </tr>\n",
       "    <tr>\n",
       "      <th>25%</th>\n",
       "      <td>1.831541e+08</td>\n",
       "      <td>7.221950e+05</td>\n",
       "      <td>-9.100000e+00</td>\n",
       "    </tr>\n",
       "    <tr>\n",
       "      <th>50%</th>\n",
       "      <td>1.948587e+08</td>\n",
       "      <td>8.026730e+05</td>\n",
       "      <td>-4.600000e+00</td>\n",
       "    </tr>\n",
       "    <tr>\n",
       "      <th>75%</th>\n",
       "      <td>2.028220e+08</td>\n",
       "      <td>8.642820e+05</td>\n",
       "      <td>-1.800000e+00</td>\n",
       "    </tr>\n",
       "    <tr>\n",
       "      <th>max</th>\n",
       "      <td>3.071765e+08</td>\n",
       "      <td>2.350504e+06</td>\n",
       "      <td>-1.000000e-01</td>\n",
       "    </tr>\n",
       "  </tbody>\n",
       "</table>\n",
       "</div>"
      ],
      "text/plain": [
       "       id_field_values        id_ftp         value\n",
       "count     1.024900e+04  1.024900e+04  1.024900e+04\n",
       "mean      1.867399e+08  7.745260e+05 -7.957169e+04\n",
       "std       3.327580e+07  2.135414e+05  3.287174e+06\n",
       "min       1.851242e+07  5.554100e+04 -1.358920e+08\n",
       "25%       1.831541e+08  7.221950e+05 -9.100000e+00\n",
       "50%       1.948587e+08  8.026730e+05 -4.600000e+00\n",
       "75%       2.028220e+08  8.642820e+05 -1.800000e+00\n",
       "max       3.071765e+08  2.350504e+06 -1.000000e-01"
      ]
     },
     "execution_count": 30,
     "metadata": {},
     "output_type": "execute_result"
    }
   ],
   "source": [
    "ds1radiotemp_neg.describe()"
   ]
  },
  {
   "cell_type": "code",
   "execution_count": 31,
   "metadata": {},
   "outputs": [
    {
     "name": "stdout",
     "output_type": "stream",
     "text": [
      "25% Quantile:  -9.1 ##75% Quantile:  -1.8 ##IQR:  7.3 ##Q1 outlier:  -20.049999999999997\n"
     ]
    }
   ],
   "source": [
    "Q1 = ds1radiotemp_neg['value'].quantile(0.25)\n",
    "Q3 = ds1radiotemp_neg['value'].quantile(0.75)\n",
    "IQR = Q3 - Q1\n",
    "Q1out = Q1 - 1.5 * IQR\n",
    "print(\"25% Quantile: \", Q1, \"##75% Quantile: \", Q3, \"##IQR: \", IQR, \"##Q1 outlier: \", Q1out)"
   ]
  },
  {
   "cell_type": "code",
   "execution_count": 32,
   "metadata": {},
   "outputs": [],
   "source": [
    "#mybins = pd.qcut(ds1radiotemp['value'], q=4, labels = ['lower','low','high','higher'])\n",
    "cut_bins = [float(\"-inf\"), -30, -20, -10, 0, 10, 20, 30, 40, 50, 60, 70, 80, 90, 100,float(\"inf\")]\n",
    "mybins = pd.cut(ds1radiotemp['value'], bins=cut_bins)"
   ]
  },
  {
   "cell_type": "code",
   "execution_count": 33,
   "metadata": {},
   "outputs": [
    {
     "data": {
      "text/plain": [
       "(-inf, -30.0]        481\n",
       "(-30.0, -20.0]       228\n",
       "(-20.0, -10.0]      1487\n",
       "(-10.0, 0.0]        8731\n",
       "(0.0, 10.0]        53478\n",
       "(10.0, 20.0]      169256\n",
       "(20.0, 30.0]      329878\n",
       "(30.0, 40.0]      504262\n",
       "(40.0, 50.0]      509375\n",
       "(50.0, 60.0]      387066\n",
       "(60.0, 70.0]      293431\n",
       "(70.0, 80.0]      319676\n",
       "(80.0, 90.0]      336954\n",
       "(90.0, 100.0]     290258\n",
       "(100.0, inf]       33057\n",
       "Name: value, dtype: int64"
      ]
     },
     "execution_count": 33,
     "metadata": {},
     "output_type": "execute_result"
    }
   ],
   "source": [
    "mybins.value_counts().sort_index()"
   ]
  },
  {
   "cell_type": "code",
   "execution_count": 34,
   "metadata": {},
   "outputs": [],
   "source": [
    "ds1radiotemp['bin'] = mybins"
   ]
  },
  {
   "cell_type": "code",
   "execution_count": 35,
   "metadata": {},
   "outputs": [
    {
     "data": {
      "text/plain": [
       "<matplotlib.axes._subplots.AxesSubplot at 0x2229fce5a20>"
      ]
     },
     "execution_count": 35,
     "metadata": {},
     "output_type": "execute_result"
    },
    {
     "data": {
      "image/png": "[encoded data removed]",
      "text/plain": [
       "<Figure size 864x576 with 1 Axes>"
      ]
     },
     "metadata": {
      "needs_background": "light"
     },
     "output_type": "display_data"
    }
   ],
   "source": [
    "fig, ax = plt.subplots(figsize=(12,8)) \n",
    "df2 = ds1radiotemp.groupby('bin').count()\n",
    "df2['value'].plot(kind='bar', ax=ax)"
   ]
  },
  {
   "cell_type": "markdown",
   "metadata": {},
   "source": [
    "### Check temperature distribution per audit\n",
    "* Sounds different audit has large different range. Need found out the reason\n"
   ]
  },
  {
   "cell_type": "code",
   "execution_count": 36,
   "metadata": {},
   "outputs": [
    {
     "data": {
      "text/plain": [
       "array(['147', '746', '599167', ..., '1970427', '1970491', '1970516'],\n",
       "      dtype=object)"
      ]
     },
     "execution_count": 36,
     "metadata": {},
     "output_type": "execute_result"
    }
   ],
   "source": [
    "ds1radiotemp.id_audit.unique()"
   ]
  },
  {
   "cell_type": "code",
   "execution_count": 37,
   "metadata": {},
   "outputs": [
    {
     "data": {
      "text/plain": [
       "<matplotlib.axes._subplots.AxesSubplot at 0x2229fe90438>"
      ]
     },
     "execution_count": 37,
     "metadata": {},
     "output_type": "execute_result"
    },
    {
     "data": {
      "image/png": "[encoded data removed]",
      "text/plain": [
       "<Figure size 432x288 with 1 Axes>"
      ]
     },
     "metadata": {
      "needs_background": "light"
     },
     "output_type": "display_data"
    }
   ],
   "source": [
    "ds1radiotemp[(ds1radiotemp.id_audit == '147') | (ds1radiotemp.id_audit == '746')\n",
    "             | (ds1radiotemp.id_audit == '599167')\n",
    "             | (ds1radiotemp.id_audit == '1970427')\n",
    "             | (ds1radiotemp.id_audit == '1970491')\n",
    "             | (ds1radiotemp.id_audit == '1970516')].boxplot(column='value', by='id_audit')"
   ]
  },
  {
   "cell_type": "markdown",
   "metadata": {},
   "source": [
    "### Check temperature distribution per sensor\n",
    "* **It indicates 2 differnt temperature segments.** \n",
    "* This might explain S1/S2 connets to power amplifier, S3-S9 connects to ohter HW on the radio\n",
    "* Need find out which sensors are S1/S2, which are S3-S9, or just clustering into 2 groups sounds OK\n",
    "* When clustering, a little bit concern about outliers might influence, so that sensores are classified into different group."
   ]
  },
  {
   "cell_type": "code",
   "execution_count": 38,
   "metadata": {},
   "outputs": [],
   "source": [
    "pd.set_option('display.max_rows', 500)"
   ]
  },
  {
   "cell_type": "code",
   "execution_count": 39,
   "metadata": {},
   "outputs": [
    {
     "data": {
      "text/plain": [
       "field\n",
       "TSensor_P32_    56.80\n",
       "TSensor_P31_    56.80\n",
       "TSensor_D18_    56.50\n",
       "TSensor_P24_    56.00\n",
       "TSensor_T66_    56.00\n",
       "TSensor_P33_    55.50\n",
       "TSensor_P25_    55.10\n",
       "TSensor_T67_    55.10\n",
       "TSensor_T56_    53.50\n",
       "TSensor_T65_    53.50\n",
       "TSensor_P23_    53.50\n",
       "TSensor_T55_    53.50\n",
       "TSensor_R49_    52.90\n",
       "TSensor_R50_    52.90\n",
       "TSensor_P34_    52.50\n",
       "TSensor_D19_    52.10\n",
       "TSensor_P36_    52.00\n",
       "TSensor_P37_    51.60\n",
       "TSensor_T58_    51.50\n",
       "TSensor_T57_    51.50\n",
       "TSensor_T68_    51.50\n",
       "TSensor_P26_    51.50\n",
       "TSensor_P38_    51.30\n",
       "TSensor_P28_    51.00\n",
       "TSensor_T70_    50.90\n",
       "TSensor_R52_    50.80\n",
       "TSensor_R51_    50.80\n",
       "TSensor_R48_    50.60\n",
       "TSensor_R47_    50.60\n",
       "TSensor_P29_    50.50\n",
       "TSensor_T71_    50.50\n",
       "TSensor_P35_    50.00\n",
       "TSensor_C1_     50.00\n",
       "TSensor_P27_    49.50\n",
       "TSensor_T59_    49.50\n",
       "TSensor_T60_    49.50\n",
       "TSensor_T69_    49.50\n",
       "TSensor_D6_     49.50\n",
       "TSensor_T64_    49.40\n",
       "TSensor_P30_    49.10\n",
       "TSensor_T61_    49.10\n",
       "TSensor_T62_    49.10\n",
       "TSensor_T72_    49.10\n",
       "TSensor_W74_    49.00\n",
       "TSensor_W73_    49.00\n",
       "TSensor_R53_    47.80\n",
       "TSensor_R54_    47.80\n",
       "TSensor_D10_    47.30\n",
       "TSensor_T63_    47.20\n",
       "TSensor_D5_     45.30\n",
       "TSensor_D4_     45.30\n",
       "TSensor_D2_     44.70\n",
       "TSensor_D9_     44.50\n",
       "TSensor_D8_     44.30\n",
       "TSensor_P39_    34.40\n",
       "TSensor_P40_    34.00\n",
       "TSensor_P42_    34.00\n",
       "TSensor_P41_    33.75\n",
       "TSensor_D11_    30.50\n",
       "TSensor_D3_     28.50\n",
       "TSensor_D7_     28.00\n",
       "TSensor_P44_    27.50\n",
       "TSensor_P43_    27.50\n",
       "TSensor_D13_    26.30\n",
       "TSensor_P45_    24.50\n",
       "TSensor_P46_    24.50\n",
       "TSensor_D12_    20.90\n",
       "TSensor_D15_    20.60\n",
       "TSensor_D17_    17.40\n",
       "TSensor_D14_    14.50\n",
       "TSensor_D16_    13.80\n",
       "Name: value, dtype: float64"
      ]
     },
     "execution_count": 39,
     "metadata": {},
     "output_type": "execute_result"
    }
   ],
   "source": [
    "my_orderData = ds1radiotemp.groupby(by=[\"field\"])[\"value\"].median().sort_values(ascending=False)\n",
    "my_orderData"
   ]
  },
  {
   "cell_type": "code",
   "execution_count": 40,
   "metadata": {},
   "outputs": [
    {
     "data": {
      "text/plain": [
       "array([[<matplotlib.axes._subplots.AxesSubplot object at 0x00000222A0875D30>]],\n",
       "      dtype=object)"
      ]
     },
     "execution_count": 40,
     "metadata": {},
     "output_type": "execute_result"
    },
    {
     "data": {
      "image/png": "[encoded data removed]",
      "text/plain": [
       "<Figure size 432x288 with 1 Axes>"
      ]
     },
     "metadata": {
      "needs_background": "light"
     },
     "output_type": "display_data"
    }
   ],
   "source": [
    "ds1radiotemp[['field','value']].groupby('field').median().sort_values(ascending=False, by='value').hist()"
   ]
  },
  {
   "cell_type": "code",
   "execution_count": 41,
   "metadata": {},
   "outputs": [],
   "source": [
    "my_order = my_orderData.index"
   ]
  },
  {
   "cell_type": "code",
   "execution_count": 42,
   "metadata": {},
   "outputs": [
    {
     "data": {
      "text/plain": [
       "<matplotlib.axes._subplots.AxesSubplot at 0x222a0c43390>"
      ]
     },
     "execution_count": 42,
     "metadata": {},
     "output_type": "execute_result"
    },
    {
     "data": {
      "image/png": "[encoded data removed]",
      "text/plain": [
       "<Figure size 5760x576 with 1 Axes>"
      ]
     },
     "metadata": {
      "needs_background": "light"
     },
     "output_type": "display_data"
    }
   ],
   "source": [
    "fig, ax = plt.subplots(figsize=(80,8)) \n",
    "ax.set(ylim=(-10, 200))\n",
    "sns.boxplot(x='field', y='value', data=ds1radiotemp, ax=ax, order=my_order)"
   ]
  },
  {
   "cell_type": "markdown",
   "metadata": {},
   "source": [
    "### Check temperature distribution per customer\n",
    "* 2 customers similar distribution, although the 2nd customer more variance"
   ]
  },
  {
   "cell_type": "code",
   "execution_count": 43,
   "metadata": {},
   "outputs": [],
   "source": [
    "ds13join = ds1radiotemp.merge(ds3radioid,sort=False)"
   ]
  },
  {
   "cell_type": "code",
   "execution_count": 44,
   "metadata": {},
   "outputs": [
    {
     "data": {
      "text/html": [
       "<div>\n",
       "<style scoped>\n",
       "    .dataframe tbody tr th:only-of-type {\n",
       "        vertical-align: middle;\n",
       "    }\n",
       "\n",
       "    .dataframe tbody tr th {\n",
       "        vertical-align: top;\n",
       "    }\n",
       "\n",
       "    .dataframe thead th {\n",
       "        text-align: right;\n",
       "    }\n",
       "</style>\n",
       "<table border=\"1\" class=\"dataframe\">\n",
       "  <thead>\n",
       "    <tr style=\"text-align: right;\">\n",
       "      <th></th>\n",
       "      <th>id_field_values</th>\n",
       "      <th>id_ftp</th>\n",
       "      <th>id_audit</th>\n",
       "      <th>value</th>\n",
       "      <th>unit</th>\n",
       "      <th>field</th>\n",
       "      <th>bin</th>\n",
       "      <th>customer</th>\n",
       "      <th>serial</th>\n",
       "    </tr>\n",
       "  </thead>\n",
       "  <tbody>\n",
       "    <tr>\n",
       "      <th>0</th>\n",
       "      <td>41310</td>\n",
       "      <td>108</td>\n",
       "      <td>147</td>\n",
       "      <td>23.5</td>\n",
       "      <td>C</td>\n",
       "      <td>TSensor_D4_</td>\n",
       "      <td>(20.0, 30.0]</td>\n",
       "      <td>2</td>\n",
       "      <td>17087</td>\n",
       "    </tr>\n",
       "    <tr>\n",
       "      <th>1</th>\n",
       "      <td>41311</td>\n",
       "      <td>108</td>\n",
       "      <td>147</td>\n",
       "      <td>23.8</td>\n",
       "      <td>C</td>\n",
       "      <td>TSensor_D5_</td>\n",
       "      <td>(20.0, 30.0]</td>\n",
       "      <td>2</td>\n",
       "      <td>17087</td>\n",
       "    </tr>\n",
       "    <tr>\n",
       "      <th>2</th>\n",
       "      <td>41312</td>\n",
       "      <td>108</td>\n",
       "      <td>147</td>\n",
       "      <td>26.3</td>\n",
       "      <td>C</td>\n",
       "      <td>TSensor_D6_</td>\n",
       "      <td>(20.0, 30.0]</td>\n",
       "      <td>2</td>\n",
       "      <td>17087</td>\n",
       "    </tr>\n",
       "    <tr>\n",
       "      <th>3</th>\n",
       "      <td>41313</td>\n",
       "      <td>108</td>\n",
       "      <td>147</td>\n",
       "      <td>23.5</td>\n",
       "      <td>C</td>\n",
       "      <td>TSensor_D8_</td>\n",
       "      <td>(20.0, 30.0]</td>\n",
       "      <td>2</td>\n",
       "      <td>17087</td>\n",
       "    </tr>\n",
       "    <tr>\n",
       "      <th>4</th>\n",
       "      <td>41314</td>\n",
       "      <td>108</td>\n",
       "      <td>147</td>\n",
       "      <td>23.0</td>\n",
       "      <td>C</td>\n",
       "      <td>TSensor_D9_</td>\n",
       "      <td>(20.0, 30.0]</td>\n",
       "      <td>2</td>\n",
       "      <td>17087</td>\n",
       "    </tr>\n",
       "  </tbody>\n",
       "</table>\n",
       "</div>"
      ],
      "text/plain": [
       "   id_field_values  id_ftp id_audit  value unit        field           bin  \\\n",
       "0            41310     108      147   23.5    C  TSensor_D4_  (20.0, 30.0]   \n",
       "1            41311     108      147   23.8    C  TSensor_D5_  (20.0, 30.0]   \n",
       "2            41312     108      147   26.3    C  TSensor_D6_  (20.0, 30.0]   \n",
       "3            41313     108      147   23.5    C  TSensor_D8_  (20.0, 30.0]   \n",
       "4            41314     108      147   23.0    C  TSensor_D9_  (20.0, 30.0]   \n",
       "\n",
       "   customer  serial  \n",
       "0         2   17087  \n",
       "1         2   17087  \n",
       "2         2   17087  \n",
       "3         2   17087  \n",
       "4         2   17087  "
      ]
     },
     "execution_count": 44,
     "metadata": {},
     "output_type": "execute_result"
    }
   ],
   "source": [
    "ds13join.head()"
   ]
  },
  {
   "cell_type": "code",
   "execution_count": 45,
   "metadata": {},
   "outputs": [
    {
     "data": {
      "text/plain": [
       "<matplotlib.axes._subplots.AxesSubplot at 0x222a2b70630>"
      ]
     },
     "execution_count": 45,
     "metadata": {},
     "output_type": "execute_result"
    },
    {
     "data": {
      "image/png": "[encoded data removed]",
      "text/plain": [
       "<Figure size 1440x576 with 1 Axes>"
      ]
     },
     "metadata": {
      "needs_background": "light"
     },
     "output_type": "display_data"
    }
   ],
   "source": [
    "fig, ax = plt.subplots(figsize=(20,8)) \n",
    "ax.set(ylim=(-10, 200))\n",
    "sns.boxplot(x='customer', y='value', data=ds13join, ax=ax)"
   ]
  },
  {
   "cell_type": "code",
   "execution_count": null,
   "metadata": {},
   "outputs": [],
   "source": []
  }
 ],
 "metadata": {
  "kernelspec": {
   "display_name": "Python 3",
   "language": "python",
   "name": "python3"
  },
  "language_info": {
   "codemirror_mode": {
    "name": "ipython",
    "version": 3
   },
   "file_extension": ".py",
   "mimetype": "text/x-python",
   "name": "python",
   "nbconvert_exporter": "python",
   "pygments_lexer": "ipython3",
   "version": "3.6.5"
  }
 },
 "nbformat": 4,
 "nbformat_minor": 4
}
